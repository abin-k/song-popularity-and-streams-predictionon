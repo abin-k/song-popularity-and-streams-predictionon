{
  "nbformat": 4,
  "nbformat_minor": 0,
  "metadata": {
    "colab": {
      "provenance": []
    },
    "kernelspec": {
      "name": "python3",
      "display_name": "Python 3"
    },
    "language_info": {
      "name": "python"
    },
    "gpuClass": "standard"
  },
  "cells": [
    {
      "cell_type": "markdown",
      "source": [
        "## **Song Streams prediction**"
      ],
      "metadata": {
        "id": "tH3ecUAzGfrn"
      }
    },
    {
      "cell_type": "markdown",
      "source": [
        "**Imports**"
      ],
      "metadata": {
        "id": "OiV5n8RUHE0u"
      }
    },
    {
      "cell_type": "code",
      "source": [
        "import pandas as pd\n",
        "import numpy as np\n",
        "\n",
        "import matplotlib.pyplot as plt\n",
        "import seaborn as sns\n",
        "\n",
        "from sklearn.preprocessing import LabelEncoder , MinMaxScaler\n",
        "from sklearn.model_selection import train_test_split\n",
        "\n",
        "from sklearn.model_selection import GridSearchCV\n",
        "from xgboost import XGBRFRegressor\n",
        "from sklearn.ensemble import AdaBoostRegressor\n",
        "from sklearn.ensemble import GradientBoostingRegressor\n",
        "from sklearn.ensemble import RandomForestRegressor\n",
        "from sklearn.tree import DecisionTreeRegressor\n",
        "from sklearn.neighbors import KNeighborsRegressor\n",
        "from sklearn.svm import SVR\n",
        "\n",
        "import joblib"
      ],
      "metadata": {
        "id": "qiEs8g_SGemn"
      },
      "execution_count": 25,
      "outputs": []
    },
    {
      "cell_type": "markdown",
      "source": [
        "**DataSet**"
      ],
      "metadata": {
        "id": "qJbcxh2gEHZY"
      }
    },
    {
      "cell_type": "code",
      "execution_count": 4,
      "metadata": {
        "colab": {
          "base_uri": "https://localhost:8080/",
          "height": 560
        },
        "id": "JGnHRodHGWPO",
        "outputId": "96a19db3-c527-4e45-961c-32d65eebdcfb"
      },
      "outputs": [
        {
          "output_type": "execute_result",
          "data": {
            "text/plain": [
              "   Index  Highest Charting Position  Number of Times Charted  \\\n",
              "0      1                          1                        8   \n",
              "1      2                          2                        3   \n",
              "2      3                          1                       11   \n",
              "3      4                          3                        5   \n",
              "4      5                          5                        1   \n",
              "\n",
              "  Week of Highest Charting                          Song Name     Streams  \\\n",
              "0   2021-07-23--2021-07-30                            Beggin'  48,633,449   \n",
              "1   2021-07-23--2021-07-30          STAY (with Justin Bieber)  47,248,719   \n",
              "2   2021-06-25--2021-07-02                           good 4 u  40,162,559   \n",
              "3   2021-07-02--2021-07-09                         Bad Habits  37,799,456   \n",
              "4   2021-07-23--2021-07-30  INDUSTRY BABY (feat. Jack Harlow)  33,948,454   \n",
              "\n",
              "           Artist Artist Followers                 Song ID  \\\n",
              "0        Måneskin          3377762  3Wrjm47oTz2sjIgck11l5e   \n",
              "1   The Kid LAROI          2230022  5HCyWlXZPP0y6Gqq8TgA20   \n",
              "2  Olivia Rodrigo          6266514  4ZtFanR9U6ndgddUvNcjcG   \n",
              "3      Ed Sheeran         83293380  6PQ88X9TkUIAUIZJHW2upE   \n",
              "4       Lil Nas X          5473565  27NovPIUIRrOZoCHxABJwK   \n",
              "\n",
              "                                    Genre  ... Danceability Energy Loudness  \\\n",
              "0  ['indie rock italiano', 'italian pop']  ...        0.714    0.8   -4.808   \n",
              "1                  ['australian hip hop']  ...        0.591  0.764   -5.484   \n",
              "2                                 ['pop']  ...        0.563  0.664   -5.044   \n",
              "3                       ['pop', 'uk pop']  ...        0.808  0.897   -3.712   \n",
              "4           ['lgbtq+ hip hop', 'pop rap']  ...        0.736  0.704   -7.409   \n",
              "\n",
              "  Speechiness Acousticness Liveness    Tempo Duration (ms) Valence  Chord  \n",
              "0      0.0504        0.127    0.359  134.002        211560   0.589      B  \n",
              "1      0.0483       0.0383    0.103  169.928        141806   0.478  C#/Db  \n",
              "2       0.154        0.335   0.0849  166.928        178147   0.688      A  \n",
              "3      0.0348       0.0469    0.364  126.026        231041   0.591      B  \n",
              "4      0.0615       0.0203   0.0501  149.995        212000   0.894  D#/Eb  \n",
              "\n",
              "[5 rows x 23 columns]"
            ],
            "text/html": [
              "\n",
              "  <div id=\"df-33722a9f-2389-4865-bceb-adad213e44b2\">\n",
              "    <div class=\"colab-df-container\">\n",
              "      <div>\n",
              "<style scoped>\n",
              "    .dataframe tbody tr th:only-of-type {\n",
              "        vertical-align: middle;\n",
              "    }\n",
              "\n",
              "    .dataframe tbody tr th {\n",
              "        vertical-align: top;\n",
              "    }\n",
              "\n",
              "    .dataframe thead th {\n",
              "        text-align: right;\n",
              "    }\n",
              "</style>\n",
              "<table border=\"1\" class=\"dataframe\">\n",
              "  <thead>\n",
              "    <tr style=\"text-align: right;\">\n",
              "      <th></th>\n",
              "      <th>Index</th>\n",
              "      <th>Highest Charting Position</th>\n",
              "      <th>Number of Times Charted</th>\n",
              "      <th>Week of Highest Charting</th>\n",
              "      <th>Song Name</th>\n",
              "      <th>Streams</th>\n",
              "      <th>Artist</th>\n",
              "      <th>Artist Followers</th>\n",
              "      <th>Song ID</th>\n",
              "      <th>Genre</th>\n",
              "      <th>...</th>\n",
              "      <th>Danceability</th>\n",
              "      <th>Energy</th>\n",
              "      <th>Loudness</th>\n",
              "      <th>Speechiness</th>\n",
              "      <th>Acousticness</th>\n",
              "      <th>Liveness</th>\n",
              "      <th>Tempo</th>\n",
              "      <th>Duration (ms)</th>\n",
              "      <th>Valence</th>\n",
              "      <th>Chord</th>\n",
              "    </tr>\n",
              "  </thead>\n",
              "  <tbody>\n",
              "    <tr>\n",
              "      <th>0</th>\n",
              "      <td>1</td>\n",
              "      <td>1</td>\n",
              "      <td>8</td>\n",
              "      <td>2021-07-23--2021-07-30</td>\n",
              "      <td>Beggin'</td>\n",
              "      <td>48,633,449</td>\n",
              "      <td>Måneskin</td>\n",
              "      <td>3377762</td>\n",
              "      <td>3Wrjm47oTz2sjIgck11l5e</td>\n",
              "      <td>['indie rock italiano', 'italian pop']</td>\n",
              "      <td>...</td>\n",
              "      <td>0.714</td>\n",
              "      <td>0.8</td>\n",
              "      <td>-4.808</td>\n",
              "      <td>0.0504</td>\n",
              "      <td>0.127</td>\n",
              "      <td>0.359</td>\n",
              "      <td>134.002</td>\n",
              "      <td>211560</td>\n",
              "      <td>0.589</td>\n",
              "      <td>B</td>\n",
              "    </tr>\n",
              "    <tr>\n",
              "      <th>1</th>\n",
              "      <td>2</td>\n",
              "      <td>2</td>\n",
              "      <td>3</td>\n",
              "      <td>2021-07-23--2021-07-30</td>\n",
              "      <td>STAY (with Justin Bieber)</td>\n",
              "      <td>47,248,719</td>\n",
              "      <td>The Kid LAROI</td>\n",
              "      <td>2230022</td>\n",
              "      <td>5HCyWlXZPP0y6Gqq8TgA20</td>\n",
              "      <td>['australian hip hop']</td>\n",
              "      <td>...</td>\n",
              "      <td>0.591</td>\n",
              "      <td>0.764</td>\n",
              "      <td>-5.484</td>\n",
              "      <td>0.0483</td>\n",
              "      <td>0.0383</td>\n",
              "      <td>0.103</td>\n",
              "      <td>169.928</td>\n",
              "      <td>141806</td>\n",
              "      <td>0.478</td>\n",
              "      <td>C#/Db</td>\n",
              "    </tr>\n",
              "    <tr>\n",
              "      <th>2</th>\n",
              "      <td>3</td>\n",
              "      <td>1</td>\n",
              "      <td>11</td>\n",
              "      <td>2021-06-25--2021-07-02</td>\n",
              "      <td>good 4 u</td>\n",
              "      <td>40,162,559</td>\n",
              "      <td>Olivia Rodrigo</td>\n",
              "      <td>6266514</td>\n",
              "      <td>4ZtFanR9U6ndgddUvNcjcG</td>\n",
              "      <td>['pop']</td>\n",
              "      <td>...</td>\n",
              "      <td>0.563</td>\n",
              "      <td>0.664</td>\n",
              "      <td>-5.044</td>\n",
              "      <td>0.154</td>\n",
              "      <td>0.335</td>\n",
              "      <td>0.0849</td>\n",
              "      <td>166.928</td>\n",
              "      <td>178147</td>\n",
              "      <td>0.688</td>\n",
              "      <td>A</td>\n",
              "    </tr>\n",
              "    <tr>\n",
              "      <th>3</th>\n",
              "      <td>4</td>\n",
              "      <td>3</td>\n",
              "      <td>5</td>\n",
              "      <td>2021-07-02--2021-07-09</td>\n",
              "      <td>Bad Habits</td>\n",
              "      <td>37,799,456</td>\n",
              "      <td>Ed Sheeran</td>\n",
              "      <td>83293380</td>\n",
              "      <td>6PQ88X9TkUIAUIZJHW2upE</td>\n",
              "      <td>['pop', 'uk pop']</td>\n",
              "      <td>...</td>\n",
              "      <td>0.808</td>\n",
              "      <td>0.897</td>\n",
              "      <td>-3.712</td>\n",
              "      <td>0.0348</td>\n",
              "      <td>0.0469</td>\n",
              "      <td>0.364</td>\n",
              "      <td>126.026</td>\n",
              "      <td>231041</td>\n",
              "      <td>0.591</td>\n",
              "      <td>B</td>\n",
              "    </tr>\n",
              "    <tr>\n",
              "      <th>4</th>\n",
              "      <td>5</td>\n",
              "      <td>5</td>\n",
              "      <td>1</td>\n",
              "      <td>2021-07-23--2021-07-30</td>\n",
              "      <td>INDUSTRY BABY (feat. Jack Harlow)</td>\n",
              "      <td>33,948,454</td>\n",
              "      <td>Lil Nas X</td>\n",
              "      <td>5473565</td>\n",
              "      <td>27NovPIUIRrOZoCHxABJwK</td>\n",
              "      <td>['lgbtq+ hip hop', 'pop rap']</td>\n",
              "      <td>...</td>\n",
              "      <td>0.736</td>\n",
              "      <td>0.704</td>\n",
              "      <td>-7.409</td>\n",
              "      <td>0.0615</td>\n",
              "      <td>0.0203</td>\n",
              "      <td>0.0501</td>\n",
              "      <td>149.995</td>\n",
              "      <td>212000</td>\n",
              "      <td>0.894</td>\n",
              "      <td>D#/Eb</td>\n",
              "    </tr>\n",
              "  </tbody>\n",
              "</table>\n",
              "<p>5 rows × 23 columns</p>\n",
              "</div>\n",
              "      <button class=\"colab-df-convert\" onclick=\"convertToInteractive('df-33722a9f-2389-4865-bceb-adad213e44b2')\"\n",
              "              title=\"Convert this dataframe to an interactive table.\"\n",
              "              style=\"display:none;\">\n",
              "        \n",
              "  <svg xmlns=\"http://www.w3.org/2000/svg\" height=\"24px\"viewBox=\"0 0 24 24\"\n",
              "       width=\"24px\">\n",
              "    <path d=\"M0 0h24v24H0V0z\" fill=\"none\"/>\n",
              "    <path d=\"M18.56 5.44l.94 2.06.94-2.06 2.06-.94-2.06-.94-.94-2.06-.94 2.06-2.06.94zm-11 1L8.5 8.5l.94-2.06 2.06-.94-2.06-.94L8.5 2.5l-.94 2.06-2.06.94zm10 10l.94 2.06.94-2.06 2.06-.94-2.06-.94-.94-2.06-.94 2.06-2.06.94z\"/><path d=\"M17.41 7.96l-1.37-1.37c-.4-.4-.92-.59-1.43-.59-.52 0-1.04.2-1.43.59L10.3 9.45l-7.72 7.72c-.78.78-.78 2.05 0 2.83L4 21.41c.39.39.9.59 1.41.59.51 0 1.02-.2 1.41-.59l7.78-7.78 2.81-2.81c.8-.78.8-2.07 0-2.86zM5.41 20L4 18.59l7.72-7.72 1.47 1.35L5.41 20z\"/>\n",
              "  </svg>\n",
              "      </button>\n",
              "      \n",
              "  <style>\n",
              "    .colab-df-container {\n",
              "      display:flex;\n",
              "      flex-wrap:wrap;\n",
              "      gap: 12px;\n",
              "    }\n",
              "\n",
              "    .colab-df-convert {\n",
              "      background-color: #E8F0FE;\n",
              "      border: none;\n",
              "      border-radius: 50%;\n",
              "      cursor: pointer;\n",
              "      display: none;\n",
              "      fill: #1967D2;\n",
              "      height: 32px;\n",
              "      padding: 0 0 0 0;\n",
              "      width: 32px;\n",
              "    }\n",
              "\n",
              "    .colab-df-convert:hover {\n",
              "      background-color: #E2EBFA;\n",
              "      box-shadow: 0px 1px 2px rgba(60, 64, 67, 0.3), 0px 1px 3px 1px rgba(60, 64, 67, 0.15);\n",
              "      fill: #174EA6;\n",
              "    }\n",
              "\n",
              "    [theme=dark] .colab-df-convert {\n",
              "      background-color: #3B4455;\n",
              "      fill: #D2E3FC;\n",
              "    }\n",
              "\n",
              "    [theme=dark] .colab-df-convert:hover {\n",
              "      background-color: #434B5C;\n",
              "      box-shadow: 0px 1px 3px 1px rgba(0, 0, 0, 0.15);\n",
              "      filter: drop-shadow(0px 1px 2px rgba(0, 0, 0, 0.3));\n",
              "      fill: #FFFFFF;\n",
              "    }\n",
              "  </style>\n",
              "\n",
              "      <script>\n",
              "        const buttonEl =\n",
              "          document.querySelector('#df-33722a9f-2389-4865-bceb-adad213e44b2 button.colab-df-convert');\n",
              "        buttonEl.style.display =\n",
              "          google.colab.kernel.accessAllowed ? 'block' : 'none';\n",
              "\n",
              "        async function convertToInteractive(key) {\n",
              "          const element = document.querySelector('#df-33722a9f-2389-4865-bceb-adad213e44b2');\n",
              "          const dataTable =\n",
              "            await google.colab.kernel.invokeFunction('convertToInteractive',\n",
              "                                                     [key], {});\n",
              "          if (!dataTable) return;\n",
              "\n",
              "          const docLinkHtml = 'Like what you see? Visit the ' +\n",
              "            '<a target=\"_blank\" href=https://colab.research.google.com/notebooks/data_table.ipynb>data table notebook</a>'\n",
              "            + ' to learn more about interactive tables.';\n",
              "          element.innerHTML = '';\n",
              "          dataTable['output_type'] = 'display_data';\n",
              "          await google.colab.output.renderOutput(dataTable, element);\n",
              "          const docLink = document.createElement('div');\n",
              "          docLink.innerHTML = docLinkHtml;\n",
              "          element.appendChild(docLink);\n",
              "        }\n",
              "      </script>\n",
              "    </div>\n",
              "  </div>\n",
              "  "
            ]
          },
          "metadata": {},
          "execution_count": 4
        }
      ],
      "source": [
        "data = pd.read_csv('/content/drive/MyDrive/Colab Notebooks/project/ML/song popularity and streams prediction/spotify_dataset.csv')  \n",
        "data.head()"
      ]
    },
    {
      "cell_type": "markdown",
      "source": [
        "**Preprocessing**"
      ],
      "metadata": {
        "id": "36g9ROySHOgU"
      }
    },
    {
      "cell_type": "code",
      "source": [
        "data=data.drop(['Index','Song Name','Song ID','Week of Highest Charting','Weeks Charted'],axis=1)"
      ],
      "metadata": {
        "id": "iI5Q1OeOHxKE"
      },
      "execution_count": 5,
      "outputs": []
    },
    {
      "cell_type": "code",
      "source": [
        "data.isnull().sum()"
      ],
      "metadata": {
        "colab": {
          "base_uri": "https://localhost:8080/"
        },
        "id": "RvEMgGqJGqKq",
        "outputId": "859d3784-2f10-41d0-c69d-683048f45615"
      },
      "execution_count": 6,
      "outputs": [
        {
          "output_type": "execute_result",
          "data": {
            "text/plain": [
              "Highest Charting Position    0\n",
              "Number of Times Charted      0\n",
              "Streams                      0\n",
              "Artist                       0\n",
              "Artist Followers             0\n",
              "Genre                        0\n",
              "Release Date                 0\n",
              "Popularity                   0\n",
              "Danceability                 0\n",
              "Energy                       0\n",
              "Loudness                     0\n",
              "Speechiness                  0\n",
              "Acousticness                 0\n",
              "Liveness                     0\n",
              "Tempo                        0\n",
              "Duration (ms)                0\n",
              "Valence                      0\n",
              "Chord                        0\n",
              "dtype: int64"
            ]
          },
          "metadata": {},
          "execution_count": 6
        }
      ]
    },
    {
      "cell_type": "code",
      "source": [
        "data.dtypes"
      ],
      "metadata": {
        "colab": {
          "base_uri": "https://localhost:8080/"
        },
        "id": "VY8TnVFRHLv3",
        "outputId": "7774f815-6d9c-4489-b10e-46d66f6bf7ae"
      },
      "execution_count": 7,
      "outputs": [
        {
          "output_type": "execute_result",
          "data": {
            "text/plain": [
              "Highest Charting Position     int64\n",
              "Number of Times Charted       int64\n",
              "Streams                      object\n",
              "Artist                       object\n",
              "Artist Followers             object\n",
              "Genre                        object\n",
              "Release Date                 object\n",
              "Popularity                   object\n",
              "Danceability                 object\n",
              "Energy                       object\n",
              "Loudness                     object\n",
              "Speechiness                  object\n",
              "Acousticness                 object\n",
              "Liveness                     object\n",
              "Tempo                        object\n",
              "Duration (ms)                object\n",
              "Valence                      object\n",
              "Chord                        object\n",
              "dtype: object"
            ]
          },
          "metadata": {},
          "execution_count": 7
        }
      ]
    },
    {
      "cell_type": "markdown",
      "source": [
        "converting objects"
      ],
      "metadata": {
        "id": "afk0DHXuEUwn"
      }
    },
    {
      "cell_type": "code",
      "source": [
        "data['Artist Followers']=pd.to_numeric(data['Artist Followers'],errors='coerce')\n",
        "data['Popularity']=pd.to_numeric(data['Popularity'],errors='coerce')\n",
        "data['Danceability']=pd.to_numeric(data['Danceability'],errors='coerce')\n",
        "data['Energy']=pd.to_numeric(data['Energy'],errors='coerce')\n",
        "data['Loudness']=pd.to_numeric(data['Loudness'],errors='coerce')\n",
        "data['Speechiness']=pd.to_numeric(data['Speechiness'],errors='coerce')\n",
        "data['Acousticness']=pd.to_numeric(data['Acousticness'],errors='coerce')\n",
        "data['Liveness']=pd.to_numeric(data['Liveness'],errors='coerce')\n",
        "data['Tempo']=pd.to_numeric(data['Tempo'],errors='coerce')\n",
        "data['Duration (ms)']=pd.to_numeric(data['Duration (ms)'],errors='coerce')\n",
        "data['Valence']=pd.to_numeric(data['Valence'],errors='coerce')"
      ],
      "metadata": {
        "id": "2GHzZUZLHe03"
      },
      "execution_count": 8,
      "outputs": []
    },
    {
      "cell_type": "code",
      "source": [
        "data.dtypes"
      ],
      "metadata": {
        "colab": {
          "base_uri": "https://localhost:8080/"
        },
        "id": "HTDp057dKSYn",
        "outputId": "58bb54ef-5446-4632-8d4a-4f6e87acd5ab"
      },
      "execution_count": 9,
      "outputs": [
        {
          "output_type": "execute_result",
          "data": {
            "text/plain": [
              "Highest Charting Position      int64\n",
              "Number of Times Charted        int64\n",
              "Streams                       object\n",
              "Artist                        object\n",
              "Artist Followers             float64\n",
              "Genre                         object\n",
              "Release Date                  object\n",
              "Popularity                   float64\n",
              "Danceability                 float64\n",
              "Energy                       float64\n",
              "Loudness                     float64\n",
              "Speechiness                  float64\n",
              "Acousticness                 float64\n",
              "Liveness                     float64\n",
              "Tempo                        float64\n",
              "Duration (ms)                float64\n",
              "Valence                      float64\n",
              "Chord                         object\n",
              "dtype: object"
            ]
          },
          "metadata": {},
          "execution_count": 9
        }
      ]
    },
    {
      "cell_type": "markdown",
      "source": [
        "removing coma b/w int in streams"
      ],
      "metadata": {
        "id": "djkaoMqRI8C6"
      }
    },
    {
      "cell_type": "code",
      "source": [
        "data['Streams'][1]"
      ],
      "metadata": {
        "colab": {
          "base_uri": "https://localhost:8080/",
          "height": 35
        },
        "id": "0TdFyrtmG1e2",
        "outputId": "f44a268a-62ba-4f48-b9ab-016ea7755a64"
      },
      "execution_count": 10,
      "outputs": [
        {
          "output_type": "execute_result",
          "data": {
            "text/plain": [
              "'47,248,719'"
            ],
            "application/vnd.google.colaboratory.intrinsic+json": {
              "type": "string"
            }
          },
          "metadata": {},
          "execution_count": 10
        }
      ]
    },
    {
      "cell_type": "code",
      "source": [
        "data['Streams']=pd.to_numeric(data['Streams'].str.replace(\",\", \"\"))\n",
        "data['Streams'][1]"
      ],
      "metadata": {
        "colab": {
          "base_uri": "https://localhost:8080/"
        },
        "id": "8tk4LAuhHQSv",
        "outputId": "9e441de4-1dd8-4f6f-fec1-83c7e17c4187"
      },
      "execution_count": 11,
      "outputs": [
        {
          "output_type": "execute_result",
          "data": {
            "text/plain": [
              "47248719"
            ]
          },
          "metadata": {},
          "execution_count": 11
        }
      ]
    },
    {
      "cell_type": "markdown",
      "source": [
        "extracting month from date"
      ],
      "metadata": {
        "id": "2a_QHEmIF9AW"
      }
    },
    {
      "cell_type": "code",
      "source": [
        "data['Release Date']=pd.to_datetime(data['Release Date'],infer_datetime_format=True,errors='coerce')\n",
        "data['month']=data['Release Date'].dt.month\n",
        "\n",
        "data=data.drop('Release Date',axis=1)\n",
        "data.head(2)"
      ],
      "metadata": {
        "colab": {
          "base_uri": "https://localhost:8080/",
          "height": 298
        },
        "id": "7Hx5sRdLFd_C",
        "outputId": "05a323db-cb4c-41b7-dc82-1783ecc394c2"
      },
      "execution_count": 12,
      "outputs": [
        {
          "output_type": "execute_result",
          "data": {
            "text/plain": [
              "   Highest Charting Position  Number of Times Charted   Streams  \\\n",
              "0                          1                        8  48633449   \n",
              "1                          2                        3  47248719   \n",
              "\n",
              "          Artist  Artist Followers                                   Genre  \\\n",
              "0       Måneskin         3377762.0  ['indie rock italiano', 'italian pop']   \n",
              "1  The Kid LAROI         2230022.0                  ['australian hip hop']   \n",
              "\n",
              "   Popularity  Danceability  Energy  Loudness  Speechiness  Acousticness  \\\n",
              "0       100.0         0.714   0.800    -4.808       0.0504        0.1270   \n",
              "1        99.0         0.591   0.764    -5.484       0.0483        0.0383   \n",
              "\n",
              "   Liveness    Tempo  Duration (ms)  Valence  Chord  month  \n",
              "0     0.359  134.002       211560.0    0.589      B   12.0  \n",
              "1     0.103  169.928       141806.0    0.478  C#/Db    7.0  "
            ],
            "text/html": [
              "\n",
              "  <div id=\"df-4f96960f-f6dd-4a37-b406-807dc52a924b\">\n",
              "    <div class=\"colab-df-container\">\n",
              "      <div>\n",
              "<style scoped>\n",
              "    .dataframe tbody tr th:only-of-type {\n",
              "        vertical-align: middle;\n",
              "    }\n",
              "\n",
              "    .dataframe tbody tr th {\n",
              "        vertical-align: top;\n",
              "    }\n",
              "\n",
              "    .dataframe thead th {\n",
              "        text-align: right;\n",
              "    }\n",
              "</style>\n",
              "<table border=\"1\" class=\"dataframe\">\n",
              "  <thead>\n",
              "    <tr style=\"text-align: right;\">\n",
              "      <th></th>\n",
              "      <th>Highest Charting Position</th>\n",
              "      <th>Number of Times Charted</th>\n",
              "      <th>Streams</th>\n",
              "      <th>Artist</th>\n",
              "      <th>Artist Followers</th>\n",
              "      <th>Genre</th>\n",
              "      <th>Popularity</th>\n",
              "      <th>Danceability</th>\n",
              "      <th>Energy</th>\n",
              "      <th>Loudness</th>\n",
              "      <th>Speechiness</th>\n",
              "      <th>Acousticness</th>\n",
              "      <th>Liveness</th>\n",
              "      <th>Tempo</th>\n",
              "      <th>Duration (ms)</th>\n",
              "      <th>Valence</th>\n",
              "      <th>Chord</th>\n",
              "      <th>month</th>\n",
              "    </tr>\n",
              "  </thead>\n",
              "  <tbody>\n",
              "    <tr>\n",
              "      <th>0</th>\n",
              "      <td>1</td>\n",
              "      <td>8</td>\n",
              "      <td>48633449</td>\n",
              "      <td>Måneskin</td>\n",
              "      <td>3377762.0</td>\n",
              "      <td>['indie rock italiano', 'italian pop']</td>\n",
              "      <td>100.0</td>\n",
              "      <td>0.714</td>\n",
              "      <td>0.800</td>\n",
              "      <td>-4.808</td>\n",
              "      <td>0.0504</td>\n",
              "      <td>0.1270</td>\n",
              "      <td>0.359</td>\n",
              "      <td>134.002</td>\n",
              "      <td>211560.0</td>\n",
              "      <td>0.589</td>\n",
              "      <td>B</td>\n",
              "      <td>12.0</td>\n",
              "    </tr>\n",
              "    <tr>\n",
              "      <th>1</th>\n",
              "      <td>2</td>\n",
              "      <td>3</td>\n",
              "      <td>47248719</td>\n",
              "      <td>The Kid LAROI</td>\n",
              "      <td>2230022.0</td>\n",
              "      <td>['australian hip hop']</td>\n",
              "      <td>99.0</td>\n",
              "      <td>0.591</td>\n",
              "      <td>0.764</td>\n",
              "      <td>-5.484</td>\n",
              "      <td>0.0483</td>\n",
              "      <td>0.0383</td>\n",
              "      <td>0.103</td>\n",
              "      <td>169.928</td>\n",
              "      <td>141806.0</td>\n",
              "      <td>0.478</td>\n",
              "      <td>C#/Db</td>\n",
              "      <td>7.0</td>\n",
              "    </tr>\n",
              "  </tbody>\n",
              "</table>\n",
              "</div>\n",
              "      <button class=\"colab-df-convert\" onclick=\"convertToInteractive('df-4f96960f-f6dd-4a37-b406-807dc52a924b')\"\n",
              "              title=\"Convert this dataframe to an interactive table.\"\n",
              "              style=\"display:none;\">\n",
              "        \n",
              "  <svg xmlns=\"http://www.w3.org/2000/svg\" height=\"24px\"viewBox=\"0 0 24 24\"\n",
              "       width=\"24px\">\n",
              "    <path d=\"M0 0h24v24H0V0z\" fill=\"none\"/>\n",
              "    <path d=\"M18.56 5.44l.94 2.06.94-2.06 2.06-.94-2.06-.94-.94-2.06-.94 2.06-2.06.94zm-11 1L8.5 8.5l.94-2.06 2.06-.94-2.06-.94L8.5 2.5l-.94 2.06-2.06.94zm10 10l.94 2.06.94-2.06 2.06-.94-2.06-.94-.94-2.06-.94 2.06-2.06.94z\"/><path d=\"M17.41 7.96l-1.37-1.37c-.4-.4-.92-.59-1.43-.59-.52 0-1.04.2-1.43.59L10.3 9.45l-7.72 7.72c-.78.78-.78 2.05 0 2.83L4 21.41c.39.39.9.59 1.41.59.51 0 1.02-.2 1.41-.59l7.78-7.78 2.81-2.81c.8-.78.8-2.07 0-2.86zM5.41 20L4 18.59l7.72-7.72 1.47 1.35L5.41 20z\"/>\n",
              "  </svg>\n",
              "      </button>\n",
              "      \n",
              "  <style>\n",
              "    .colab-df-container {\n",
              "      display:flex;\n",
              "      flex-wrap:wrap;\n",
              "      gap: 12px;\n",
              "    }\n",
              "\n",
              "    .colab-df-convert {\n",
              "      background-color: #E8F0FE;\n",
              "      border: none;\n",
              "      border-radius: 50%;\n",
              "      cursor: pointer;\n",
              "      display: none;\n",
              "      fill: #1967D2;\n",
              "      height: 32px;\n",
              "      padding: 0 0 0 0;\n",
              "      width: 32px;\n",
              "    }\n",
              "\n",
              "    .colab-df-convert:hover {\n",
              "      background-color: #E2EBFA;\n",
              "      box-shadow: 0px 1px 2px rgba(60, 64, 67, 0.3), 0px 1px 3px 1px rgba(60, 64, 67, 0.15);\n",
              "      fill: #174EA6;\n",
              "    }\n",
              "\n",
              "    [theme=dark] .colab-df-convert {\n",
              "      background-color: #3B4455;\n",
              "      fill: #D2E3FC;\n",
              "    }\n",
              "\n",
              "    [theme=dark] .colab-df-convert:hover {\n",
              "      background-color: #434B5C;\n",
              "      box-shadow: 0px 1px 3px 1px rgba(0, 0, 0, 0.15);\n",
              "      filter: drop-shadow(0px 1px 2px rgba(0, 0, 0, 0.3));\n",
              "      fill: #FFFFFF;\n",
              "    }\n",
              "  </style>\n",
              "\n",
              "      <script>\n",
              "        const buttonEl =\n",
              "          document.querySelector('#df-4f96960f-f6dd-4a37-b406-807dc52a924b button.colab-df-convert');\n",
              "        buttonEl.style.display =\n",
              "          google.colab.kernel.accessAllowed ? 'block' : 'none';\n",
              "\n",
              "        async function convertToInteractive(key) {\n",
              "          const element = document.querySelector('#df-4f96960f-f6dd-4a37-b406-807dc52a924b');\n",
              "          const dataTable =\n",
              "            await google.colab.kernel.invokeFunction('convertToInteractive',\n",
              "                                                     [key], {});\n",
              "          if (!dataTable) return;\n",
              "\n",
              "          const docLinkHtml = 'Like what you see? Visit the ' +\n",
              "            '<a target=\"_blank\" href=https://colab.research.google.com/notebooks/data_table.ipynb>data table notebook</a>'\n",
              "            + ' to learn more about interactive tables.';\n",
              "          element.innerHTML = '';\n",
              "          dataTable['output_type'] = 'display_data';\n",
              "          await google.colab.output.renderOutput(dataTable, element);\n",
              "          const docLink = document.createElement('div');\n",
              "          docLink.innerHTML = docLinkHtml;\n",
              "          element.appendChild(docLink);\n",
              "        }\n",
              "      </script>\n",
              "    </div>\n",
              "  </div>\n",
              "  "
            ]
          },
          "metadata": {},
          "execution_count": 12
        }
      ]
    },
    {
      "cell_type": "code",
      "source": [
        "data.isnull().sum()"
      ],
      "metadata": {
        "colab": {
          "base_uri": "https://localhost:8080/"
        },
        "id": "szfsJofyEt8_",
        "outputId": "d76d78e7-5c4a-494a-9a01-7d7844cc65e3"
      },
      "execution_count": 13,
      "outputs": [
        {
          "output_type": "execute_result",
          "data": {
            "text/plain": [
              "Highest Charting Position     0\n",
              "Number of Times Charted       0\n",
              "Streams                       0\n",
              "Artist                        0\n",
              "Artist Followers             11\n",
              "Genre                         0\n",
              "Popularity                   11\n",
              "Danceability                 11\n",
              "Energy                       11\n",
              "Loudness                     11\n",
              "Speechiness                  11\n",
              "Acousticness                 11\n",
              "Liveness                     11\n",
              "Tempo                        11\n",
              "Duration (ms)                11\n",
              "Valence                      11\n",
              "Chord                         0\n",
              "month                        11\n",
              "dtype: int64"
            ]
          },
          "metadata": {},
          "execution_count": 13
        }
      ]
    },
    {
      "cell_type": "markdown",
      "source": [
        "drop null values"
      ],
      "metadata": {
        "id": "3s7k_q2bFt7q"
      }
    },
    {
      "cell_type": "code",
      "source": [
        "data=data.dropna()\n",
        "data.isnull().sum()"
      ],
      "metadata": {
        "colab": {
          "base_uri": "https://localhost:8080/"
        },
        "id": "FLRFfuAeFQ4U",
        "outputId": "893f087c-f48b-4774-c5f0-eeb1c475ea33"
      },
      "execution_count": 14,
      "outputs": [
        {
          "output_type": "execute_result",
          "data": {
            "text/plain": [
              "Highest Charting Position    0\n",
              "Number of Times Charted      0\n",
              "Streams                      0\n",
              "Artist                       0\n",
              "Artist Followers             0\n",
              "Genre                        0\n",
              "Popularity                   0\n",
              "Danceability                 0\n",
              "Energy                       0\n",
              "Loudness                     0\n",
              "Speechiness                  0\n",
              "Acousticness                 0\n",
              "Liveness                     0\n",
              "Tempo                        0\n",
              "Duration (ms)                0\n",
              "Valence                      0\n",
              "Chord                        0\n",
              "month                        0\n",
              "dtype: int64"
            ]
          },
          "metadata": {},
          "execution_count": 14
        }
      ]
    },
    {
      "cell_type": "markdown",
      "source": [
        "LabelEncoding"
      ],
      "metadata": {
        "id": "ii0GFQGPJYVv"
      }
    },
    {
      "cell_type": "code",
      "source": [
        "le_Artist=LabelEncoder()\n",
        "le_Genre=LabelEncoder()\n",
        "le_Chord=LabelEncoder()\n",
        "\n",
        "data['Artist']=le_Artist.fit_transform(data['Artist'])\n",
        "data['Genre']=le_Genre.fit_transform(data['Genre'])\n",
        "data['Chord']=le_Chord.fit_transform(data['Chord'])\n",
        "\n",
        "data.head(2)"
      ],
      "metadata": {
        "id": "vtL_DChhGFSd",
        "colab": {
          "base_uri": "https://localhost:8080/",
          "height": 228
        },
        "outputId": "a14d343b-77c6-4057-96d1-5ffdd291eb34"
      },
      "execution_count": 15,
      "outputs": [
        {
          "output_type": "execute_result",
          "data": {
            "text/plain": [
              "   Highest Charting Position  Number of Times Charted   Streams  Artist  \\\n",
              "0                          1                        8  48633449     469   \n",
              "1                          2                        3  47248719     643   \n",
              "\n",
              "   Artist Followers  Genre  Popularity  Danceability  Energy  Loudness  \\\n",
              "0         3377762.0    276       100.0         0.714   0.800    -4.808   \n",
              "1         2230022.0     63        99.0         0.591   0.764    -5.484   \n",
              "\n",
              "   Speechiness  Acousticness  Liveness    Tempo  Duration (ms)  Valence  \\\n",
              "0       0.0504        0.1270     0.359  134.002       211560.0    0.589   \n",
              "1       0.0483        0.0383     0.103  169.928       141806.0    0.478   \n",
              "\n",
              "   Chord  month  \n",
              "0      2   12.0  \n",
              "1      4    7.0  "
            ],
            "text/html": [
              "\n",
              "  <div id=\"df-493a5ed7-6c0b-4ee7-90a2-f51d3a64fc89\">\n",
              "    <div class=\"colab-df-container\">\n",
              "      <div>\n",
              "<style scoped>\n",
              "    .dataframe tbody tr th:only-of-type {\n",
              "        vertical-align: middle;\n",
              "    }\n",
              "\n",
              "    .dataframe tbody tr th {\n",
              "        vertical-align: top;\n",
              "    }\n",
              "\n",
              "    .dataframe thead th {\n",
              "        text-align: right;\n",
              "    }\n",
              "</style>\n",
              "<table border=\"1\" class=\"dataframe\">\n",
              "  <thead>\n",
              "    <tr style=\"text-align: right;\">\n",
              "      <th></th>\n",
              "      <th>Highest Charting Position</th>\n",
              "      <th>Number of Times Charted</th>\n",
              "      <th>Streams</th>\n",
              "      <th>Artist</th>\n",
              "      <th>Artist Followers</th>\n",
              "      <th>Genre</th>\n",
              "      <th>Popularity</th>\n",
              "      <th>Danceability</th>\n",
              "      <th>Energy</th>\n",
              "      <th>Loudness</th>\n",
              "      <th>Speechiness</th>\n",
              "      <th>Acousticness</th>\n",
              "      <th>Liveness</th>\n",
              "      <th>Tempo</th>\n",
              "      <th>Duration (ms)</th>\n",
              "      <th>Valence</th>\n",
              "      <th>Chord</th>\n",
              "      <th>month</th>\n",
              "    </tr>\n",
              "  </thead>\n",
              "  <tbody>\n",
              "    <tr>\n",
              "      <th>0</th>\n",
              "      <td>1</td>\n",
              "      <td>8</td>\n",
              "      <td>48633449</td>\n",
              "      <td>469</td>\n",
              "      <td>3377762.0</td>\n",
              "      <td>276</td>\n",
              "      <td>100.0</td>\n",
              "      <td>0.714</td>\n",
              "      <td>0.800</td>\n",
              "      <td>-4.808</td>\n",
              "      <td>0.0504</td>\n",
              "      <td>0.1270</td>\n",
              "      <td>0.359</td>\n",
              "      <td>134.002</td>\n",
              "      <td>211560.0</td>\n",
              "      <td>0.589</td>\n",
              "      <td>2</td>\n",
              "      <td>12.0</td>\n",
              "    </tr>\n",
              "    <tr>\n",
              "      <th>1</th>\n",
              "      <td>2</td>\n",
              "      <td>3</td>\n",
              "      <td>47248719</td>\n",
              "      <td>643</td>\n",
              "      <td>2230022.0</td>\n",
              "      <td>63</td>\n",
              "      <td>99.0</td>\n",
              "      <td>0.591</td>\n",
              "      <td>0.764</td>\n",
              "      <td>-5.484</td>\n",
              "      <td>0.0483</td>\n",
              "      <td>0.0383</td>\n",
              "      <td>0.103</td>\n",
              "      <td>169.928</td>\n",
              "      <td>141806.0</td>\n",
              "      <td>0.478</td>\n",
              "      <td>4</td>\n",
              "      <td>7.0</td>\n",
              "    </tr>\n",
              "  </tbody>\n",
              "</table>\n",
              "</div>\n",
              "      <button class=\"colab-df-convert\" onclick=\"convertToInteractive('df-493a5ed7-6c0b-4ee7-90a2-f51d3a64fc89')\"\n",
              "              title=\"Convert this dataframe to an interactive table.\"\n",
              "              style=\"display:none;\">\n",
              "        \n",
              "  <svg xmlns=\"http://www.w3.org/2000/svg\" height=\"24px\"viewBox=\"0 0 24 24\"\n",
              "       width=\"24px\">\n",
              "    <path d=\"M0 0h24v24H0V0z\" fill=\"none\"/>\n",
              "    <path d=\"M18.56 5.44l.94 2.06.94-2.06 2.06-.94-2.06-.94-.94-2.06-.94 2.06-2.06.94zm-11 1L8.5 8.5l.94-2.06 2.06-.94-2.06-.94L8.5 2.5l-.94 2.06-2.06.94zm10 10l.94 2.06.94-2.06 2.06-.94-2.06-.94-.94-2.06-.94 2.06-2.06.94z\"/><path d=\"M17.41 7.96l-1.37-1.37c-.4-.4-.92-.59-1.43-.59-.52 0-1.04.2-1.43.59L10.3 9.45l-7.72 7.72c-.78.78-.78 2.05 0 2.83L4 21.41c.39.39.9.59 1.41.59.51 0 1.02-.2 1.41-.59l7.78-7.78 2.81-2.81c.8-.78.8-2.07 0-2.86zM5.41 20L4 18.59l7.72-7.72 1.47 1.35L5.41 20z\"/>\n",
              "  </svg>\n",
              "      </button>\n",
              "      \n",
              "  <style>\n",
              "    .colab-df-container {\n",
              "      display:flex;\n",
              "      flex-wrap:wrap;\n",
              "      gap: 12px;\n",
              "    }\n",
              "\n",
              "    .colab-df-convert {\n",
              "      background-color: #E8F0FE;\n",
              "      border: none;\n",
              "      border-radius: 50%;\n",
              "      cursor: pointer;\n",
              "      display: none;\n",
              "      fill: #1967D2;\n",
              "      height: 32px;\n",
              "      padding: 0 0 0 0;\n",
              "      width: 32px;\n",
              "    }\n",
              "\n",
              "    .colab-df-convert:hover {\n",
              "      background-color: #E2EBFA;\n",
              "      box-shadow: 0px 1px 2px rgba(60, 64, 67, 0.3), 0px 1px 3px 1px rgba(60, 64, 67, 0.15);\n",
              "      fill: #174EA6;\n",
              "    }\n",
              "\n",
              "    [theme=dark] .colab-df-convert {\n",
              "      background-color: #3B4455;\n",
              "      fill: #D2E3FC;\n",
              "    }\n",
              "\n",
              "    [theme=dark] .colab-df-convert:hover {\n",
              "      background-color: #434B5C;\n",
              "      box-shadow: 0px 1px 3px 1px rgba(0, 0, 0, 0.15);\n",
              "      filter: drop-shadow(0px 1px 2px rgba(0, 0, 0, 0.3));\n",
              "      fill: #FFFFFF;\n",
              "    }\n",
              "  </style>\n",
              "\n",
              "      <script>\n",
              "        const buttonEl =\n",
              "          document.querySelector('#df-493a5ed7-6c0b-4ee7-90a2-f51d3a64fc89 button.colab-df-convert');\n",
              "        buttonEl.style.display =\n",
              "          google.colab.kernel.accessAllowed ? 'block' : 'none';\n",
              "\n",
              "        async function convertToInteractive(key) {\n",
              "          const element = document.querySelector('#df-493a5ed7-6c0b-4ee7-90a2-f51d3a64fc89');\n",
              "          const dataTable =\n",
              "            await google.colab.kernel.invokeFunction('convertToInteractive',\n",
              "                                                     [key], {});\n",
              "          if (!dataTable) return;\n",
              "\n",
              "          const docLinkHtml = 'Like what you see? Visit the ' +\n",
              "            '<a target=\"_blank\" href=https://colab.research.google.com/notebooks/data_table.ipynb>data table notebook</a>'\n",
              "            + ' to learn more about interactive tables.';\n",
              "          element.innerHTML = '';\n",
              "          dataTable['output_type'] = 'display_data';\n",
              "          await google.colab.output.renderOutput(dataTable, element);\n",
              "          const docLink = document.createElement('div');\n",
              "          docLink.innerHTML = docLinkHtml;\n",
              "          element.appendChild(docLink);\n",
              "        }\n",
              "      </script>\n",
              "    </div>\n",
              "  </div>\n",
              "  "
            ]
          },
          "metadata": {},
          "execution_count": 15
        }
      ]
    },
    {
      "cell_type": "markdown",
      "source": [
        "**X, Y Split**"
      ],
      "metadata": {
        "id": "LOrojFMza0iO"
      }
    },
    {
      "cell_type": "code",
      "source": [
        "x = data.drop(['Streams'],axis=1)\n",
        "y = data['Streams']"
      ],
      "metadata": {
        "id": "hmjTBFFrazFC"
      },
      "execution_count": 22,
      "outputs": []
    },
    {
      "cell_type": "markdown",
      "source": [
        "**Scaling**"
      ],
      "metadata": {
        "id": "5XFqhwleYDRH"
      }
    },
    {
      "cell_type": "code",
      "source": [
        "scaler =MinMaxScaler()\n",
        "x=scaler.fit_transform(x)"
      ],
      "metadata": {
        "id": "OYAPwV2NYCM4"
      },
      "execution_count": 23,
      "outputs": []
    },
    {
      "cell_type": "markdown",
      "source": [
        "**visualization**"
      ],
      "metadata": {
        "id": "G090ka0TOQUl"
      }
    },
    {
      "cell_type": "code",
      "source": [
        "plt.xlabel('Streams')\n",
        "plt.ylabel('Popularity')\n",
        "plt.scatter(data['Streams'],data['Popularity'])"
      ],
      "metadata": {
        "colab": {
          "base_uri": "https://localhost:8080/",
          "height": 296
        },
        "id": "ei1SEcv2QIjj",
        "outputId": "c55b5934-4315-4766-d23d-ff70111c8866"
      },
      "execution_count": null,
      "outputs": [
        {
          "output_type": "execute_result",
          "data": {
            "text/plain": [
              "<matplotlib.collections.PathCollection at 0x7fde328b7f10>"
            ]
          },
          "metadata": {},
          "execution_count": 16
        },
        {
          "output_type": "display_data",
          "data": {
            "text/plain": [
              "<Figure size 432x288 with 1 Axes>"
            ],
            "image/png": "[encoded data removed]"
          },
          "metadata": {
            "needs_background": "light"
          }
        }
      ]
    },
    {
      "cell_type": "code",
      "source": [
        "sort=data.sort_values(by=['Popularity'],ascending=False)\n",
        "plt.figure(figsize=[10,8])\n",
        "plt.title('Top in Loudness')\n",
        "sns.barplot(x='Streams',y='Popularity',data=sort.head(10))"
      ],
      "metadata": {
        "colab": {
          "base_uri": "https://localhost:8080/",
          "height": 530
        },
        "id": "6jNTsd9Kji0b",
        "outputId": "d77f7bbc-936a-4fbc-c147-63fbcc2e80b2"
      },
      "execution_count": null,
      "outputs": [
        {
          "output_type": "execute_result",
          "data": {
            "text/plain": [
              "<Axes: title={'center': 'Top in Loudness'}, xlabel='Streams', ylabel='Popularity'>"
            ]
          },
          "metadata": {},
          "execution_count": 17
        },
        {
          "output_type": "display_data",
          "data": {
            "text/plain": [
              "<Figure size 720x576 with 1 Axes>"
            ],
            "image/png": "[encoded data removed]"
          },
          "metadata": {
            "needs_background": "light"
          }
        }
      ]
    },
    {
      "cell_type": "markdown",
      "source": [
        "**Correlation**"
      ],
      "metadata": {
        "id": "FgIV_YKqj7Xq"
      }
    },
    {
      "cell_type": "code",
      "source": [
        "c=data.corr()\n",
        "plt.figure(figsize=[12,12])\n",
        "sns.heatmap(c,annot=True)"
      ],
      "metadata": {
        "colab": {
          "base_uri": "https://localhost:8080/",
          "height": 840
        },
        "id": "yZPmzLpdkMED",
        "outputId": "009b91f4-955f-412d-f217-5e0a0bff8969"
      },
      "execution_count": null,
      "outputs": [
        {
          "output_type": "execute_result",
          "data": {
            "text/plain": [
              "<Axes: >"
            ]
          },
          "metadata": {},
          "execution_count": 18
        },
        {
          "output_type": "display_data",
          "data": {
            "text/plain": [
              "<Figure size 864x864 with 2 Axes>"
            ],
            "image/png": "[encoded data removed]"
          },
          "metadata": {
            "needs_background": "light"
          }
        }
      ]
    },
    {
      "cell_type": "code",
      "source": [
        "print(data['Highest Charting Position'].corr(data['Streams']))\n",
        "print(data['Number of Times Charted'].corr(data['Streams']))\n",
        "print(data['Artist'].corr(data['Streams']))\n",
        "print(data['Artist Followers'].corr(data['Streams']))\n",
        "\n",
        "print('***************')\n",
        "print(data['Genre'].corr(data['Streams']))\n",
        "print(data['Popularity'].corr(data['Streams']))\n",
        "print(data['Danceability'].corr(data['Streams']))\n",
        "print(data['Energy'].corr(data['Streams']))\n",
        "\n",
        "print('**************')\n",
        "print(data['Loudness'].corr(data['Streams']))\n",
        "print(data['Speechiness'].corr(data['Streams']))\n",
        "print(data['Acousticness'].corr(data['Streams']))\n",
        "print(data['Liveness'].corr(data['Streams']))\n",
        "\n",
        "print('*************')\n",
        "print(data['Tempo'].corr(data['Streams']))\n",
        "print(data['Duration (ms)'].corr(data['Streams']))\n",
        "print(data['Valence'].corr(data['Streams']))\n",
        "print(data['Chord'].corr(data['Streams']))\n",
        "print(data['month'].corr(data['Streams']))\n"
      ],
      "metadata": {
        "colab": {
          "base_uri": "https://localhost:8080/"
        },
        "id": "D-C12yNPkVXZ",
        "outputId": "71760e3a-3af2-4290-ef10-386093a7f728"
      },
      "execution_count": null,
      "outputs": [
        {
          "output_type": "stream",
          "name": "stdout",
          "text": [
            "-0.29544231571147883\n",
            "-0.060542175109237525\n",
            "0.013889318709031609\n",
            "0.10325112188366634\n",
            "***************\n",
            "0.015265255788443705\n",
            "0.12318389252867995\n",
            "-0.08129107688993267\n",
            "0.004144561735711903\n",
            "**************\n",
            "-0.031154976931381185\n",
            "-0.06261970586474305\n",
            "0.03405411998496786\n",
            "0.04210545702254553\n",
            "*************\n",
            "0.05345842982884896\n",
            "0.015963534784082335\n",
            "0.038381046068067255\n",
            "0.00011414285666985081\n",
            "0.02062303028193316\n"
          ]
        }
      ]
    },
    {
      "cell_type": "markdown",
      "source": [
        "final feature selection based on correlation"
      ],
      "metadata": {
        "id": "c7jBdqbxEGra"
      }
    },
    {
      "cell_type": "markdown",
      "source": [
        "0.001"
      ],
      "metadata": {
        "id": "PkQEemNLJVR2"
      }
    },
    {
      "cell_type": "code",
      "source": [
        "data=data.drop(['Energy','Chord'],axis=1)"
      ],
      "metadata": {
        "id": "sYJ3u1HZkaxV"
      },
      "execution_count": 18,
      "outputs": []
    },
    {
      "cell_type": "markdown",
      "source": [
        "< 0.03"
      ],
      "metadata": {
        "id": "-tQceuE0JX-5"
      }
    },
    {
      "cell_type": "code",
      "source": [
        "data=data.drop(['Artist','Genre','Duration (ms)','month'],axis=1)"
      ],
      "metadata": {
        "id": "31c7QMUCFdvY"
      },
      "execution_count": 19,
      "outputs": []
    },
    {
      "cell_type": "markdown",
      "source": [
        "0.03"
      ],
      "metadata": {
        "id": "cGR3t2-mJe0m"
      }
    },
    {
      "cell_type": "code",
      "source": [
        "data=data.drop(['Loudness','Acousticness','Valence'],axis=1)"
      ],
      "metadata": {
        "id": "pS8QpWumBwax"
      },
      "execution_count": 20,
      "outputs": []
    },
    {
      "cell_type": "markdown",
      "source": [
        "< 0.05"
      ],
      "metadata": {
        "id": "iYWCxOl8J9Bv"
      }
    },
    {
      "cell_type": "code",
      "source": [
        "data=data.drop(['Liveness'],axis=1)"
      ],
      "metadata": {
        "id": "pzWi1WRVKBGh"
      },
      "execution_count": 21,
      "outputs": []
    },
    {
      "cell_type": "code",
      "source": [
        "#data.head(1)"
      ],
      "metadata": {
        "id": "VFy76S-gcRbn"
      },
      "execution_count": 34,
      "outputs": []
    },
    {
      "cell_type": "markdown",
      "source": [
        "**Hyperparameter turning**"
      ],
      "metadata": {
        "id": "VNJYaMxM8Z9o"
      }
    },
    {
      "cell_type": "code",
      "source": [
        "model_params={'AdaBoostRegressor':{'model':AdaBoostRegressor(),'params':{}},\n",
        "              'GradientBoostingRegressor':{'model':GradientBoostingRegressor(),'params':{}},\n",
        "              'XGBRFRegressor':{'model':XGBRFRegressor(),'params':{}}}"
      ],
      "metadata": {
        "id": "f5oZVsKNmQHF"
      },
      "execution_count": null,
      "outputs": []
    },
    {
      "cell_type": "code",
      "source": [
        "scores = []\n",
        "models = ['AdaBoostRegressor','GradientBoostingRegressor','XGBRFRegressor']\n",
        "for model_name in models:\n",
        "    mp=model_params[model_name]\n",
        "    gds=GridSearchCV(mp['model'],mp['params'],cv=5,return_train_score=True)\n",
        "    gds.fit(x,y)\n",
        "    scores.append({'model':model_name, 'best_score':gds.best_score_ , 'best_params':gds.best_params_})"
      ],
      "metadata": {
        "id": "hq4cKeAYmQJn"
      },
      "execution_count": null,
      "outputs": []
    },
    {
      "cell_type": "code",
      "source": [
        "scores"
      ],
      "metadata": {
        "colab": {
          "base_uri": "https://localhost:8080/"
        },
        "id": "OTDQsH7TmXOj",
        "outputId": "0da7d280-247f-4bdb-d777-f48c167e7e0b"
      },
      "execution_count": null,
      "outputs": [
        {
          "output_type": "execute_result",
          "data": {
            "text/plain": [
              "[{'model': 'AdaBoostRegressor',\n",
              "  'best_score': -1.050387169423829,\n",
              "  'best_params': {}},\n",
              " {'model': 'GradientBoostingRegressor',\n",
              "  'best_score': 0.3740140694463586,\n",
              "  'best_params': {}},\n",
              " {'model': 'XGBRFRegressor',\n",
              "  'best_score': 0.32099239193912094,\n",
              "  'best_params': {}}]"
            ]
          },
          "metadata": {},
          "execution_count": 63
        }
      ]
    },
    {
      "cell_type": "markdown",
      "source": [
        "other models"
      ],
      "metadata": {
        "id": "BgqOFjab864p"
      }
    },
    {
      "cell_type": "code",
      "source": [
        "model_params = {'DecisionTreeRegressor':{'model':DecisionTreeRegressor(),'params':{'max_depth':[3,4,5,6]}},\n",
        "               'RandomForestRegressor':{'model':RandomForestRegressor(),'params':{'n_estimators':[5,10,15,20],'max_depth':[6,7,8,9,10,11,12,13,14,15,20,25]}}}\n",
        "                                                                             \n",
        "                                                      \n",
        "        "
      ],
      "metadata": {
        "id": "ZQCUvooUnMJx"
      },
      "execution_count": null,
      "outputs": []
    },
    {
      "cell_type": "code",
      "source": [
        "scores = []\n",
        "models = ['DecisionTreeRegressor','RandomForestRegressor']\n",
        "for model_name in models:\n",
        "    mp=model_params[model_name]\n",
        "    gds=GridSearchCV(mp['model'],mp['params'],cv=5,return_train_score=True)\n",
        "    gds.fit(x,y)\n",
        "    scores.append({'model':model_name, 'best_score':gds.best_score_ , 'best_params':gds.best_params_})"
      ],
      "metadata": {
        "id": "ocOdf5g58xQ_"
      },
      "execution_count": null,
      "outputs": []
    },
    {
      "cell_type": "code",
      "source": [
        "scores"
      ],
      "metadata": {
        "colab": {
          "base_uri": "https://localhost:8080/"
        },
        "id": "XbbareQk84gh",
        "outputId": "4942b5d0-d4f4-4541-ed9c-1de4ed201863"
      },
      "execution_count": null,
      "outputs": [
        {
          "output_type": "execute_result",
          "data": {
            "text/plain": [
              "[{'model': 'DecisionTreeRegressor',\n",
              "  'best_score': 0.15951021226211187,\n",
              "  'best_params': {'max_depth': 5}},\n",
              " {'model': 'RandomForestRegressor',\n",
              "  'best_score': 0.4312540380580298,\n",
              "  'best_params': {'max_depth': 14, 'n_estimators': 10}}]"
            ]
          },
          "metadata": {},
          "execution_count": 61
        }
      ]
    },
    {
      "cell_type": "code",
      "source": [],
      "metadata": {
        "id": "A0v7vkh3H8d0"
      },
      "execution_count": null,
      "outputs": []
    },
    {
      "cell_type": "markdown",
      "source": [
        "**train test split**"
      ],
      "metadata": {
        "id": "VMJQGdC-hq--"
      }
    },
    {
      "cell_type": "code",
      "source": [
        "x_train,x_test,y_train,y_test=train_test_split(x,y,test_size=0.25,random_state=33)"
      ],
      "metadata": {
        "id": "x9UXRabgazzM"
      },
      "execution_count": null,
      "outputs": []
    },
    {
      "cell_type": "markdown",
      "source": [
        "**Model**"
      ],
      "metadata": {
        "id": "QeqDHAJv9UOJ"
      }
    },
    {
      "cell_type": "code",
      "source": [
        "RandomForest=RandomForestRegressor( n_estimators=8,random_state=10,)\n",
        "model=RandomForest.fit(x_train,y_train)\n",
        "model.score(x_test,y_test)"
      ],
      "metadata": {
        "colab": {
          "base_uri": "https://localhost:8080/"
        },
        "id": "YG3QWa-u9b9i",
        "outputId": "deeaffc5-53f3-4ce8-e608-8bafcad2983b"
      },
      "execution_count": null,
      "outputs": [
        {
          "output_type": "execute_result",
          "data": {
            "text/plain": [
              "0.7998160246721309"
            ]
          },
          "metadata": {},
          "execution_count": 63
        }
      ]
    },
    {
      "cell_type": "code",
      "source": [
        "GrdBoost=GradientBoostingRegressor()\n",
        "GrdBoost_model=GrdBoost.fit(x_train,y_train)\n",
        "GrdBoost_model.score(x_test,y_test)"
      ],
      "metadata": {
        "colab": {
          "base_uri": "https://localhost:8080/"
        },
        "id": "Xo6x_NIvAEDn",
        "outputId": "c3440181-a95e-4cea-d5a4-e3ad9dbb927f"
      },
      "execution_count": null,
      "outputs": [
        {
          "output_type": "execute_result",
          "data": {
            "text/plain": [
              "0.75489119473297"
            ]
          },
          "metadata": {},
          "execution_count": 47
        }
      ]
    },
    {
      "cell_type": "code",
      "source": [
        "XGBR=XGBRFRegressor()\n",
        "xgb_model=XGBR.fit(x_train,y_train)\n",
        "xgb_model.score(x_test,y_test)"
      ],
      "metadata": {
        "colab": {
          "base_uri": "https://localhost:8080/"
        },
        "id": "ICA92SAs9OaK",
        "outputId": "21b9491f-83ac-4d77-ba5a-4eb891ed9a44"
      },
      "execution_count": null,
      "outputs": [
        {
          "output_type": "execute_result",
          "data": {
            "text/plain": [
              "0.7192095968143482"
            ]
          },
          "metadata": {},
          "execution_count": 46
        }
      ]
    },
    {
      "cell_type": "markdown",
      "source": [
        "**prediction**"
      ],
      "metadata": {
        "id": "QM-rbAseSyCN"
      }
    },
    {
      "cell_type": "code",
      "source": [
        "x_test[5]"
      ],
      "metadata": {
        "colab": {
          "base_uri": "https://localhost:8080/"
        },
        "id": "lIg9SbuvBT5V",
        "outputId": "40ad62f8-7eb1-440a-e255-a0ab4fde9f98"
      },
      "execution_count": null,
      "outputs": [
        {
          "output_type": "execute_result",
          "data": {
            "text/plain": [
              "array([0.74371859, 0.09219858, 0.67564298, 0.84      , 0.77349398,\n",
              "       0.03531599, 0.36106941])"
            ]
          },
          "metadata": {},
          "execution_count": 64
        }
      ]
    },
    {
      "cell_type": "code",
      "source": [
        "model.predict([x_test[5]])"
      ],
      "metadata": {
        "colab": {
          "base_uri": "https://localhost:8080/"
        },
        "id": "ExPJfm9SS1Qd",
        "outputId": "65f0d6e3-1081-417b-83e2-e97f97d10b1e"
      },
      "execution_count": null,
      "outputs": [
        {
          "output_type": "execute_result",
          "data": {
            "text/plain": [
              "array([4969598.25])"
            ]
          },
          "metadata": {},
          "execution_count": 65
        }
      ]
    },
    {
      "cell_type": "markdown",
      "source": [
        "**saving model**"
      ],
      "metadata": {
        "id": "t2S5iOWlVFn9"
      }
    },
    {
      "cell_type": "code",
      "source": [
        "import joblib\n",
        "joblib.dump(model,'Streams_model')  "
      ],
      "metadata": {
        "colab": {
          "base_uri": "https://localhost:8080/"
        },
        "id": "CswsglYLVN02",
        "outputId": "0686d8e4-1950-452a-a82c-df9969c91105"
      },
      "execution_count": null,
      "outputs": [
        {
          "output_type": "execute_result",
          "data": {
            "text/plain": [
              "['Streams_model']"
            ]
          },
          "metadata": {},
          "execution_count": 67
        }
      ]
    },
    {
      "cell_type": "markdown",
      "source": [
        "Reloding the model"
      ],
      "metadata": {
        "id": "xXB_-e_iWz_9"
      }
    },
    {
      "cell_type": "code",
      "source": [
        "joblib_reloaded = joblib.load('/content/drive/MyDrive/Colab Notebooks/project/ML/song popularity and streams prediction/Streams_model') \n",
        "joblib_reloaded.predict([[0.74371859, 0.09219858, 0.67564298, 0.84      , 0.77349398,0.03531599, 0.36106941]])"
      ],
      "metadata": {
        "colab": {
          "base_uri": "https://localhost:8080/"
        },
        "id": "6quZgmKWWnfO",
        "outputId": "f2cbb192-6933-4255-f4f1-9560d8c799c8"
      },
      "execution_count": 27,
      "outputs": [
        {
          "output_type": "execute_result",
          "data": {
            "text/plain": [
              "array([4969598.25])"
            ]
          },
          "metadata": {},
          "execution_count": 27
        }
      ]
    },
    {
      "cell_type": "markdown",
      "source": [
        "**function for prediction**"
      ],
      "metadata": {
        "id": "1WyoKHZbXxZE"
      }
    },
    {
      "cell_type": "code",
      "source": [
        "def prediction(input):\n",
        "  joblib_reloaded = joblib.load('/content/drive/MyDrive/Colab Notebooks/project/ML/song popularity and streams prediction/Streams_model') \n",
        "  streams=joblib_reloaded.predict([input])\n",
        "  print(int(streams))"
      ],
      "metadata": {
        "id": "_H8XQNXwXjU6"
      },
      "execution_count": 30,
      "outputs": []
    },
    {
      "cell_type": "code",
      "source": [
        "input=0.74371859, 0.09219858, 0.67564298, 0.84      , 0.77349398,0.03531599, 0.36106941\n",
        "prediction(input)"
      ],
      "metadata": {
        "colab": {
          "base_uri": "https://localhost:8080/"
        },
        "id": "iZ0ehyNbYKtu",
        "outputId": "3f74048f-636a-41ac-8677-8d591cf6995e"
      },
      "execution_count": 31,
      "outputs": [
        {
          "output_type": "stream",
          "name": "stdout",
          "text": [
            "4969598\n"
          ]
        }
      ]
    },
    {
      "cell_type": "code",
      "source": [],
      "metadata": {
        "id": "7mnBHZFda9LZ"
      },
      "execution_count": null,
      "outputs": []
    },
    {
      "cell_type": "markdown",
      "source": [
        "**Function for predicting from non-preprocessed data**"
      ],
      "metadata": {
        "id": "2L4UQIg9dmga"
      }
    },
    {
      "cell_type": "code",
      "source": [
        "def pred(Position,Times_Charted,\tFollowers, Popularity, Danceability, Speechiness, Tempo):\n",
        "  values=scaler.transform([[Position,Times_Charted,\tFollowers, Popularity, Danceability, Speechiness, Tempo]])\n",
        "  joblib_reloaded = joblib.load('/content/drive/MyDrive/Colab Notebooks/project/ML/song popularity and streams prediction/Streams_model')  \n",
        "  result=joblib_reloaded.predict(values)\n",
        "  result=round(result[0])\n",
        "  print('Predicted streams for the song is {}  ' .format(result))"
      ],
      "metadata": {
        "id": "ZmZ2ZZ0ya9W2"
      },
      "execution_count": 36,
      "outputs": []
    },
    {
      "cell_type": "code",
      "source": [
        "pred(1, 8, 48633449, 100,\t0.714,\t0.0504,\t134.002)"
      ],
      "metadata": {
        "id": "VyMCow-BYYiD"
      },
      "execution_count": null,
      "outputs": []
    },
    {
      "cell_type": "code",
      "source": [],
      "metadata": {
        "id": "JSGmpTdNdwBL"
      },
      "execution_count": null,
      "outputs": []
    },
    {
      "cell_type": "code",
      "source": [
        "#data.head()"
      ],
      "metadata": {
        "id": "Yco4sG7pcqmX"
      },
      "execution_count": 39,
      "outputs": []
    },
    {
      "cell_type": "code",
      "source": [],
      "metadata": {
        "id": "t4WPGdzXcsSz"
      },
      "execution_count": null,
      "outputs": []
    }
  ]
}