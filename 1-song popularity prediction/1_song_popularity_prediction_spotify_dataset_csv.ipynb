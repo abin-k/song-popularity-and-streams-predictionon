{
  "cells": [
    {
      "cell_type": "markdown",
      "source": [
        "# **song popularity prediction**"
      ],
      "metadata": {
        "id": "18uHezINWSmk"
      },
      "id": "18uHezINWSmk"
    },
    {
      "cell_type": "markdown",
      "source": [
        "The dataset include all the songs that have been on the Top 200 Weekly (Global charts of Spotify in 2020 & 2021)"
      ],
      "metadata": {
        "id": "UdgrbEs8FHLn"
      },
      "id": "UdgrbEs8FHLn"
    },
    {
      "cell_type": "markdown",
      "source": [
        "The dataset include the following features:                         \n",
        "**Highest Charting Position:** The highest position that the song has been on in the Spotify Top 200 Weekly Global Charts in 2020 & 2021.\n",
        "**Number of Times Charted:** The number of times that the song has been on in the Spotify Top 200 Weekly Global Charts in 2020 & 2021.\n",
        "**Week of Highest Charting:** The week when the song had the Highest Position in the Spotify Top 200 Weekly Global Charts in 2020 & 2021.\n",
        "**Song Name:** Name of the song that has been on in the Spotify Top 200  Weekly    Global Charts in 2020 & 2021.\n",
        "**Song iD:** The song ID provided by Spotify (unique to each song).\n",
        "**Streams:** Approximate number of streams the song has.\n",
        "**Artist:** The main artist/ artists involved in making the song.\n",
        "**Artist Followers:** The number of followers the main artist has on Spotify.\n",
        "**Genre:** The genres the song belongs to.\n",
        "**Release Date:** The initial date that the song was released.\n",
        "**Weeks Charted:** The weeks that the song has been on in the Spotify Top 200 Weekly Global Charts in 2020 & 2021.\n",
        "**Popularity:**The popularity of the track. The value will be between 0 and 100, with 100 being the most popular.\n",
        "**Danceability:** Danceability describes how suitable a track is for dancing based on a combination of musical elements including tempo, rhythm stability, beat strength, and overall regularity. A value of 0.0 is least danceable and 1.0 is most danceable.\n",
        "**Acousticness:** A measure from 0.0 to 1.0 of whether the track is acoustic.\n",
        "**Energy:** Energy is a measure from 0.0 to 1.0 and represents a perceptual measure of intensity and activity. Typically, energetic tracks feel fast, loud, and noisy.\n",
        "**Instrumentalness:** Predicts whether a track contains no vocals. The closer the instrumentalness value is to 1.0, the greater likelihood the track contains no vocal content.\n",
        "**Liveness:** Detects the presence of an audience in the recording. Higher liveness values represent an increased probability that the track was performed live.\n",
        "**Loudness:** The overall loudness of a track in decibels (dB). Loudness values are averaged across the entire track. Values typical range between -60 and 0 db.\n",
        "Speechiness: Speechiness detects the presence of spoken words in a track. The more exclusively speech-like the recording (e.g. talk show, audio book, poetry), the closer to 1.0 the attribute value.\n",
        "**Tempo:** The overall estimated tempo of a track in beats per minute (BPM). In musical terminology, tempo is the speed or pace of a given piece and derives directly from the average beat duration.\n",
        "**Valence:** A measure from 0.0 to 1.0 describing the musical positiveness conveyed by a track. Tracks with high valence sound more positive (e.g. happy, cheerful, euphoric), while tracks with low valence sound more negative (e.g. sad, depressed, angry).\n",
        "**Chord:** The main chord of the song instrumental."
      ],
      "metadata": {
        "id": "cxB8PvcVnuAO"
      },
      "id": "cxB8PvcVnuAO"
    },
    {
      "cell_type": "code",
      "source": [
        "from google.colab import drive\n",
        "drive.mount('/content/drive')"
      ],
      "metadata": {
        "colab": {
          "base_uri": "https://localhost:8080/"
        },
        "id": "JorLSqbqW5qV",
        "outputId": "a56be567-e8b5-4360-f190-965e8992bd29"
      },
      "id": "JorLSqbqW5qV",
      "execution_count": 1,
      "outputs": [
        {
          "output_type": "stream",
          "name": "stdout",
          "text": [
            "Mounted at /content/drive\n"
          ]
        }
      ]
    },
    {
      "cell_type": "markdown",
      "source": [
        "**Imports**"
      ],
      "metadata": {
        "id": "rW758BaSXDNU"
      },
      "id": "rW758BaSXDNU"
    },
    {
      "cell_type": "code",
      "execution_count": 36,
      "id": "0293450a",
      "metadata": {
        "id": "0293450a"
      },
      "outputs": [],
      "source": [
        "import pandas as pd\n",
        "from sklearn.preprocessing import LabelEncoder, MinMaxScaler,StandardScaler\n",
        "import matplotlib.pyplot as plt\n",
        "import seaborn as sns\n",
        "\n",
        "from sklearn.model_selection import GridSearchCV\n",
        "\n",
        "from xgboost import XGBRFRegressor\n",
        "from sklearn.ensemble import RandomForestRegressor\n",
        "from sklearn.neighbors import KNeighborsRegressor\n",
        "from sklearn.tree import DecisionTreeRegressor\n",
        "from sklearn.ensemble import AdaBoostRegressor\n",
        "from sklearn.ensemble import GradientBoostingRegressor\n",
        "\n",
        "import joblib"
      ]
    },
    {
      "cell_type": "markdown",
      "source": [
        "**Dataset**"
      ],
      "metadata": {
        "id": "sDOvTnerXH1G"
      },
      "id": "sDOvTnerXH1G"
    },
    {
      "cell_type": "code",
      "execution_count": 3,
      "id": "69e0c9e9",
      "metadata": {
        "scrolled": true,
        "colab": {
          "base_uri": "https://localhost:8080/",
          "height": 560
        },
        "id": "69e0c9e9",
        "outputId": "1c09c32d-db46-4235-b6b7-8733f2cf9320"
      },
      "outputs": [
        {
          "output_type": "execute_result",
          "data": {
            "text/plain": [
              "   Index  Highest Charting Position  Number of Times Charted  \\\n",
              "0      1                          1                        8   \n",
              "1      2                          2                        3   \n",
              "2      3                          1                       11   \n",
              "3      4                          3                        5   \n",
              "4      5                          5                        1   \n",
              "\n",
              "  Week of Highest Charting                          Song Name     Streams  \\\n",
              "0   2021-07-23--2021-07-30                            Beggin'  48,633,449   \n",
              "1   2021-07-23--2021-07-30          STAY (with Justin Bieber)  47,248,719   \n",
              "2   2021-06-25--2021-07-02                           good 4 u  40,162,559   \n",
              "3   2021-07-02--2021-07-09                         Bad Habits  37,799,456   \n",
              "4   2021-07-23--2021-07-30  INDUSTRY BABY (feat. Jack Harlow)  33,948,454   \n",
              "\n",
              "           Artist Artist Followers                 Song ID  \\\n",
              "0        Måneskin          3377762  3Wrjm47oTz2sjIgck11l5e   \n",
              "1   The Kid LAROI          2230022  5HCyWlXZPP0y6Gqq8TgA20   \n",
              "2  Olivia Rodrigo          6266514  4ZtFanR9U6ndgddUvNcjcG   \n",
              "3      Ed Sheeran         83293380  6PQ88X9TkUIAUIZJHW2upE   \n",
              "4       Lil Nas X          5473565  27NovPIUIRrOZoCHxABJwK   \n",
              "\n",
              "                                    Genre  ... Danceability Energy Loudness  \\\n",
              "0  ['indie rock italiano', 'italian pop']  ...        0.714    0.8   -4.808   \n",
              "1                  ['australian hip hop']  ...        0.591  0.764   -5.484   \n",
              "2                                 ['pop']  ...        0.563  0.664   -5.044   \n",
              "3                       ['pop', 'uk pop']  ...        0.808  0.897   -3.712   \n",
              "4           ['lgbtq+ hip hop', 'pop rap']  ...        0.736  0.704   -7.409   \n",
              "\n",
              "  Speechiness Acousticness Liveness    Tempo Duration (ms) Valence  Chord  \n",
              "0      0.0504        0.127    0.359  134.002        211560   0.589      B  \n",
              "1      0.0483       0.0383    0.103  169.928        141806   0.478  C#/Db  \n",
              "2       0.154        0.335   0.0849  166.928        178147   0.688      A  \n",
              "3      0.0348       0.0469    0.364  126.026        231041   0.591      B  \n",
              "4      0.0615       0.0203   0.0501  149.995        212000   0.894  D#/Eb  \n",
              "\n",
              "[5 rows x 23 columns]"
            ],
            "text/html": [
              "\n",
              "  <div id=\"df-9986c80b-7bb8-4ef2-b8d7-6639a5092556\">\n",
              "    <div class=\"colab-df-container\">\n",
              "      <div>\n",
              "<style scoped>\n",
              "    .dataframe tbody tr th:only-of-type {\n",
              "        vertical-align: middle;\n",
              "    }\n",
              "\n",
              "    .dataframe tbody tr th {\n",
              "        vertical-align: top;\n",
              "    }\n",
              "\n",
              "    .dataframe thead th {\n",
              "        text-align: right;\n",
              "    }\n",
              "</style>\n",
              "<table border=\"1\" class=\"dataframe\">\n",
              "  <thead>\n",
              "    <tr style=\"text-align: right;\">\n",
              "      <th></th>\n",
              "      <th>Index</th>\n",
              "      <th>Highest Charting Position</th>\n",
              "      <th>Number of Times Charted</th>\n",
              "      <th>Week of Highest Charting</th>\n",
              "      <th>Song Name</th>\n",
              "      <th>Streams</th>\n",
              "      <th>Artist</th>\n",
              "      <th>Artist Followers</th>\n",
              "      <th>Song ID</th>\n",
              "      <th>Genre</th>\n",
              "      <th>...</th>\n",
              "      <th>Danceability</th>\n",
              "      <th>Energy</th>\n",
              "      <th>Loudness</th>\n",
              "      <th>Speechiness</th>\n",
              "      <th>Acousticness</th>\n",
              "      <th>Liveness</th>\n",
              "      <th>Tempo</th>\n",
              "      <th>Duration (ms)</th>\n",
              "      <th>Valence</th>\n",
              "      <th>Chord</th>\n",
              "    </tr>\n",
              "  </thead>\n",
              "  <tbody>\n",
              "    <tr>\n",
              "      <th>0</th>\n",
              "      <td>1</td>\n",
              "      <td>1</td>\n",
              "      <td>8</td>\n",
              "      <td>2021-07-23--2021-07-30</td>\n",
              "      <td>Beggin'</td>\n",
              "      <td>48,633,449</td>\n",
              "      <td>Måneskin</td>\n",
              "      <td>3377762</td>\n",
              "      <td>3Wrjm47oTz2sjIgck11l5e</td>\n",
              "      <td>['indie rock italiano', 'italian pop']</td>\n",
              "      <td>...</td>\n",
              "      <td>0.714</td>\n",
              "      <td>0.8</td>\n",
              "      <td>-4.808</td>\n",
              "      <td>0.0504</td>\n",
              "      <td>0.127</td>\n",
              "      <td>0.359</td>\n",
              "      <td>134.002</td>\n",
              "      <td>211560</td>\n",
              "      <td>0.589</td>\n",
              "      <td>B</td>\n",
              "    </tr>\n",
              "    <tr>\n",
              "      <th>1</th>\n",
              "      <td>2</td>\n",
              "      <td>2</td>\n",
              "      <td>3</td>\n",
              "      <td>2021-07-23--2021-07-30</td>\n",
              "      <td>STAY (with Justin Bieber)</td>\n",
              "      <td>47,248,719</td>\n",
              "      <td>The Kid LAROI</td>\n",
              "      <td>2230022</td>\n",
              "      <td>5HCyWlXZPP0y6Gqq8TgA20</td>\n",
              "      <td>['australian hip hop']</td>\n",
              "      <td>...</td>\n",
              "      <td>0.591</td>\n",
              "      <td>0.764</td>\n",
              "      <td>-5.484</td>\n",
              "      <td>0.0483</td>\n",
              "      <td>0.0383</td>\n",
              "      <td>0.103</td>\n",
              "      <td>169.928</td>\n",
              "      <td>141806</td>\n",
              "      <td>0.478</td>\n",
              "      <td>C#/Db</td>\n",
              "    </tr>\n",
              "    <tr>\n",
              "      <th>2</th>\n",
              "      <td>3</td>\n",
              "      <td>1</td>\n",
              "      <td>11</td>\n",
              "      <td>2021-06-25--2021-07-02</td>\n",
              "      <td>good 4 u</td>\n",
              "      <td>40,162,559</td>\n",
              "      <td>Olivia Rodrigo</td>\n",
              "      <td>6266514</td>\n",
              "      <td>4ZtFanR9U6ndgddUvNcjcG</td>\n",
              "      <td>['pop']</td>\n",
              "      <td>...</td>\n",
              "      <td>0.563</td>\n",
              "      <td>0.664</td>\n",
              "      <td>-5.044</td>\n",
              "      <td>0.154</td>\n",
              "      <td>0.335</td>\n",
              "      <td>0.0849</td>\n",
              "      <td>166.928</td>\n",
              "      <td>178147</td>\n",
              "      <td>0.688</td>\n",
              "      <td>A</td>\n",
              "    </tr>\n",
              "    <tr>\n",
              "      <th>3</th>\n",
              "      <td>4</td>\n",
              "      <td>3</td>\n",
              "      <td>5</td>\n",
              "      <td>2021-07-02--2021-07-09</td>\n",
              "      <td>Bad Habits</td>\n",
              "      <td>37,799,456</td>\n",
              "      <td>Ed Sheeran</td>\n",
              "      <td>83293380</td>\n",
              "      <td>6PQ88X9TkUIAUIZJHW2upE</td>\n",
              "      <td>['pop', 'uk pop']</td>\n",
              "      <td>...</td>\n",
              "      <td>0.808</td>\n",
              "      <td>0.897</td>\n",
              "      <td>-3.712</td>\n",
              "      <td>0.0348</td>\n",
              "      <td>0.0469</td>\n",
              "      <td>0.364</td>\n",
              "      <td>126.026</td>\n",
              "      <td>231041</td>\n",
              "      <td>0.591</td>\n",
              "      <td>B</td>\n",
              "    </tr>\n",
              "    <tr>\n",
              "      <th>4</th>\n",
              "      <td>5</td>\n",
              "      <td>5</td>\n",
              "      <td>1</td>\n",
              "      <td>2021-07-23--2021-07-30</td>\n",
              "      <td>INDUSTRY BABY (feat. Jack Harlow)</td>\n",
              "      <td>33,948,454</td>\n",
              "      <td>Lil Nas X</td>\n",
              "      <td>5473565</td>\n",
              "      <td>27NovPIUIRrOZoCHxABJwK</td>\n",
              "      <td>['lgbtq+ hip hop', 'pop rap']</td>\n",
              "      <td>...</td>\n",
              "      <td>0.736</td>\n",
              "      <td>0.704</td>\n",
              "      <td>-7.409</td>\n",
              "      <td>0.0615</td>\n",
              "      <td>0.0203</td>\n",
              "      <td>0.0501</td>\n",
              "      <td>149.995</td>\n",
              "      <td>212000</td>\n",
              "      <td>0.894</td>\n",
              "      <td>D#/Eb</td>\n",
              "    </tr>\n",
              "  </tbody>\n",
              "</table>\n",
              "<p>5 rows × 23 columns</p>\n",
              "</div>\n",
              "      <button class=\"colab-df-convert\" onclick=\"convertToInteractive('df-9986c80b-7bb8-4ef2-b8d7-6639a5092556')\"\n",
              "              title=\"Convert this dataframe to an interactive table.\"\n",
              "              style=\"display:none;\">\n",
              "        \n",
              "  <svg xmlns=\"http://www.w3.org/2000/svg\" height=\"24px\"viewBox=\"0 0 24 24\"\n",
              "       width=\"24px\">\n",
              "    <path d=\"M0 0h24v24H0V0z\" fill=\"none\"/>\n",
              "    <path d=\"M18.56 5.44l.94 2.06.94-2.06 2.06-.94-2.06-.94-.94-2.06-.94 2.06-2.06.94zm-11 1L8.5 8.5l.94-2.06 2.06-.94-2.06-.94L8.5 2.5l-.94 2.06-2.06.94zm10 10l.94 2.06.94-2.06 2.06-.94-2.06-.94-.94-2.06-.94 2.06-2.06.94z\"/><path d=\"M17.41 7.96l-1.37-1.37c-.4-.4-.92-.59-1.43-.59-.52 0-1.04.2-1.43.59L10.3 9.45l-7.72 7.72c-.78.78-.78 2.05 0 2.83L4 21.41c.39.39.9.59 1.41.59.51 0 1.02-.2 1.41-.59l7.78-7.78 2.81-2.81c.8-.78.8-2.07 0-2.86zM5.41 20L4 18.59l7.72-7.72 1.47 1.35L5.41 20z\"/>\n",
              "  </svg>\n",
              "      </button>\n",
              "      \n",
              "  <style>\n",
              "    .colab-df-container {\n",
              "      display:flex;\n",
              "      flex-wrap:wrap;\n",
              "      gap: 12px;\n",
              "    }\n",
              "\n",
              "    .colab-df-convert {\n",
              "      background-color: #E8F0FE;\n",
              "      border: none;\n",
              "      border-radius: 50%;\n",
              "      cursor: pointer;\n",
              "      display: none;\n",
              "      fill: #1967D2;\n",
              "      height: 32px;\n",
              "      padding: 0 0 0 0;\n",
              "      width: 32px;\n",
              "    }\n",
              "\n",
              "    .colab-df-convert:hover {\n",
              "      background-color: #E2EBFA;\n",
              "      box-shadow: 0px 1px 2px rgba(60, 64, 67, 0.3), 0px 1px 3px 1px rgba(60, 64, 67, 0.15);\n",
              "      fill: #174EA6;\n",
              "    }\n",
              "\n",
              "    [theme=dark] .colab-df-convert {\n",
              "      background-color: #3B4455;\n",
              "      fill: #D2E3FC;\n",
              "    }\n",
              "\n",
              "    [theme=dark] .colab-df-convert:hover {\n",
              "      background-color: #434B5C;\n",
              "      box-shadow: 0px 1px 3px 1px rgba(0, 0, 0, 0.15);\n",
              "      filter: drop-shadow(0px 1px 2px rgba(0, 0, 0, 0.3));\n",
              "      fill: #FFFFFF;\n",
              "    }\n",
              "  </style>\n",
              "\n",
              "      <script>\n",
              "        const buttonEl =\n",
              "          document.querySelector('#df-9986c80b-7bb8-4ef2-b8d7-6639a5092556 button.colab-df-convert');\n",
              "        buttonEl.style.display =\n",
              "          google.colab.kernel.accessAllowed ? 'block' : 'none';\n",
              "\n",
              "        async function convertToInteractive(key) {\n",
              "          const element = document.querySelector('#df-9986c80b-7bb8-4ef2-b8d7-6639a5092556');\n",
              "          const dataTable =\n",
              "            await google.colab.kernel.invokeFunction('convertToInteractive',\n",
              "                                                     [key], {});\n",
              "          if (!dataTable) return;\n",
              "\n",
              "          const docLinkHtml = 'Like what you see? Visit the ' +\n",
              "            '<a target=\"_blank\" href=https://colab.research.google.com/notebooks/data_table.ipynb>data table notebook</a>'\n",
              "            + ' to learn more about interactive tables.';\n",
              "          element.innerHTML = '';\n",
              "          dataTable['output_type'] = 'display_data';\n",
              "          await google.colab.output.renderOutput(dataTable, element);\n",
              "          const docLink = document.createElement('div');\n",
              "          docLink.innerHTML = docLinkHtml;\n",
              "          element.appendChild(docLink);\n",
              "        }\n",
              "      </script>\n",
              "    </div>\n",
              "  </div>\n",
              "  "
            ]
          },
          "metadata": {},
          "execution_count": 3
        }
      ],
      "source": [
        "data = pd.read_csv('/content/drive/MyDrive/Colab Notebooks/project/ML/song popularity and streams prediction/spotify_dataset.csv')  \n",
        "data.head()"
      ]
    },
    {
      "cell_type": "code",
      "execution_count": 4,
      "id": "f84c6d24",
      "metadata": {
        "colab": {
          "base_uri": "https://localhost:8080/"
        },
        "id": "f84c6d24",
        "outputId": "fe403ca0-4ae6-4c53-b880-7ab761831bba"
      },
      "outputs": [
        {
          "output_type": "execute_result",
          "data": {
            "text/plain": [
              "Index                        0\n",
              "Highest Charting Position    0\n",
              "Number of Times Charted      0\n",
              "Week of Highest Charting     0\n",
              "Song Name                    0\n",
              "Streams                      0\n",
              "Artist                       0\n",
              "Artist Followers             0\n",
              "Song ID                      0\n",
              "Genre                        0\n",
              "Release Date                 0\n",
              "Weeks Charted                0\n",
              "Popularity                   0\n",
              "Danceability                 0\n",
              "Energy                       0\n",
              "Loudness                     0\n",
              "Speechiness                  0\n",
              "Acousticness                 0\n",
              "Liveness                     0\n",
              "Tempo                        0\n",
              "Duration (ms)                0\n",
              "Valence                      0\n",
              "Chord                        0\n",
              "dtype: int64"
            ]
          },
          "metadata": {},
          "execution_count": 4
        }
      ],
      "source": [
        "data.isnull().sum()"
      ]
    },
    {
      "cell_type": "code",
      "execution_count": 5,
      "id": "78d63249",
      "metadata": {
        "scrolled": true,
        "id": "78d63249",
        "colab": {
          "base_uri": "https://localhost:8080/",
          "height": 461
        },
        "outputId": "6f238c12-b18d-4923-f761-bdc6f5d2ae9c"
      },
      "outputs": [
        {
          "output_type": "execute_result",
          "data": {
            "text/plain": [
              "   Highest Charting Position  Number of Times Charted          Artist  \\\n",
              "0                          1                        8        Måneskin   \n",
              "1                          2                        3   The Kid LAROI   \n",
              "2                          1                       11  Olivia Rodrigo   \n",
              "3                          3                        5      Ed Sheeran   \n",
              "4                          5                        1       Lil Nas X   \n",
              "\n",
              "  Artist Followers                                   Genre Release Date  \\\n",
              "0          3377762  ['indie rock italiano', 'italian pop']   2017-12-08   \n",
              "1          2230022                  ['australian hip hop']   2021-07-09   \n",
              "2          6266514                                 ['pop']   2021-05-21   \n",
              "3         83293380                       ['pop', 'uk pop']   2021-06-25   \n",
              "4          5473565           ['lgbtq+ hip hop', 'pop rap']   2021-07-23   \n",
              "\n",
              "  Popularity Danceability Energy Loudness Speechiness Acousticness Liveness  \\\n",
              "0        100        0.714    0.8   -4.808      0.0504        0.127    0.359   \n",
              "1         99        0.591  0.764   -5.484      0.0483       0.0383    0.103   \n",
              "2         99        0.563  0.664   -5.044       0.154        0.335   0.0849   \n",
              "3         98        0.808  0.897   -3.712      0.0348       0.0469    0.364   \n",
              "4         96        0.736  0.704   -7.409      0.0615       0.0203   0.0501   \n",
              "\n",
              "     Tempo Duration (ms) Valence  Chord  \n",
              "0  134.002        211560   0.589      B  \n",
              "1  169.928        141806   0.478  C#/Db  \n",
              "2  166.928        178147   0.688      A  \n",
              "3  126.026        231041   0.591      B  \n",
              "4  149.995        212000   0.894  D#/Eb  "
            ],
            "text/html": [
              "\n",
              "  <div id=\"df-62515779-ff42-4998-8c53-fb9872f6835d\">\n",
              "    <div class=\"colab-df-container\">\n",
              "      <div>\n",
              "<style scoped>\n",
              "    .dataframe tbody tr th:only-of-type {\n",
              "        vertical-align: middle;\n",
              "    }\n",
              "\n",
              "    .dataframe tbody tr th {\n",
              "        vertical-align: top;\n",
              "    }\n",
              "\n",
              "    .dataframe thead th {\n",
              "        text-align: right;\n",
              "    }\n",
              "</style>\n",
              "<table border=\"1\" class=\"dataframe\">\n",
              "  <thead>\n",
              "    <tr style=\"text-align: right;\">\n",
              "      <th></th>\n",
              "      <th>Highest Charting Position</th>\n",
              "      <th>Number of Times Charted</th>\n",
              "      <th>Artist</th>\n",
              "      <th>Artist Followers</th>\n",
              "      <th>Genre</th>\n",
              "      <th>Release Date</th>\n",
              "      <th>Popularity</th>\n",
              "      <th>Danceability</th>\n",
              "      <th>Energy</th>\n",
              "      <th>Loudness</th>\n",
              "      <th>Speechiness</th>\n",
              "      <th>Acousticness</th>\n",
              "      <th>Liveness</th>\n",
              "      <th>Tempo</th>\n",
              "      <th>Duration (ms)</th>\n",
              "      <th>Valence</th>\n",
              "      <th>Chord</th>\n",
              "    </tr>\n",
              "  </thead>\n",
              "  <tbody>\n",
              "    <tr>\n",
              "      <th>0</th>\n",
              "      <td>1</td>\n",
              "      <td>8</td>\n",
              "      <td>Måneskin</td>\n",
              "      <td>3377762</td>\n",
              "      <td>['indie rock italiano', 'italian pop']</td>\n",
              "      <td>2017-12-08</td>\n",
              "      <td>100</td>\n",
              "      <td>0.714</td>\n",
              "      <td>0.8</td>\n",
              "      <td>-4.808</td>\n",
              "      <td>0.0504</td>\n",
              "      <td>0.127</td>\n",
              "      <td>0.359</td>\n",
              "      <td>134.002</td>\n",
              "      <td>211560</td>\n",
              "      <td>0.589</td>\n",
              "      <td>B</td>\n",
              "    </tr>\n",
              "    <tr>\n",
              "      <th>1</th>\n",
              "      <td>2</td>\n",
              "      <td>3</td>\n",
              "      <td>The Kid LAROI</td>\n",
              "      <td>2230022</td>\n",
              "      <td>['australian hip hop']</td>\n",
              "      <td>2021-07-09</td>\n",
              "      <td>99</td>\n",
              "      <td>0.591</td>\n",
              "      <td>0.764</td>\n",
              "      <td>-5.484</td>\n",
              "      <td>0.0483</td>\n",
              "      <td>0.0383</td>\n",
              "      <td>0.103</td>\n",
              "      <td>169.928</td>\n",
              "      <td>141806</td>\n",
              "      <td>0.478</td>\n",
              "      <td>C#/Db</td>\n",
              "    </tr>\n",
              "    <tr>\n",
              "      <th>2</th>\n",
              "      <td>1</td>\n",
              "      <td>11</td>\n",
              "      <td>Olivia Rodrigo</td>\n",
              "      <td>6266514</td>\n",
              "      <td>['pop']</td>\n",
              "      <td>2021-05-21</td>\n",
              "      <td>99</td>\n",
              "      <td>0.563</td>\n",
              "      <td>0.664</td>\n",
              "      <td>-5.044</td>\n",
              "      <td>0.154</td>\n",
              "      <td>0.335</td>\n",
              "      <td>0.0849</td>\n",
              "      <td>166.928</td>\n",
              "      <td>178147</td>\n",
              "      <td>0.688</td>\n",
              "      <td>A</td>\n",
              "    </tr>\n",
              "    <tr>\n",
              "      <th>3</th>\n",
              "      <td>3</td>\n",
              "      <td>5</td>\n",
              "      <td>Ed Sheeran</td>\n",
              "      <td>83293380</td>\n",
              "      <td>['pop', 'uk pop']</td>\n",
              "      <td>2021-06-25</td>\n",
              "      <td>98</td>\n",
              "      <td>0.808</td>\n",
              "      <td>0.897</td>\n",
              "      <td>-3.712</td>\n",
              "      <td>0.0348</td>\n",
              "      <td>0.0469</td>\n",
              "      <td>0.364</td>\n",
              "      <td>126.026</td>\n",
              "      <td>231041</td>\n",
              "      <td>0.591</td>\n",
              "      <td>B</td>\n",
              "    </tr>\n",
              "    <tr>\n",
              "      <th>4</th>\n",
              "      <td>5</td>\n",
              "      <td>1</td>\n",
              "      <td>Lil Nas X</td>\n",
              "      <td>5473565</td>\n",
              "      <td>['lgbtq+ hip hop', 'pop rap']</td>\n",
              "      <td>2021-07-23</td>\n",
              "      <td>96</td>\n",
              "      <td>0.736</td>\n",
              "      <td>0.704</td>\n",
              "      <td>-7.409</td>\n",
              "      <td>0.0615</td>\n",
              "      <td>0.0203</td>\n",
              "      <td>0.0501</td>\n",
              "      <td>149.995</td>\n",
              "      <td>212000</td>\n",
              "      <td>0.894</td>\n",
              "      <td>D#/Eb</td>\n",
              "    </tr>\n",
              "  </tbody>\n",
              "</table>\n",
              "</div>\n",
              "      <button class=\"colab-df-convert\" onclick=\"convertToInteractive('df-62515779-ff42-4998-8c53-fb9872f6835d')\"\n",
              "              title=\"Convert this dataframe to an interactive table.\"\n",
              "              style=\"display:none;\">\n",
              "        \n",
              "  <svg xmlns=\"http://www.w3.org/2000/svg\" height=\"24px\"viewBox=\"0 0 24 24\"\n",
              "       width=\"24px\">\n",
              "    <path d=\"M0 0h24v24H0V0z\" fill=\"none\"/>\n",
              "    <path d=\"M18.56 5.44l.94 2.06.94-2.06 2.06-.94-2.06-.94-.94-2.06-.94 2.06-2.06.94zm-11 1L8.5 8.5l.94-2.06 2.06-.94-2.06-.94L8.5 2.5l-.94 2.06-2.06.94zm10 10l.94 2.06.94-2.06 2.06-.94-2.06-.94-.94-2.06-.94 2.06-2.06.94z\"/><path d=\"M17.41 7.96l-1.37-1.37c-.4-.4-.92-.59-1.43-.59-.52 0-1.04.2-1.43.59L10.3 9.45l-7.72 7.72c-.78.78-.78 2.05 0 2.83L4 21.41c.39.39.9.59 1.41.59.51 0 1.02-.2 1.41-.59l7.78-7.78 2.81-2.81c.8-.78.8-2.07 0-2.86zM5.41 20L4 18.59l7.72-7.72 1.47 1.35L5.41 20z\"/>\n",
              "  </svg>\n",
              "      </button>\n",
              "      \n",
              "  <style>\n",
              "    .colab-df-container {\n",
              "      display:flex;\n",
              "      flex-wrap:wrap;\n",
              "      gap: 12px;\n",
              "    }\n",
              "\n",
              "    .colab-df-convert {\n",
              "      background-color: #E8F0FE;\n",
              "      border: none;\n",
              "      border-radius: 50%;\n",
              "      cursor: pointer;\n",
              "      display: none;\n",
              "      fill: #1967D2;\n",
              "      height: 32px;\n",
              "      padding: 0 0 0 0;\n",
              "      width: 32px;\n",
              "    }\n",
              "\n",
              "    .colab-df-convert:hover {\n",
              "      background-color: #E2EBFA;\n",
              "      box-shadow: 0px 1px 2px rgba(60, 64, 67, 0.3), 0px 1px 3px 1px rgba(60, 64, 67, 0.15);\n",
              "      fill: #174EA6;\n",
              "    }\n",
              "\n",
              "    [theme=dark] .colab-df-convert {\n",
              "      background-color: #3B4455;\n",
              "      fill: #D2E3FC;\n",
              "    }\n",
              "\n",
              "    [theme=dark] .colab-df-convert:hover {\n",
              "      background-color: #434B5C;\n",
              "      box-shadow: 0px 1px 3px 1px rgba(0, 0, 0, 0.15);\n",
              "      filter: drop-shadow(0px 1px 2px rgba(0, 0, 0, 0.3));\n",
              "      fill: #FFFFFF;\n",
              "    }\n",
              "  </style>\n",
              "\n",
              "      <script>\n",
              "        const buttonEl =\n",
              "          document.querySelector('#df-62515779-ff42-4998-8c53-fb9872f6835d button.colab-df-convert');\n",
              "        buttonEl.style.display =\n",
              "          google.colab.kernel.accessAllowed ? 'block' : 'none';\n",
              "\n",
              "        async function convertToInteractive(key) {\n",
              "          const element = document.querySelector('#df-62515779-ff42-4998-8c53-fb9872f6835d');\n",
              "          const dataTable =\n",
              "            await google.colab.kernel.invokeFunction('convertToInteractive',\n",
              "                                                     [key], {});\n",
              "          if (!dataTable) return;\n",
              "\n",
              "          const docLinkHtml = 'Like what you see? Visit the ' +\n",
              "            '<a target=\"_blank\" href=https://colab.research.google.com/notebooks/data_table.ipynb>data table notebook</a>'\n",
              "            + ' to learn more about interactive tables.';\n",
              "          element.innerHTML = '';\n",
              "          dataTable['output_type'] = 'display_data';\n",
              "          await google.colab.output.renderOutput(dataTable, element);\n",
              "          const docLink = document.createElement('div');\n",
              "          docLink.innerHTML = docLinkHtml;\n",
              "          element.appendChild(docLink);\n",
              "        }\n",
              "      </script>\n",
              "    </div>\n",
              "  </div>\n",
              "  "
            ]
          },
          "metadata": {},
          "execution_count": 5
        }
      ],
      "source": [
        "data = data.drop(['Index','Week of Highest Charting','Song Name','Streams','Song ID','Weeks Charted'],axis=1)\n",
        "data.head()"
      ]
    },
    {
      "cell_type": "markdown",
      "id": "83272f62",
      "metadata": {
        "id": "83272f62"
      },
      "source": [
        "# Data exploring"
      ]
    },
    {
      "cell_type": "code",
      "execution_count": 6,
      "id": "badb9286",
      "metadata": {
        "scrolled": true,
        "colab": {
          "base_uri": "https://localhost:8080/",
          "height": 424
        },
        "id": "badb9286",
        "outputId": "5c04ed99-9509-4e69-f695-091f548d0e20"
      },
      "outputs": [
        {
          "output_type": "execute_result",
          "data": {
            "text/plain": [
              "                               Artist\n",
              "Taylor Swift                       52\n",
              "Lil Uzi Vert                       32\n",
              "Justin Bieber                      32\n",
              "Juice WRLD                         30\n",
              "Pop Smoke                          29\n",
              "...                               ...\n",
              "Chris Brown, Young Thug             1\n",
              "Rauw Alejandro, J Balvin            1\n",
              "347aidan                            1\n",
              "Migrantes, Alico                    1\n",
              "Dadá Boladão, Tati Zaqui, OIK       1\n",
              "\n",
              "[716 rows x 1 columns]"
            ],
            "text/html": [
              "\n",
              "  <div id=\"df-9c1ca5d2-c3c0-41bc-8017-338a729a7b1a\">\n",
              "    <div class=\"colab-df-container\">\n",
              "      <div>\n",
              "<style scoped>\n",
              "    .dataframe tbody tr th:only-of-type {\n",
              "        vertical-align: middle;\n",
              "    }\n",
              "\n",
              "    .dataframe tbody tr th {\n",
              "        vertical-align: top;\n",
              "    }\n",
              "\n",
              "    .dataframe thead th {\n",
              "        text-align: right;\n",
              "    }\n",
              "</style>\n",
              "<table border=\"1\" class=\"dataframe\">\n",
              "  <thead>\n",
              "    <tr style=\"text-align: right;\">\n",
              "      <th></th>\n",
              "      <th>Artist</th>\n",
              "    </tr>\n",
              "  </thead>\n",
              "  <tbody>\n",
              "    <tr>\n",
              "      <th>Taylor Swift</th>\n",
              "      <td>52</td>\n",
              "    </tr>\n",
              "    <tr>\n",
              "      <th>Lil Uzi Vert</th>\n",
              "      <td>32</td>\n",
              "    </tr>\n",
              "    <tr>\n",
              "      <th>Justin Bieber</th>\n",
              "      <td>32</td>\n",
              "    </tr>\n",
              "    <tr>\n",
              "      <th>Juice WRLD</th>\n",
              "      <td>30</td>\n",
              "    </tr>\n",
              "    <tr>\n",
              "      <th>Pop Smoke</th>\n",
              "      <td>29</td>\n",
              "    </tr>\n",
              "    <tr>\n",
              "      <th>...</th>\n",
              "      <td>...</td>\n",
              "    </tr>\n",
              "    <tr>\n",
              "      <th>Chris Brown, Young Thug</th>\n",
              "      <td>1</td>\n",
              "    </tr>\n",
              "    <tr>\n",
              "      <th>Rauw Alejandro, J Balvin</th>\n",
              "      <td>1</td>\n",
              "    </tr>\n",
              "    <tr>\n",
              "      <th>347aidan</th>\n",
              "      <td>1</td>\n",
              "    </tr>\n",
              "    <tr>\n",
              "      <th>Migrantes, Alico</th>\n",
              "      <td>1</td>\n",
              "    </tr>\n",
              "    <tr>\n",
              "      <th>Dadá Boladão, Tati Zaqui, OIK</th>\n",
              "      <td>1</td>\n",
              "    </tr>\n",
              "  </tbody>\n",
              "</table>\n",
              "<p>716 rows × 1 columns</p>\n",
              "</div>\n",
              "      <button class=\"colab-df-convert\" onclick=\"convertToInteractive('df-9c1ca5d2-c3c0-41bc-8017-338a729a7b1a')\"\n",
              "              title=\"Convert this dataframe to an interactive table.\"\n",
              "              style=\"display:none;\">\n",
              "        \n",
              "  <svg xmlns=\"http://www.w3.org/2000/svg\" height=\"24px\"viewBox=\"0 0 24 24\"\n",
              "       width=\"24px\">\n",
              "    <path d=\"M0 0h24v24H0V0z\" fill=\"none\"/>\n",
              "    <path d=\"M18.56 5.44l.94 2.06.94-2.06 2.06-.94-2.06-.94-.94-2.06-.94 2.06-2.06.94zm-11 1L8.5 8.5l.94-2.06 2.06-.94-2.06-.94L8.5 2.5l-.94 2.06-2.06.94zm10 10l.94 2.06.94-2.06 2.06-.94-2.06-.94-.94-2.06-.94 2.06-2.06.94z\"/><path d=\"M17.41 7.96l-1.37-1.37c-.4-.4-.92-.59-1.43-.59-.52 0-1.04.2-1.43.59L10.3 9.45l-7.72 7.72c-.78.78-.78 2.05 0 2.83L4 21.41c.39.39.9.59 1.41.59.51 0 1.02-.2 1.41-.59l7.78-7.78 2.81-2.81c.8-.78.8-2.07 0-2.86zM5.41 20L4 18.59l7.72-7.72 1.47 1.35L5.41 20z\"/>\n",
              "  </svg>\n",
              "      </button>\n",
              "      \n",
              "  <style>\n",
              "    .colab-df-container {\n",
              "      display:flex;\n",
              "      flex-wrap:wrap;\n",
              "      gap: 12px;\n",
              "    }\n",
              "\n",
              "    .colab-df-convert {\n",
              "      background-color: #E8F0FE;\n",
              "      border: none;\n",
              "      border-radius: 50%;\n",
              "      cursor: pointer;\n",
              "      display: none;\n",
              "      fill: #1967D2;\n",
              "      height: 32px;\n",
              "      padding: 0 0 0 0;\n",
              "      width: 32px;\n",
              "    }\n",
              "\n",
              "    .colab-df-convert:hover {\n",
              "      background-color: #E2EBFA;\n",
              "      box-shadow: 0px 1px 2px rgba(60, 64, 67, 0.3), 0px 1px 3px 1px rgba(60, 64, 67, 0.15);\n",
              "      fill: #174EA6;\n",
              "    }\n",
              "\n",
              "    [theme=dark] .colab-df-convert {\n",
              "      background-color: #3B4455;\n",
              "      fill: #D2E3FC;\n",
              "    }\n",
              "\n",
              "    [theme=dark] .colab-df-convert:hover {\n",
              "      background-color: #434B5C;\n",
              "      box-shadow: 0px 1px 3px 1px rgba(0, 0, 0, 0.15);\n",
              "      filter: drop-shadow(0px 1px 2px rgba(0, 0, 0, 0.3));\n",
              "      fill: #FFFFFF;\n",
              "    }\n",
              "  </style>\n",
              "\n",
              "      <script>\n",
              "        const buttonEl =\n",
              "          document.querySelector('#df-9c1ca5d2-c3c0-41bc-8017-338a729a7b1a button.colab-df-convert');\n",
              "        buttonEl.style.display =\n",
              "          google.colab.kernel.accessAllowed ? 'block' : 'none';\n",
              "\n",
              "        async function convertToInteractive(key) {\n",
              "          const element = document.querySelector('#df-9c1ca5d2-c3c0-41bc-8017-338a729a7b1a');\n",
              "          const dataTable =\n",
              "            await google.colab.kernel.invokeFunction('convertToInteractive',\n",
              "                                                     [key], {});\n",
              "          if (!dataTable) return;\n",
              "\n",
              "          const docLinkHtml = 'Like what you see? Visit the ' +\n",
              "            '<a target=\"_blank\" href=https://colab.research.google.com/notebooks/data_table.ipynb>data table notebook</a>'\n",
              "            + ' to learn more about interactive tables.';\n",
              "          element.innerHTML = '';\n",
              "          dataTable['output_type'] = 'display_data';\n",
              "          await google.colab.output.renderOutput(dataTable, element);\n",
              "          const docLink = document.createElement('div');\n",
              "          docLink.innerHTML = docLinkHtml;\n",
              "          element.appendChild(docLink);\n",
              "        }\n",
              "      </script>\n",
              "    </div>\n",
              "  </div>\n",
              "  "
            ]
          },
          "metadata": {},
          "execution_count": 6
        }
      ],
      "source": [
        "Artist=data['Artist'].value_counts()\n",
        "Artist=pd.DataFrame(Artist)\n",
        "Artist"
      ]
    },
    {
      "cell_type": "code",
      "execution_count": 7,
      "id": "2db8b2b1",
      "metadata": {
        "scrolled": true,
        "colab": {
          "base_uri": "https://localhost:8080/"
        },
        "id": "2db8b2b1",
        "outputId": "ad228add-f6a6-4cb6-a8ce-9d4da0ea061f"
      },
      "outputs": [
        {
          "output_type": "execute_result",
          "data": {
            "text/plain": [
              "716"
            ]
          },
          "metadata": {},
          "execution_count": 7
        }
      ],
      "source": [
        "Artist.size"
      ]
    },
    {
      "cell_type": "code",
      "execution_count": 8,
      "id": "873f925d",
      "metadata": {
        "scrolled": true,
        "colab": {
          "base_uri": "https://localhost:8080/",
          "height": 424
        },
        "id": "873f925d",
        "outputId": "a92f6a92-c1d1-42cd-9268-2f12a14c360a"
      },
      "outputs": [
        {
          "output_type": "execute_result",
          "data": {
            "text/plain": [
              "                                                    Genre\n",
              "[]                                                     75\n",
              "['dance pop', 'pop', 'post-teen pop']                  71\n",
              "['latin', 'reggaeton', 'trap latino']                  63\n",
              "['pop', 'post-teen pop']                               57\n",
              "['melodic rap', 'philly rap', 'rap', 'trap']           33\n",
              "...                                                   ...\n",
              "['trap queen']                                          1\n",
              "['dream smp', 'viral rap']                              1\n",
              "['disco', 'europop', 'new romantic', 'new wave'...      1\n",
              "['adult standards', 'brill building pop', 'easy...      1\n",
              "['gangster rap', 'hip hop', 'pop rap', 'rap', '...      1\n",
              "\n",
              "[395 rows x 1 columns]"
            ],
            "text/html": [
              "\n",
              "  <div id=\"df-e052276e-673f-4edb-8435-b7adf5ec6888\">\n",
              "    <div class=\"colab-df-container\">\n",
              "      <div>\n",
              "<style scoped>\n",
              "    .dataframe tbody tr th:only-of-type {\n",
              "        vertical-align: middle;\n",
              "    }\n",
              "\n",
              "    .dataframe tbody tr th {\n",
              "        vertical-align: top;\n",
              "    }\n",
              "\n",
              "    .dataframe thead th {\n",
              "        text-align: right;\n",
              "    }\n",
              "</style>\n",
              "<table border=\"1\" class=\"dataframe\">\n",
              "  <thead>\n",
              "    <tr style=\"text-align: right;\">\n",
              "      <th></th>\n",
              "      <th>Genre</th>\n",
              "    </tr>\n",
              "  </thead>\n",
              "  <tbody>\n",
              "    <tr>\n",
              "      <th>[]</th>\n",
              "      <td>75</td>\n",
              "    </tr>\n",
              "    <tr>\n",
              "      <th>['dance pop', 'pop', 'post-teen pop']</th>\n",
              "      <td>71</td>\n",
              "    </tr>\n",
              "    <tr>\n",
              "      <th>['latin', 'reggaeton', 'trap latino']</th>\n",
              "      <td>63</td>\n",
              "    </tr>\n",
              "    <tr>\n",
              "      <th>['pop', 'post-teen pop']</th>\n",
              "      <td>57</td>\n",
              "    </tr>\n",
              "    <tr>\n",
              "      <th>['melodic rap', 'philly rap', 'rap', 'trap']</th>\n",
              "      <td>33</td>\n",
              "    </tr>\n",
              "    <tr>\n",
              "      <th>...</th>\n",
              "      <td>...</td>\n",
              "    </tr>\n",
              "    <tr>\n",
              "      <th>['trap queen']</th>\n",
              "      <td>1</td>\n",
              "    </tr>\n",
              "    <tr>\n",
              "      <th>['dream smp', 'viral rap']</th>\n",
              "      <td>1</td>\n",
              "    </tr>\n",
              "    <tr>\n",
              "      <th>['disco', 'europop', 'new romantic', 'new wave', 'new wave pop', 'soft rock', 'synthpop']</th>\n",
              "      <td>1</td>\n",
              "    </tr>\n",
              "    <tr>\n",
              "      <th>['adult standards', 'brill building pop', 'easy listening', 'lounge', 'rockabilly', 'vocal jazz']</th>\n",
              "      <td>1</td>\n",
              "    </tr>\n",
              "    <tr>\n",
              "      <th>['gangster rap', 'hip hop', 'pop rap', 'rap', 'southern hip hop', 'trap']</th>\n",
              "      <td>1</td>\n",
              "    </tr>\n",
              "  </tbody>\n",
              "</table>\n",
              "<p>395 rows × 1 columns</p>\n",
              "</div>\n",
              "      <button class=\"colab-df-convert\" onclick=\"convertToInteractive('df-e052276e-673f-4edb-8435-b7adf5ec6888')\"\n",
              "              title=\"Convert this dataframe to an interactive table.\"\n",
              "              style=\"display:none;\">\n",
              "        \n",
              "  <svg xmlns=\"http://www.w3.org/2000/svg\" height=\"24px\"viewBox=\"0 0 24 24\"\n",
              "       width=\"24px\">\n",
              "    <path d=\"M0 0h24v24H0V0z\" fill=\"none\"/>\n",
              "    <path d=\"M18.56 5.44l.94 2.06.94-2.06 2.06-.94-2.06-.94-.94-2.06-.94 2.06-2.06.94zm-11 1L8.5 8.5l.94-2.06 2.06-.94-2.06-.94L8.5 2.5l-.94 2.06-2.06.94zm10 10l.94 2.06.94-2.06 2.06-.94-2.06-.94-.94-2.06-.94 2.06-2.06.94z\"/><path d=\"M17.41 7.96l-1.37-1.37c-.4-.4-.92-.59-1.43-.59-.52 0-1.04.2-1.43.59L10.3 9.45l-7.72 7.72c-.78.78-.78 2.05 0 2.83L4 21.41c.39.39.9.59 1.41.59.51 0 1.02-.2 1.41-.59l7.78-7.78 2.81-2.81c.8-.78.8-2.07 0-2.86zM5.41 20L4 18.59l7.72-7.72 1.47 1.35L5.41 20z\"/>\n",
              "  </svg>\n",
              "      </button>\n",
              "      \n",
              "  <style>\n",
              "    .colab-df-container {\n",
              "      display:flex;\n",
              "      flex-wrap:wrap;\n",
              "      gap: 12px;\n",
              "    }\n",
              "\n",
              "    .colab-df-convert {\n",
              "      background-color: #E8F0FE;\n",
              "      border: none;\n",
              "      border-radius: 50%;\n",
              "      cursor: pointer;\n",
              "      display: none;\n",
              "      fill: #1967D2;\n",
              "      height: 32px;\n",
              "      padding: 0 0 0 0;\n",
              "      width: 32px;\n",
              "    }\n",
              "\n",
              "    .colab-df-convert:hover {\n",
              "      background-color: #E2EBFA;\n",
              "      box-shadow: 0px 1px 2px rgba(60, 64, 67, 0.3), 0px 1px 3px 1px rgba(60, 64, 67, 0.15);\n",
              "      fill: #174EA6;\n",
              "    }\n",
              "\n",
              "    [theme=dark] .colab-df-convert {\n",
              "      background-color: #3B4455;\n",
              "      fill: #D2E3FC;\n",
              "    }\n",
              "\n",
              "    [theme=dark] .colab-df-convert:hover {\n",
              "      background-color: #434B5C;\n",
              "      box-shadow: 0px 1px 3px 1px rgba(0, 0, 0, 0.15);\n",
              "      filter: drop-shadow(0px 1px 2px rgba(0, 0, 0, 0.3));\n",
              "      fill: #FFFFFF;\n",
              "    }\n",
              "  </style>\n",
              "\n",
              "      <script>\n",
              "        const buttonEl =\n",
              "          document.querySelector('#df-e052276e-673f-4edb-8435-b7adf5ec6888 button.colab-df-convert');\n",
              "        buttonEl.style.display =\n",
              "          google.colab.kernel.accessAllowed ? 'block' : 'none';\n",
              "\n",
              "        async function convertToInteractive(key) {\n",
              "          const element = document.querySelector('#df-e052276e-673f-4edb-8435-b7adf5ec6888');\n",
              "          const dataTable =\n",
              "            await google.colab.kernel.invokeFunction('convertToInteractive',\n",
              "                                                     [key], {});\n",
              "          if (!dataTable) return;\n",
              "\n",
              "          const docLinkHtml = 'Like what you see? Visit the ' +\n",
              "            '<a target=\"_blank\" href=https://colab.research.google.com/notebooks/data_table.ipynb>data table notebook</a>'\n",
              "            + ' to learn more about interactive tables.';\n",
              "          element.innerHTML = '';\n",
              "          dataTable['output_type'] = 'display_data';\n",
              "          await google.colab.output.renderOutput(dataTable, element);\n",
              "          const docLink = document.createElement('div');\n",
              "          docLink.innerHTML = docLinkHtml;\n",
              "          element.appendChild(docLink);\n",
              "        }\n",
              "      </script>\n",
              "    </div>\n",
              "  </div>\n",
              "  "
            ]
          },
          "metadata": {},
          "execution_count": 8
        }
      ],
      "source": [
        "Genre=data['Genre'].value_counts()\n",
        "Genre=pd.DataFrame(Genre)\n",
        "Genre"
      ]
    },
    {
      "cell_type": "code",
      "execution_count": 9,
      "id": "1eadf5ef",
      "metadata": {
        "scrolled": true,
        "colab": {
          "base_uri": "https://localhost:8080/"
        },
        "id": "1eadf5ef",
        "outputId": "d6a5fc96-fb5b-4f8b-a747-8afd048c8ded"
      },
      "outputs": [
        {
          "output_type": "execute_result",
          "data": {
            "text/plain": [
              "395"
            ]
          },
          "metadata": {},
          "execution_count": 9
        }
      ],
      "source": [
        "Genre.size"
      ]
    },
    {
      "cell_type": "code",
      "execution_count": 10,
      "id": "358fd40a",
      "metadata": {
        "id": "358fd40a",
        "colab": {
          "base_uri": "https://localhost:8080/",
          "height": 457
        },
        "outputId": "342886a6-8dc9-45c2-bc04-f66c1c5b424c"
      },
      "outputs": [
        {
          "output_type": "execute_result",
          "data": {
            "text/plain": [
              "       Chord\n",
              "C#/Db    214\n",
              "C        155\n",
              "B        141\n",
              "G        136\n",
              "F        131\n",
              "G#/Ab    130\n",
              "D        125\n",
              "A#/Bb    122\n",
              "F#/Gb    121\n",
              "A        118\n",
              "E        112\n",
              "D#/Eb     40\n",
              "          11"
            ],
            "text/html": [
              "\n",
              "  <div id=\"df-71d2795a-78e2-4cf5-ac91-8ed66036acf4\">\n",
              "    <div class=\"colab-df-container\">\n",
              "      <div>\n",
              "<style scoped>\n",
              "    .dataframe tbody tr th:only-of-type {\n",
              "        vertical-align: middle;\n",
              "    }\n",
              "\n",
              "    .dataframe tbody tr th {\n",
              "        vertical-align: top;\n",
              "    }\n",
              "\n",
              "    .dataframe thead th {\n",
              "        text-align: right;\n",
              "    }\n",
              "</style>\n",
              "<table border=\"1\" class=\"dataframe\">\n",
              "  <thead>\n",
              "    <tr style=\"text-align: right;\">\n",
              "      <th></th>\n",
              "      <th>Chord</th>\n",
              "    </tr>\n",
              "  </thead>\n",
              "  <tbody>\n",
              "    <tr>\n",
              "      <th>C#/Db</th>\n",
              "      <td>214</td>\n",
              "    </tr>\n",
              "    <tr>\n",
              "      <th>C</th>\n",
              "      <td>155</td>\n",
              "    </tr>\n",
              "    <tr>\n",
              "      <th>B</th>\n",
              "      <td>141</td>\n",
              "    </tr>\n",
              "    <tr>\n",
              "      <th>G</th>\n",
              "      <td>136</td>\n",
              "    </tr>\n",
              "    <tr>\n",
              "      <th>F</th>\n",
              "      <td>131</td>\n",
              "    </tr>\n",
              "    <tr>\n",
              "      <th>G#/Ab</th>\n",
              "      <td>130</td>\n",
              "    </tr>\n",
              "    <tr>\n",
              "      <th>D</th>\n",
              "      <td>125</td>\n",
              "    </tr>\n",
              "    <tr>\n",
              "      <th>A#/Bb</th>\n",
              "      <td>122</td>\n",
              "    </tr>\n",
              "    <tr>\n",
              "      <th>F#/Gb</th>\n",
              "      <td>121</td>\n",
              "    </tr>\n",
              "    <tr>\n",
              "      <th>A</th>\n",
              "      <td>118</td>\n",
              "    </tr>\n",
              "    <tr>\n",
              "      <th>E</th>\n",
              "      <td>112</td>\n",
              "    </tr>\n",
              "    <tr>\n",
              "      <th>D#/Eb</th>\n",
              "      <td>40</td>\n",
              "    </tr>\n",
              "    <tr>\n",
              "      <th></th>\n",
              "      <td>11</td>\n",
              "    </tr>\n",
              "  </tbody>\n",
              "</table>\n",
              "</div>\n",
              "      <button class=\"colab-df-convert\" onclick=\"convertToInteractive('df-71d2795a-78e2-4cf5-ac91-8ed66036acf4')\"\n",
              "              title=\"Convert this dataframe to an interactive table.\"\n",
              "              style=\"display:none;\">\n",
              "        \n",
              "  <svg xmlns=\"http://www.w3.org/2000/svg\" height=\"24px\"viewBox=\"0 0 24 24\"\n",
              "       width=\"24px\">\n",
              "    <path d=\"M0 0h24v24H0V0z\" fill=\"none\"/>\n",
              "    <path d=\"M18.56 5.44l.94 2.06.94-2.06 2.06-.94-2.06-.94-.94-2.06-.94 2.06-2.06.94zm-11 1L8.5 8.5l.94-2.06 2.06-.94-2.06-.94L8.5 2.5l-.94 2.06-2.06.94zm10 10l.94 2.06.94-2.06 2.06-.94-2.06-.94-.94-2.06-.94 2.06-2.06.94z\"/><path d=\"M17.41 7.96l-1.37-1.37c-.4-.4-.92-.59-1.43-.59-.52 0-1.04.2-1.43.59L10.3 9.45l-7.72 7.72c-.78.78-.78 2.05 0 2.83L4 21.41c.39.39.9.59 1.41.59.51 0 1.02-.2 1.41-.59l7.78-7.78 2.81-2.81c.8-.78.8-2.07 0-2.86zM5.41 20L4 18.59l7.72-7.72 1.47 1.35L5.41 20z\"/>\n",
              "  </svg>\n",
              "      </button>\n",
              "      \n",
              "  <style>\n",
              "    .colab-df-container {\n",
              "      display:flex;\n",
              "      flex-wrap:wrap;\n",
              "      gap: 12px;\n",
              "    }\n",
              "\n",
              "    .colab-df-convert {\n",
              "      background-color: #E8F0FE;\n",
              "      border: none;\n",
              "      border-radius: 50%;\n",
              "      cursor: pointer;\n",
              "      display: none;\n",
              "      fill: #1967D2;\n",
              "      height: 32px;\n",
              "      padding: 0 0 0 0;\n",
              "      width: 32px;\n",
              "    }\n",
              "\n",
              "    .colab-df-convert:hover {\n",
              "      background-color: #E2EBFA;\n",
              "      box-shadow: 0px 1px 2px rgba(60, 64, 67, 0.3), 0px 1px 3px 1px rgba(60, 64, 67, 0.15);\n",
              "      fill: #174EA6;\n",
              "    }\n",
              "\n",
              "    [theme=dark] .colab-df-convert {\n",
              "      background-color: #3B4455;\n",
              "      fill: #D2E3FC;\n",
              "    }\n",
              "\n",
              "    [theme=dark] .colab-df-convert:hover {\n",
              "      background-color: #434B5C;\n",
              "      box-shadow: 0px 1px 3px 1px rgba(0, 0, 0, 0.15);\n",
              "      filter: drop-shadow(0px 1px 2px rgba(0, 0, 0, 0.3));\n",
              "      fill: #FFFFFF;\n",
              "    }\n",
              "  </style>\n",
              "\n",
              "      <script>\n",
              "        const buttonEl =\n",
              "          document.querySelector('#df-71d2795a-78e2-4cf5-ac91-8ed66036acf4 button.colab-df-convert');\n",
              "        buttonEl.style.display =\n",
              "          google.colab.kernel.accessAllowed ? 'block' : 'none';\n",
              "\n",
              "        async function convertToInteractive(key) {\n",
              "          const element = document.querySelector('#df-71d2795a-78e2-4cf5-ac91-8ed66036acf4');\n",
              "          const dataTable =\n",
              "            await google.colab.kernel.invokeFunction('convertToInteractive',\n",
              "                                                     [key], {});\n",
              "          if (!dataTable) return;\n",
              "\n",
              "          const docLinkHtml = 'Like what you see? Visit the ' +\n",
              "            '<a target=\"_blank\" href=https://colab.research.google.com/notebooks/data_table.ipynb>data table notebook</a>'\n",
              "            + ' to learn more about interactive tables.';\n",
              "          element.innerHTML = '';\n",
              "          dataTable['output_type'] = 'display_data';\n",
              "          await google.colab.output.renderOutput(dataTable, element);\n",
              "          const docLink = document.createElement('div');\n",
              "          docLink.innerHTML = docLinkHtml;\n",
              "          element.appendChild(docLink);\n",
              "        }\n",
              "      </script>\n",
              "    </div>\n",
              "  </div>\n",
              "  "
            ]
          },
          "metadata": {},
          "execution_count": 10
        }
      ],
      "source": [
        "Chord=data['Chord'].value_counts()\n",
        "Chord=pd.DataFrame(Chord)\n",
        "Chord"
      ]
    },
    {
      "cell_type": "code",
      "execution_count": 11,
      "id": "fe41925b",
      "metadata": {
        "colab": {
          "base_uri": "https://localhost:8080/"
        },
        "id": "fe41925b",
        "outputId": "653925ca-9a44-48d9-a425-96f765dcd396"
      },
      "outputs": [
        {
          "output_type": "execute_result",
          "data": {
            "text/plain": [
              "13"
            ]
          },
          "metadata": {},
          "execution_count": 11
        }
      ],
      "source": [
        "Chord.size"
      ]
    },
    {
      "cell_type": "code",
      "execution_count": 12,
      "id": "0002b484",
      "metadata": {
        "scrolled": true,
        "id": "0002b484"
      },
      "outputs": [],
      "source": [
        "# print(data['Artist'].unique())\n",
        "# print('************')\n",
        "# print(data['Genre'].unique())\n",
        "# print('************')\n",
        "# print(data['Chord'].unique())"
      ]
    },
    {
      "cell_type": "markdown",
      "id": "917a9720",
      "metadata": {
        "id": "917a9720"
      },
      "source": [
        "**PREPROCESSING**"
      ]
    },
    {
      "cell_type": "code",
      "execution_count": 13,
      "id": "3192f572",
      "metadata": {
        "scrolled": true,
        "id": "3192f572",
        "colab": {
          "base_uri": "https://localhost:8080/",
          "height": 266
        },
        "outputId": "61dc79df-8b9e-4c71-dc0e-8261852dba71"
      },
      "outputs": [
        {
          "output_type": "execute_result",
          "data": {
            "text/plain": [
              "   Highest Charting Position  Number of Times Charted    Artist  \\\n",
              "0                          1                        8  Måneskin   \n",
              "\n",
              "  Artist Followers                                   Genre Release Date  \\\n",
              "0          3377762  ['indie rock italiano', 'italian pop']   2017-12-08   \n",
              "\n",
              "  Popularity Danceability Energy Loudness Speechiness Acousticness Liveness  \\\n",
              "0        100        0.714    0.8   -4.808      0.0504        0.127    0.359   \n",
              "\n",
              "     Tempo Duration (ms) Valence Chord  \n",
              "0  134.002        211560   0.589     B  "
            ],
            "text/html": [
              "\n",
              "  <div id=\"df-93fb7924-c4d2-47f4-8213-c965f129dc98\">\n",
              "    <div class=\"colab-df-container\">\n",
              "      <div>\n",
              "<style scoped>\n",
              "    .dataframe tbody tr th:only-of-type {\n",
              "        vertical-align: middle;\n",
              "    }\n",
              "\n",
              "    .dataframe tbody tr th {\n",
              "        vertical-align: top;\n",
              "    }\n",
              "\n",
              "    .dataframe thead th {\n",
              "        text-align: right;\n",
              "    }\n",
              "</style>\n",
              "<table border=\"1\" class=\"dataframe\">\n",
              "  <thead>\n",
              "    <tr style=\"text-align: right;\">\n",
              "      <th></th>\n",
              "      <th>Highest Charting Position</th>\n",
              "      <th>Number of Times Charted</th>\n",
              "      <th>Artist</th>\n",
              "      <th>Artist Followers</th>\n",
              "      <th>Genre</th>\n",
              "      <th>Release Date</th>\n",
              "      <th>Popularity</th>\n",
              "      <th>Danceability</th>\n",
              "      <th>Energy</th>\n",
              "      <th>Loudness</th>\n",
              "      <th>Speechiness</th>\n",
              "      <th>Acousticness</th>\n",
              "      <th>Liveness</th>\n",
              "      <th>Tempo</th>\n",
              "      <th>Duration (ms)</th>\n",
              "      <th>Valence</th>\n",
              "      <th>Chord</th>\n",
              "    </tr>\n",
              "  </thead>\n",
              "  <tbody>\n",
              "    <tr>\n",
              "      <th>0</th>\n",
              "      <td>1</td>\n",
              "      <td>8</td>\n",
              "      <td>Måneskin</td>\n",
              "      <td>3377762</td>\n",
              "      <td>['indie rock italiano', 'italian pop']</td>\n",
              "      <td>2017-12-08</td>\n",
              "      <td>100</td>\n",
              "      <td>0.714</td>\n",
              "      <td>0.8</td>\n",
              "      <td>-4.808</td>\n",
              "      <td>0.0504</td>\n",
              "      <td>0.127</td>\n",
              "      <td>0.359</td>\n",
              "      <td>134.002</td>\n",
              "      <td>211560</td>\n",
              "      <td>0.589</td>\n",
              "      <td>B</td>\n",
              "    </tr>\n",
              "  </tbody>\n",
              "</table>\n",
              "</div>\n",
              "      <button class=\"colab-df-convert\" onclick=\"convertToInteractive('df-93fb7924-c4d2-47f4-8213-c965f129dc98')\"\n",
              "              title=\"Convert this dataframe to an interactive table.\"\n",
              "              style=\"display:none;\">\n",
              "        \n",
              "  <svg xmlns=\"http://www.w3.org/2000/svg\" height=\"24px\"viewBox=\"0 0 24 24\"\n",
              "       width=\"24px\">\n",
              "    <path d=\"M0 0h24v24H0V0z\" fill=\"none\"/>\n",
              "    <path d=\"M18.56 5.44l.94 2.06.94-2.06 2.06-.94-2.06-.94-.94-2.06-.94 2.06-2.06.94zm-11 1L8.5 8.5l.94-2.06 2.06-.94-2.06-.94L8.5 2.5l-.94 2.06-2.06.94zm10 10l.94 2.06.94-2.06 2.06-.94-2.06-.94-.94-2.06-.94 2.06-2.06.94z\"/><path d=\"M17.41 7.96l-1.37-1.37c-.4-.4-.92-.59-1.43-.59-.52 0-1.04.2-1.43.59L10.3 9.45l-7.72 7.72c-.78.78-.78 2.05 0 2.83L4 21.41c.39.39.9.59 1.41.59.51 0 1.02-.2 1.41-.59l7.78-7.78 2.81-2.81c.8-.78.8-2.07 0-2.86zM5.41 20L4 18.59l7.72-7.72 1.47 1.35L5.41 20z\"/>\n",
              "  </svg>\n",
              "      </button>\n",
              "      \n",
              "  <style>\n",
              "    .colab-df-container {\n",
              "      display:flex;\n",
              "      flex-wrap:wrap;\n",
              "      gap: 12px;\n",
              "    }\n",
              "\n",
              "    .colab-df-convert {\n",
              "      background-color: #E8F0FE;\n",
              "      border: none;\n",
              "      border-radius: 50%;\n",
              "      cursor: pointer;\n",
              "      display: none;\n",
              "      fill: #1967D2;\n",
              "      height: 32px;\n",
              "      padding: 0 0 0 0;\n",
              "      width: 32px;\n",
              "    }\n",
              "\n",
              "    .colab-df-convert:hover {\n",
              "      background-color: #E2EBFA;\n",
              "      box-shadow: 0px 1px 2px rgba(60, 64, 67, 0.3), 0px 1px 3px 1px rgba(60, 64, 67, 0.15);\n",
              "      fill: #174EA6;\n",
              "    }\n",
              "\n",
              "    [theme=dark] .colab-df-convert {\n",
              "      background-color: #3B4455;\n",
              "      fill: #D2E3FC;\n",
              "    }\n",
              "\n",
              "    [theme=dark] .colab-df-convert:hover {\n",
              "      background-color: #434B5C;\n",
              "      box-shadow: 0px 1px 3px 1px rgba(0, 0, 0, 0.15);\n",
              "      filter: drop-shadow(0px 1px 2px rgba(0, 0, 0, 0.3));\n",
              "      fill: #FFFFFF;\n",
              "    }\n",
              "  </style>\n",
              "\n",
              "      <script>\n",
              "        const buttonEl =\n",
              "          document.querySelector('#df-93fb7924-c4d2-47f4-8213-c965f129dc98 button.colab-df-convert');\n",
              "        buttonEl.style.display =\n",
              "          google.colab.kernel.accessAllowed ? 'block' : 'none';\n",
              "\n",
              "        async function convertToInteractive(key) {\n",
              "          const element = document.querySelector('#df-93fb7924-c4d2-47f4-8213-c965f129dc98');\n",
              "          const dataTable =\n",
              "            await google.colab.kernel.invokeFunction('convertToInteractive',\n",
              "                                                     [key], {});\n",
              "          if (!dataTable) return;\n",
              "\n",
              "          const docLinkHtml = 'Like what you see? Visit the ' +\n",
              "            '<a target=\"_blank\" href=https://colab.research.google.com/notebooks/data_table.ipynb>data table notebook</a>'\n",
              "            + ' to learn more about interactive tables.';\n",
              "          element.innerHTML = '';\n",
              "          dataTable['output_type'] = 'display_data';\n",
              "          await google.colab.output.renderOutput(dataTable, element);\n",
              "          const docLink = document.createElement('div');\n",
              "          docLink.innerHTML = docLinkHtml;\n",
              "          element.appendChild(docLink);\n",
              "        }\n",
              "      </script>\n",
              "    </div>\n",
              "  </div>\n",
              "  "
            ]
          },
          "metadata": {},
          "execution_count": 13
        }
      ],
      "source": [
        "data.head(1)"
      ]
    },
    {
      "cell_type": "markdown",
      "id": "5f4bb0dd",
      "metadata": {
        "id": "5f4bb0dd"
      },
      "source": [
        "extracting month from date"
      ]
    },
    {
      "cell_type": "code",
      "execution_count": 14,
      "id": "b110f040",
      "metadata": {
        "scrolled": false,
        "colab": {
          "base_uri": "https://localhost:8080/",
          "height": 266
        },
        "id": "b110f040",
        "outputId": "5c02d8d7-91a0-4f05-8c8f-bf211d71b397"
      },
      "outputs": [
        {
          "output_type": "execute_result",
          "data": {
            "text/plain": [
              "   Highest Charting Position  Number of Times Charted    Artist  \\\n",
              "0                          1                        8  Måneskin   \n",
              "\n",
              "  Artist Followers                                   Genre Popularity  \\\n",
              "0          3377762  ['indie rock italiano', 'italian pop']        100   \n",
              "\n",
              "  Danceability Energy Loudness Speechiness Acousticness Liveness    Tempo  \\\n",
              "0        0.714    0.8   -4.808      0.0504        0.127    0.359  134.002   \n",
              "\n",
              "  Duration (ms) Valence Chord  month  \n",
              "0        211560   0.589     B   12.0  "
            ],
            "text/html": [
              "\n",
              "  <div id=\"df-e10afe2c-0a91-4d3a-b0fc-789c590457f3\">\n",
              "    <div class=\"colab-df-container\">\n",
              "      <div>\n",
              "<style scoped>\n",
              "    .dataframe tbody tr th:only-of-type {\n",
              "        vertical-align: middle;\n",
              "    }\n",
              "\n",
              "    .dataframe tbody tr th {\n",
              "        vertical-align: top;\n",
              "    }\n",
              "\n",
              "    .dataframe thead th {\n",
              "        text-align: right;\n",
              "    }\n",
              "</style>\n",
              "<table border=\"1\" class=\"dataframe\">\n",
              "  <thead>\n",
              "    <tr style=\"text-align: right;\">\n",
              "      <th></th>\n",
              "      <th>Highest Charting Position</th>\n",
              "      <th>Number of Times Charted</th>\n",
              "      <th>Artist</th>\n",
              "      <th>Artist Followers</th>\n",
              "      <th>Genre</th>\n",
              "      <th>Popularity</th>\n",
              "      <th>Danceability</th>\n",
              "      <th>Energy</th>\n",
              "      <th>Loudness</th>\n",
              "      <th>Speechiness</th>\n",
              "      <th>Acousticness</th>\n",
              "      <th>Liveness</th>\n",
              "      <th>Tempo</th>\n",
              "      <th>Duration (ms)</th>\n",
              "      <th>Valence</th>\n",
              "      <th>Chord</th>\n",
              "      <th>month</th>\n",
              "    </tr>\n",
              "  </thead>\n",
              "  <tbody>\n",
              "    <tr>\n",
              "      <th>0</th>\n",
              "      <td>1</td>\n",
              "      <td>8</td>\n",
              "      <td>Måneskin</td>\n",
              "      <td>3377762</td>\n",
              "      <td>['indie rock italiano', 'italian pop']</td>\n",
              "      <td>100</td>\n",
              "      <td>0.714</td>\n",
              "      <td>0.8</td>\n",
              "      <td>-4.808</td>\n",
              "      <td>0.0504</td>\n",
              "      <td>0.127</td>\n",
              "      <td>0.359</td>\n",
              "      <td>134.002</td>\n",
              "      <td>211560</td>\n",
              "      <td>0.589</td>\n",
              "      <td>B</td>\n",
              "      <td>12.0</td>\n",
              "    </tr>\n",
              "  </tbody>\n",
              "</table>\n",
              "</div>\n",
              "      <button class=\"colab-df-convert\" onclick=\"convertToInteractive('df-e10afe2c-0a91-4d3a-b0fc-789c590457f3')\"\n",
              "              title=\"Convert this dataframe to an interactive table.\"\n",
              "              style=\"display:none;\">\n",
              "        \n",
              "  <svg xmlns=\"http://www.w3.org/2000/svg\" height=\"24px\"viewBox=\"0 0 24 24\"\n",
              "       width=\"24px\">\n",
              "    <path d=\"M0 0h24v24H0V0z\" fill=\"none\"/>\n",
              "    <path d=\"M18.56 5.44l.94 2.06.94-2.06 2.06-.94-2.06-.94-.94-2.06-.94 2.06-2.06.94zm-11 1L8.5 8.5l.94-2.06 2.06-.94-2.06-.94L8.5 2.5l-.94 2.06-2.06.94zm10 10l.94 2.06.94-2.06 2.06-.94-2.06-.94-.94-2.06-.94 2.06-2.06.94z\"/><path d=\"M17.41 7.96l-1.37-1.37c-.4-.4-.92-.59-1.43-.59-.52 0-1.04.2-1.43.59L10.3 9.45l-7.72 7.72c-.78.78-.78 2.05 0 2.83L4 21.41c.39.39.9.59 1.41.59.51 0 1.02-.2 1.41-.59l7.78-7.78 2.81-2.81c.8-.78.8-2.07 0-2.86zM5.41 20L4 18.59l7.72-7.72 1.47 1.35L5.41 20z\"/>\n",
              "  </svg>\n",
              "      </button>\n",
              "      \n",
              "  <style>\n",
              "    .colab-df-container {\n",
              "      display:flex;\n",
              "      flex-wrap:wrap;\n",
              "      gap: 12px;\n",
              "    }\n",
              "\n",
              "    .colab-df-convert {\n",
              "      background-color: #E8F0FE;\n",
              "      border: none;\n",
              "      border-radius: 50%;\n",
              "      cursor: pointer;\n",
              "      display: none;\n",
              "      fill: #1967D2;\n",
              "      height: 32px;\n",
              "      padding: 0 0 0 0;\n",
              "      width: 32px;\n",
              "    }\n",
              "\n",
              "    .colab-df-convert:hover {\n",
              "      background-color: #E2EBFA;\n",
              "      box-shadow: 0px 1px 2px rgba(60, 64, 67, 0.3), 0px 1px 3px 1px rgba(60, 64, 67, 0.15);\n",
              "      fill: #174EA6;\n",
              "    }\n",
              "\n",
              "    [theme=dark] .colab-df-convert {\n",
              "      background-color: #3B4455;\n",
              "      fill: #D2E3FC;\n",
              "    }\n",
              "\n",
              "    [theme=dark] .colab-df-convert:hover {\n",
              "      background-color: #434B5C;\n",
              "      box-shadow: 0px 1px 3px 1px rgba(0, 0, 0, 0.15);\n",
              "      filter: drop-shadow(0px 1px 2px rgba(0, 0, 0, 0.3));\n",
              "      fill: #FFFFFF;\n",
              "    }\n",
              "  </style>\n",
              "\n",
              "      <script>\n",
              "        const buttonEl =\n",
              "          document.querySelector('#df-e10afe2c-0a91-4d3a-b0fc-789c590457f3 button.colab-df-convert');\n",
              "        buttonEl.style.display =\n",
              "          google.colab.kernel.accessAllowed ? 'block' : 'none';\n",
              "\n",
              "        async function convertToInteractive(key) {\n",
              "          const element = document.querySelector('#df-e10afe2c-0a91-4d3a-b0fc-789c590457f3');\n",
              "          const dataTable =\n",
              "            await google.colab.kernel.invokeFunction('convertToInteractive',\n",
              "                                                     [key], {});\n",
              "          if (!dataTable) return;\n",
              "\n",
              "          const docLinkHtml = 'Like what you see? Visit the ' +\n",
              "            '<a target=\"_blank\" href=https://colab.research.google.com/notebooks/data_table.ipynb>data table notebook</a>'\n",
              "            + ' to learn more about interactive tables.';\n",
              "          element.innerHTML = '';\n",
              "          dataTable['output_type'] = 'display_data';\n",
              "          await google.colab.output.renderOutput(dataTable, element);\n",
              "          const docLink = document.createElement('div');\n",
              "          docLink.innerHTML = docLinkHtml;\n",
              "          element.appendChild(docLink);\n",
              "        }\n",
              "      </script>\n",
              "    </div>\n",
              "  </div>\n",
              "  "
            ]
          },
          "metadata": {},
          "execution_count": 14
        }
      ],
      "source": [
        "data['Release Date']=pd.to_datetime(data['Release Date'],infer_datetime_format=True,errors='coerce')\n",
        "data['month']=data['Release Date'].dt.month\n",
        "\n",
        "data=data.drop('Release Date',axis=1)\n",
        "data.head(1)"
      ]
    },
    {
      "cell_type": "code",
      "execution_count": 15,
      "id": "7bb5f8f2",
      "metadata": {
        "scrolled": false,
        "colab": {
          "base_uri": "https://localhost:8080/"
        },
        "id": "7bb5f8f2",
        "outputId": "bc9b0769-91d3-4ca5-baea-ea1d5fafcfe4"
      },
      "outputs": [
        {
          "output_type": "execute_result",
          "data": {
            "text/plain": [
              "Highest Charting Position      int64\n",
              "Number of Times Charted        int64\n",
              "Artist                        object\n",
              "Artist Followers              object\n",
              "Genre                         object\n",
              "Popularity                    object\n",
              "Danceability                  object\n",
              "Energy                        object\n",
              "Loudness                      object\n",
              "Speechiness                   object\n",
              "Acousticness                  object\n",
              "Liveness                      object\n",
              "Tempo                         object\n",
              "Duration (ms)                 object\n",
              "Valence                       object\n",
              "Chord                         object\n",
              "month                        float64\n",
              "dtype: object"
            ]
          },
          "metadata": {},
          "execution_count": 15
        }
      ],
      "source": [
        "data.dtypes"
      ]
    },
    {
      "cell_type": "markdown",
      "id": "d3a79929",
      "metadata": {
        "id": "d3a79929"
      },
      "source": [
        "converting object to float"
      ]
    },
    {
      "cell_type": "code",
      "execution_count": 16,
      "id": "d57b5dbe",
      "metadata": {
        "scrolled": true,
        "id": "d57b5dbe"
      },
      "outputs": [],
      "source": [
        "#to_numeric  --to convert to numeric form or float\n",
        "#errors='coerce'--to convert non numerical values to nan values\n",
        "data['Artist Followers']=pd.to_numeric(data['Artist Followers'],errors='coerce')\n",
        "data['Popularity']=pd.to_numeric(data['Popularity'],errors='coerce')\n",
        "data['Danceability']=pd.to_numeric(data['Danceability'],errors='coerce')\n",
        "data['Energy']=pd.to_numeric(data['Energy'],errors='coerce')\n",
        "data['Loudness']=pd.to_numeric(data['Loudness'],errors='coerce')\n",
        "data['Speechiness']=pd.to_numeric(data['Speechiness'],errors='coerce')\n",
        "data['Acousticness']=pd.to_numeric(data['Acousticness'],errors='coerce')\n",
        "data['Liveness']=pd.to_numeric(data['Liveness'],errors='coerce')\n",
        "data['Tempo']=pd.to_numeric(data['Tempo'],errors='coerce')\n",
        "data['Duration (ms)']=pd.to_numeric(data['Duration (ms)'],errors='coerce')\n",
        "data['Valence']=pd.to_numeric(data['Valence'],errors='coerce')"
      ]
    },
    {
      "cell_type": "code",
      "execution_count": 17,
      "id": "35a723ce",
      "metadata": {
        "colab": {
          "base_uri": "https://localhost:8080/"
        },
        "id": "35a723ce",
        "outputId": "78e59223-b391-45cb-a00a-027a0f625f28"
      },
      "outputs": [
        {
          "output_type": "execute_result",
          "data": {
            "text/plain": [
              "Highest Charting Position     0\n",
              "Number of Times Charted       0\n",
              "Artist                        0\n",
              "Artist Followers             11\n",
              "Genre                         0\n",
              "Popularity                   11\n",
              "Danceability                 11\n",
              "Energy                       11\n",
              "Loudness                     11\n",
              "Speechiness                  11\n",
              "Acousticness                 11\n",
              "Liveness                     11\n",
              "Tempo                        11\n",
              "Duration (ms)                11\n",
              "Valence                      11\n",
              "Chord                         0\n",
              "month                        11\n",
              "dtype: int64"
            ]
          },
          "metadata": {},
          "execution_count": 17
        }
      ],
      "source": [
        "data.isnull().sum()"
      ]
    },
    {
      "cell_type": "markdown",
      "source": [
        "droping null values"
      ],
      "metadata": {
        "id": "MBQza1pMYXXG"
      },
      "id": "MBQza1pMYXXG"
    },
    {
      "cell_type": "code",
      "execution_count": 18,
      "id": "07f2ea2e",
      "metadata": {
        "scrolled": true,
        "colab": {
          "base_uri": "https://localhost:8080/"
        },
        "id": "07f2ea2e",
        "outputId": "61bcef06-11c1-4370-9c47-aab20e7515c6"
      },
      "outputs": [
        {
          "output_type": "execute_result",
          "data": {
            "text/plain": [
              "Highest Charting Position    0\n",
              "Number of Times Charted      0\n",
              "Artist                       0\n",
              "Artist Followers             0\n",
              "Genre                        0\n",
              "Popularity                   0\n",
              "Danceability                 0\n",
              "Energy                       0\n",
              "Loudness                     0\n",
              "Speechiness                  0\n",
              "Acousticness                 0\n",
              "Liveness                     0\n",
              "Tempo                        0\n",
              "Duration (ms)                0\n",
              "Valence                      0\n",
              "Chord                        0\n",
              "month                        0\n",
              "dtype: int64"
            ]
          },
          "metadata": {},
          "execution_count": 18
        }
      ],
      "source": [
        "data=data.dropna()\n",
        "data.isnull().sum()"
      ]
    },
    {
      "cell_type": "markdown",
      "source": [
        "or, mean value can be also taken to fill nan values"
      ],
      "metadata": {
        "id": "wAHeaiMkYoa9"
      },
      "id": "wAHeaiMkYoa9"
    },
    {
      "cell_type": "code",
      "source": [
        "# data['Artist Followers']=data['Artist Followers'].fillna(data['Artist Followers'].mean)\n",
        "# data['Popularity']=data['Popularity'].fillna(data['Popularity'].mean)"
      ],
      "metadata": {
        "id": "DcvYNNP_YgrN"
      },
      "id": "DcvYNNP_YgrN",
      "execution_count": 19,
      "outputs": []
    },
    {
      "cell_type": "markdown",
      "source": [
        "Label encoding"
      ],
      "metadata": {
        "id": "UgwSUHu5YooZ"
      },
      "id": "UgwSUHu5YooZ"
    },
    {
      "cell_type": "code",
      "execution_count": 20,
      "id": "f6449fd8",
      "metadata": {
        "colab": {
          "base_uri": "https://localhost:8080/",
          "height": 322
        },
        "id": "f6449fd8",
        "outputId": "ed5cc7f0-de14-48a5-af9f-6637a2ab17d7"
      },
      "outputs": [
        {
          "output_type": "execute_result",
          "data": {
            "text/plain": [
              "   Highest Charting Position  Number of Times Charted  Artist  \\\n",
              "0                          1                        8     469   \n",
              "1                          2                        3     643   \n",
              "2                          1                       11     500   \n",
              "3                          3                        5     203   \n",
              "4                          5                        1     381   \n",
              "\n",
              "   Artist Followers  Genre  Popularity  Danceability  Energy  Loudness  \\\n",
              "0         3377762.0    276       100.0         0.714   0.800    -4.808   \n",
              "1         2230022.0     63        99.0         0.591   0.764    -5.484   \n",
              "2         6266514.0    364        99.0         0.563   0.664    -5.044   \n",
              "3        83293380.0    363        98.0         0.808   0.897    -3.712   \n",
              "4         5473565.0    312        96.0         0.736   0.704    -7.409   \n",
              "\n",
              "   Speechiness  Acousticness  Liveness    Tempo  Duration (ms)  Valence  \\\n",
              "0       0.0504        0.1270    0.3590  134.002       211560.0    0.589   \n",
              "1       0.0483        0.0383    0.1030  169.928       141806.0    0.478   \n",
              "2       0.1540        0.3350    0.0849  166.928       178147.0    0.688   \n",
              "3       0.0348        0.0469    0.3640  126.026       231041.0    0.591   \n",
              "4       0.0615        0.0203    0.0501  149.995       212000.0    0.894   \n",
              "\n",
              "   Chord  month  \n",
              "0      2   12.0  \n",
              "1      4    7.0  \n",
              "2      0    5.0  \n",
              "3      2    6.0  \n",
              "4      6    7.0  "
            ],
            "text/html": [
              "\n",
              "  <div id=\"df-002be73b-a0fd-4ac5-a52e-cc710ae6380a\">\n",
              "    <div class=\"colab-df-container\">\n",
              "      <div>\n",
              "<style scoped>\n",
              "    .dataframe tbody tr th:only-of-type {\n",
              "        vertical-align: middle;\n",
              "    }\n",
              "\n",
              "    .dataframe tbody tr th {\n",
              "        vertical-align: top;\n",
              "    }\n",
              "\n",
              "    .dataframe thead th {\n",
              "        text-align: right;\n",
              "    }\n",
              "</style>\n",
              "<table border=\"1\" class=\"dataframe\">\n",
              "  <thead>\n",
              "    <tr style=\"text-align: right;\">\n",
              "      <th></th>\n",
              "      <th>Highest Charting Position</th>\n",
              "      <th>Number of Times Charted</th>\n",
              "      <th>Artist</th>\n",
              "      <th>Artist Followers</th>\n",
              "      <th>Genre</th>\n",
              "      <th>Popularity</th>\n",
              "      <th>Danceability</th>\n",
              "      <th>Energy</th>\n",
              "      <th>Loudness</th>\n",
              "      <th>Speechiness</th>\n",
              "      <th>Acousticness</th>\n",
              "      <th>Liveness</th>\n",
              "      <th>Tempo</th>\n",
              "      <th>Duration (ms)</th>\n",
              "      <th>Valence</th>\n",
              "      <th>Chord</th>\n",
              "      <th>month</th>\n",
              "    </tr>\n",
              "  </thead>\n",
              "  <tbody>\n",
              "    <tr>\n",
              "      <th>0</th>\n",
              "      <td>1</td>\n",
              "      <td>8</td>\n",
              "      <td>469</td>\n",
              "      <td>3377762.0</td>\n",
              "      <td>276</td>\n",
              "      <td>100.0</td>\n",
              "      <td>0.714</td>\n",
              "      <td>0.800</td>\n",
              "      <td>-4.808</td>\n",
              "      <td>0.0504</td>\n",
              "      <td>0.1270</td>\n",
              "      <td>0.3590</td>\n",
              "      <td>134.002</td>\n",
              "      <td>211560.0</td>\n",
              "      <td>0.589</td>\n",
              "      <td>2</td>\n",
              "      <td>12.0</td>\n",
              "    </tr>\n",
              "    <tr>\n",
              "      <th>1</th>\n",
              "      <td>2</td>\n",
              "      <td>3</td>\n",
              "      <td>643</td>\n",
              "      <td>2230022.0</td>\n",
              "      <td>63</td>\n",
              "      <td>99.0</td>\n",
              "      <td>0.591</td>\n",
              "      <td>0.764</td>\n",
              "      <td>-5.484</td>\n",
              "      <td>0.0483</td>\n",
              "      <td>0.0383</td>\n",
              "      <td>0.1030</td>\n",
              "      <td>169.928</td>\n",
              "      <td>141806.0</td>\n",
              "      <td>0.478</td>\n",
              "      <td>4</td>\n",
              "      <td>7.0</td>\n",
              "    </tr>\n",
              "    <tr>\n",
              "      <th>2</th>\n",
              "      <td>1</td>\n",
              "      <td>11</td>\n",
              "      <td>500</td>\n",
              "      <td>6266514.0</td>\n",
              "      <td>364</td>\n",
              "      <td>99.0</td>\n",
              "      <td>0.563</td>\n",
              "      <td>0.664</td>\n",
              "      <td>-5.044</td>\n",
              "      <td>0.1540</td>\n",
              "      <td>0.3350</td>\n",
              "      <td>0.0849</td>\n",
              "      <td>166.928</td>\n",
              "      <td>178147.0</td>\n",
              "      <td>0.688</td>\n",
              "      <td>0</td>\n",
              "      <td>5.0</td>\n",
              "    </tr>\n",
              "    <tr>\n",
              "      <th>3</th>\n",
              "      <td>3</td>\n",
              "      <td>5</td>\n",
              "      <td>203</td>\n",
              "      <td>83293380.0</td>\n",
              "      <td>363</td>\n",
              "      <td>98.0</td>\n",
              "      <td>0.808</td>\n",
              "      <td>0.897</td>\n",
              "      <td>-3.712</td>\n",
              "      <td>0.0348</td>\n",
              "      <td>0.0469</td>\n",
              "      <td>0.3640</td>\n",
              "      <td>126.026</td>\n",
              "      <td>231041.0</td>\n",
              "      <td>0.591</td>\n",
              "      <td>2</td>\n",
              "      <td>6.0</td>\n",
              "    </tr>\n",
              "    <tr>\n",
              "      <th>4</th>\n",
              "      <td>5</td>\n",
              "      <td>1</td>\n",
              "      <td>381</td>\n",
              "      <td>5473565.0</td>\n",
              "      <td>312</td>\n",
              "      <td>96.0</td>\n",
              "      <td>0.736</td>\n",
              "      <td>0.704</td>\n",
              "      <td>-7.409</td>\n",
              "      <td>0.0615</td>\n",
              "      <td>0.0203</td>\n",
              "      <td>0.0501</td>\n",
              "      <td>149.995</td>\n",
              "      <td>212000.0</td>\n",
              "      <td>0.894</td>\n",
              "      <td>6</td>\n",
              "      <td>7.0</td>\n",
              "    </tr>\n",
              "  </tbody>\n",
              "</table>\n",
              "</div>\n",
              "      <button class=\"colab-df-convert\" onclick=\"convertToInteractive('df-002be73b-a0fd-4ac5-a52e-cc710ae6380a')\"\n",
              "              title=\"Convert this dataframe to an interactive table.\"\n",
              "              style=\"display:none;\">\n",
              "        \n",
              "  <svg xmlns=\"http://www.w3.org/2000/svg\" height=\"24px\"viewBox=\"0 0 24 24\"\n",
              "       width=\"24px\">\n",
              "    <path d=\"M0 0h24v24H0V0z\" fill=\"none\"/>\n",
              "    <path d=\"M18.56 5.44l.94 2.06.94-2.06 2.06-.94-2.06-.94-.94-2.06-.94 2.06-2.06.94zm-11 1L8.5 8.5l.94-2.06 2.06-.94-2.06-.94L8.5 2.5l-.94 2.06-2.06.94zm10 10l.94 2.06.94-2.06 2.06-.94-2.06-.94-.94-2.06-.94 2.06-2.06.94z\"/><path d=\"M17.41 7.96l-1.37-1.37c-.4-.4-.92-.59-1.43-.59-.52 0-1.04.2-1.43.59L10.3 9.45l-7.72 7.72c-.78.78-.78 2.05 0 2.83L4 21.41c.39.39.9.59 1.41.59.51 0 1.02-.2 1.41-.59l7.78-7.78 2.81-2.81c.8-.78.8-2.07 0-2.86zM5.41 20L4 18.59l7.72-7.72 1.47 1.35L5.41 20z\"/>\n",
              "  </svg>\n",
              "      </button>\n",
              "      \n",
              "  <style>\n",
              "    .colab-df-container {\n",
              "      display:flex;\n",
              "      flex-wrap:wrap;\n",
              "      gap: 12px;\n",
              "    }\n",
              "\n",
              "    .colab-df-convert {\n",
              "      background-color: #E8F0FE;\n",
              "      border: none;\n",
              "      border-radius: 50%;\n",
              "      cursor: pointer;\n",
              "      display: none;\n",
              "      fill: #1967D2;\n",
              "      height: 32px;\n",
              "      padding: 0 0 0 0;\n",
              "      width: 32px;\n",
              "    }\n",
              "\n",
              "    .colab-df-convert:hover {\n",
              "      background-color: #E2EBFA;\n",
              "      box-shadow: 0px 1px 2px rgba(60, 64, 67, 0.3), 0px 1px 3px 1px rgba(60, 64, 67, 0.15);\n",
              "      fill: #174EA6;\n",
              "    }\n",
              "\n",
              "    [theme=dark] .colab-df-convert {\n",
              "      background-color: #3B4455;\n",
              "      fill: #D2E3FC;\n",
              "    }\n",
              "\n",
              "    [theme=dark] .colab-df-convert:hover {\n",
              "      background-color: #434B5C;\n",
              "      box-shadow: 0px 1px 3px 1px rgba(0, 0, 0, 0.15);\n",
              "      filter: drop-shadow(0px 1px 2px rgba(0, 0, 0, 0.3));\n",
              "      fill: #FFFFFF;\n",
              "    }\n",
              "  </style>\n",
              "\n",
              "      <script>\n",
              "        const buttonEl =\n",
              "          document.querySelector('#df-002be73b-a0fd-4ac5-a52e-cc710ae6380a button.colab-df-convert');\n",
              "        buttonEl.style.display =\n",
              "          google.colab.kernel.accessAllowed ? 'block' : 'none';\n",
              "\n",
              "        async function convertToInteractive(key) {\n",
              "          const element = document.querySelector('#df-002be73b-a0fd-4ac5-a52e-cc710ae6380a');\n",
              "          const dataTable =\n",
              "            await google.colab.kernel.invokeFunction('convertToInteractive',\n",
              "                                                     [key], {});\n",
              "          if (!dataTable) return;\n",
              "\n",
              "          const docLinkHtml = 'Like what you see? Visit the ' +\n",
              "            '<a target=\"_blank\" href=https://colab.research.google.com/notebooks/data_table.ipynb>data table notebook</a>'\n",
              "            + ' to learn more about interactive tables.';\n",
              "          element.innerHTML = '';\n",
              "          dataTable['output_type'] = 'display_data';\n",
              "          await google.colab.output.renderOutput(dataTable, element);\n",
              "          const docLink = document.createElement('div');\n",
              "          docLink.innerHTML = docLinkHtml;\n",
              "          element.appendChild(docLink);\n",
              "        }\n",
              "      </script>\n",
              "    </div>\n",
              "  </div>\n",
              "  "
            ]
          },
          "metadata": {},
          "execution_count": 20
        }
      ],
      "source": [
        "le_Artist =LabelEncoder()\n",
        "le_Genre =LabelEncoder()\n",
        "le_Chord =LabelEncoder()\n",
        "\n",
        "    \n",
        "data['Artist'] =le_Artist.fit_transform(data['Artist'])\n",
        "data['Genre'] =le_Genre.fit_transform(data['Genre'])  \n",
        "data['Chord'] =le_Chord.fit_transform(data['Chord'])\n",
        "\n",
        "data.head()"
      ]
    },
    {
      "cell_type": "code",
      "execution_count": 23,
      "id": "d6ea5c63",
      "metadata": {
        "colab": {
          "base_uri": "https://localhost:8080/"
        },
        "id": "d6ea5c63",
        "outputId": "068df928-a9c7-4e69-e87d-725040c5684e"
      },
      "outputs": [
        {
          "output_type": "execute_result",
          "data": {
            "text/plain": [
              "array([363])"
            ]
          },
          "metadata": {},
          "execution_count": 23
        }
      ],
      "source": [
        "le_Genre.transform([\"['pop', 'uk pop']\"])\n",
        "#le_Artist.transform(['Jorge & Mateus'])"
      ]
    },
    {
      "cell_type": "markdown",
      "source": [
        "**X, Y splitting**"
      ],
      "metadata": {
        "id": "n0tejEhVZG6T"
      },
      "id": "n0tejEhVZG6T"
    },
    {
      "cell_type": "code",
      "execution_count": 31,
      "id": "9fd5787b",
      "metadata": {
        "id": "9fd5787b"
      },
      "outputs": [],
      "source": [
        "x=data.drop('Popularity',axis=1)\n",
        "y=data['Popularity']"
      ]
    },
    {
      "cell_type": "markdown",
      "source": [
        "**Scaling**"
      ],
      "metadata": {
        "id": "xbNQ3WZgo1HN"
      },
      "id": "xbNQ3WZgo1HN"
    },
    {
      "cell_type": "code",
      "execution_count": 32,
      "id": "13b52459",
      "metadata": {
        "id": "13b52459"
      },
      "outputs": [],
      "source": [
        "scaler =MinMaxScaler()\n",
        "x=scaler.fit_transform(x)\n"
      ]
    },
    {
      "cell_type": "code",
      "execution_count": 33,
      "id": "1f8a0dc3",
      "metadata": {
        "scrolled": true,
        "colab": {
          "base_uri": "https://localhost:8080/"
        },
        "id": "1f8a0dc3",
        "outputId": "05ed1216-c3b8-4bd0-801a-ecf9602f6e55"
      },
      "outputs": [
        {
          "output_type": "stream",
          "name": "stderr",
          "text": [
            "/usr/local/lib/python3.9/dist-packages/sklearn/base.py:439: UserWarning: X does not have valid feature names, but MinMaxScaler was fitted with feature names\n",
            "  warnings.warn(\n"
          ]
        },
        {
          "output_type": "execute_result",
          "data": {
            "text/plain": [
              "array([[-4.97462185e-03, -6.89100146e-03, -5.85843110e-05,\n",
              "         2.35029039e-03,  9.45748556e-01,  9.73581018e-01,\n",
              "         4.74188769e-02, -5.40005662e-02,  5.89530212e-01,\n",
              "        -4.95867769e-02]])"
            ]
          },
          "metadata": {},
          "execution_count": 33
        }
      ],
      "source": [
        "scaler.transform([x[3]])"
      ]
    },
    {
      "cell_type": "markdown",
      "id": "96a06463",
      "metadata": {
        "id": "96a06463"
      },
      "source": [
        "**visualization**"
      ]
    },
    {
      "cell_type": "code",
      "execution_count": null,
      "id": "45d426b6",
      "metadata": {
        "colab": {
          "base_uri": "https://localhost:8080/",
          "height": 530
        },
        "id": "45d426b6",
        "outputId": "18beab9a-218b-4820-a479-d0cb21e9d1b5"
      },
      "outputs": [
        {
          "output_type": "execute_result",
          "data": {
            "text/plain": [
              "<Axes: title={'center': 'Top in Artist Followers'}, xlabel='Popularity', ylabel='Artist Followers'>"
            ]
          },
          "metadata": {},
          "execution_count": 32
        },
        {
          "output_type": "display_data",
          "data": {
            "text/plain": [
              "<Figure size 720x576 with 1 Axes>"
            ],
            "image/png": "[encoded data removed]"
          },
          "metadata": {
            "needs_background": "light"
          }
        }
      ],
      "source": [
        "sort=data.sort_values(by=['Artist Followers'],ascending=False)\n",
        "plt.figure(figsize=[10,8])\n",
        "plt.title('Top in Artist Followers')\n",
        "sns.barplot(x='Popularity',y='Artist Followers',data=sort.head(10))"
      ]
    },
    {
      "cell_type": "code",
      "execution_count": null,
      "id": "e1cc8895",
      "metadata": {
        "colab": {
          "base_uri": "https://localhost:8080/",
          "height": 530
        },
        "id": "e1cc8895",
        "outputId": "e5e34ba0-c4a8-469c-fb9e-a05b3759d284"
      },
      "outputs": [
        {
          "output_type": "execute_result",
          "data": {
            "text/plain": [
              "<Axes: title={'center': 'Top in Energy'}, xlabel='Popularity', ylabel='Energy'>"
            ]
          },
          "metadata": {},
          "execution_count": 33
        },
        {
          "output_type": "display_data",
          "data": {
            "text/plain": [
              "<Figure size 720x576 with 1 Axes>"
            ],
            "image/png": "[encoded data removed]"
          },
          "metadata": {
            "needs_background": "light"
          }
        }
      ],
      "source": [
        "sort=data.sort_values(by=['Energy'],ascending=False)\n",
        "plt.figure(figsize=[10,8])\n",
        "plt.title('Top in Energy')\n",
        "sns.barplot(x='Popularity',y='Energy',data=sort.head(10))"
      ]
    },
    {
      "cell_type": "code",
      "execution_count": null,
      "id": "48ffb67d",
      "metadata": {
        "colab": {
          "base_uri": "https://localhost:8080/",
          "height": 530
        },
        "id": "48ffb67d",
        "outputId": "4c8e0879-1c9d-4909-d9b0-c4fba643e9ae"
      },
      "outputs": [
        {
          "output_type": "execute_result",
          "data": {
            "text/plain": [
              "<Axes: title={'center': 'Top in Loudness'}, xlabel='Popularity', ylabel='Loudness'>"
            ]
          },
          "metadata": {},
          "execution_count": 34
        },
        {
          "output_type": "display_data",
          "data": {
            "text/plain": [
              "<Figure size 720x576 with 1 Axes>"
            ],
            "image/png": "[encoded data removed]"
          },
          "metadata": {
            "needs_background": "light"
          }
        }
      ],
      "source": [
        "sort=data.sort_values(by=['Loudness'],ascending=False)\n",
        "plt.figure(figsize=[10,8])\n",
        "plt.title('Top in Loudness')\n",
        "sns.barplot(x='Popularity',y='Loudness',data=sort.head(10))"
      ]
    },
    {
      "cell_type": "code",
      "execution_count": null,
      "id": "d83a4168",
      "metadata": {
        "scrolled": true,
        "colab": {
          "base_uri": "https://localhost:8080/",
          "height": 296
        },
        "id": "d83a4168",
        "outputId": "6eda161b-331a-426c-a6ae-6621ac0e1da9"
      },
      "outputs": [
        {
          "output_type": "execute_result",
          "data": {
            "text/plain": [
              "<matplotlib.collections.PathCollection at 0x7f0fd357fe50>"
            ]
          },
          "metadata": {},
          "execution_count": 35
        },
        {
          "output_type": "display_data",
          "data": {
            "text/plain": [
              "<Figure size 432x288 with 1 Axes>"
            ],
            "image/png": "[encoded data removed]"
          },
          "metadata": {
            "needs_background": "light"
          }
        }
      ],
      "source": [
        "plt.xlabel('Artist')\n",
        "plt.ylabel('Popularity')\n",
        "plt.scatter(data['Duration (ms)'],data['Popularity'])"
      ]
    },
    {
      "cell_type": "markdown",
      "id": "8b53a9c7",
      "metadata": {
        "id": "8b53a9c7"
      },
      "source": [
        "**Correlation**"
      ]
    },
    {
      "cell_type": "code",
      "execution_count": null,
      "id": "cfe27064",
      "metadata": {
        "scrolled": true,
        "colab": {
          "base_uri": "https://localhost:8080/",
          "height": 840
        },
        "id": "cfe27064",
        "outputId": "902b098a-61f9-4814-b0da-ae436845735a"
      },
      "outputs": [
        {
          "output_type": "execute_result",
          "data": {
            "text/plain": [
              "<Axes: >"
            ]
          },
          "metadata": {},
          "execution_count": 36
        },
        {
          "output_type": "display_data",
          "data": {
            "text/plain": [
              "<Figure size 864x864 with 2 Axes>"
            ],
            "image/png": "[encoded data removed]"
          },
          "metadata": {
            "needs_background": "light"
          }
        }
      ],
      "source": [
        "c=data.corr()\n",
        "plt.figure(figsize=[12,12])\n",
        "sns.heatmap(c,annot=True)"
      ]
    },
    {
      "cell_type": "code",
      "execution_count": null,
      "id": "5b41c7c1",
      "metadata": {
        "colab": {
          "base_uri": "https://localhost:8080/"
        },
        "id": "5b41c7c1",
        "outputId": "01b63a7d-0f0d-4ca2-f7fa-fabc214c5d6d"
      },
      "outputs": [
        {
          "output_type": "stream",
          "name": "stdout",
          "text": [
            "-0.1641673405163627\n",
            "0.23279557540838783\n",
            "0.03732347786491109\n",
            "0.1043577212316507\n",
            "*************\n",
            "-0.1075888717018958\n",
            "0.02843469181752918\n",
            "0.09469051758444463\n",
            "0.15876746803181324\n",
            "**************\n",
            "-0.03209063359152795\n",
            "-0.09124461072497646\n",
            "-0.029459634726915384\n",
            "-0.02495087653404513\n",
            "**************\n",
            "0.08209572542261853\n",
            "-0.0009533924114401778\n",
            "0.045787615126558615\n",
            "-0.06380392190329007\n"
          ]
        }
      ],
      "source": [
        "print(data['Highest Charting Position'].corr(data['Popularity']))\n",
        "print(data['Number of Times Charted'].corr(data['Popularity']))\n",
        "print(data['Artist'].corr(data['Popularity']))\n",
        "print(data['Artist Followers'].corr(data['Popularity']))\n",
        "\n",
        "print('*************')\n",
        "print(data['Genre'].corr(data['Popularity']))\n",
        "print(data['Danceability'].corr(data['Popularity']))\n",
        "print(data['Energy'].corr(data['Popularity']))\n",
        "print(data['Loudness'].corr(data['Popularity']))\n",
        "\n",
        "print('**************')\n",
        "print(data['Speechiness'].corr(data['Popularity']))\n",
        "print(data['Acousticness'].corr(data['Popularity']))\n",
        "print(data['Liveness'].corr(data['Popularity']))\n",
        "print(data['Tempo'].corr(data['Popularity']))\n",
        "\n",
        "print('**************')\n",
        "print(data['Duration (ms)'].corr(data['Popularity']))\n",
        "print(data['Valence'].corr(data['Popularity']))\n",
        "print(data['Chord'].corr(data['Popularity']))\n",
        "print(data['month'].corr(data['Popularity']))"
      ]
    },
    {
      "cell_type": "markdown",
      "source": [
        "feature selection based on correlation"
      ],
      "metadata": {
        "id": "Jxoq7Ux-rzZA"
      },
      "id": "Jxoq7Ux-rzZA"
    },
    {
      "cell_type": "markdown",
      "source": [
        "< 0.00"
      ],
      "metadata": {
        "id": "9JfXok7Tr4_7"
      },
      "id": "9JfXok7Tr4_7"
    },
    {
      "cell_type": "code",
      "execution_count": 29,
      "id": "a64d3bb8",
      "metadata": {
        "id": "a64d3bb8"
      },
      "outputs": [],
      "source": [
        "data =data.drop(['Chord'],axis=1)"
      ]
    },
    {
      "cell_type": "markdown",
      "source": [
        "< 0.05"
      ],
      "metadata": {
        "id": "81g2pcb6r9VC"
      },
      "id": "81g2pcb6r9VC"
    },
    {
      "cell_type": "code",
      "execution_count": 30,
      "id": "1cfe113a",
      "metadata": {
        "id": "1cfe113a"
      },
      "outputs": [],
      "source": [
        "data =data.drop(['Artist','Danceability','Speechiness','Liveness','Tempo'],axis=1)"
      ]
    },
    {
      "cell_type": "code",
      "source": [
        "data.head(2)"
      ],
      "metadata": {
        "colab": {
          "base_uri": "https://localhost:8080/",
          "height": 112
        },
        "id": "in58IbLusnCd",
        "outputId": "16d03141-28b1-4d91-b3e2-4da1c4bacb62"
      },
      "id": "in58IbLusnCd",
      "execution_count": null,
      "outputs": [
        {
          "output_type": "execute_result",
          "data": {
            "text/plain": [
              "   Highest Charting Position  Number of Times Charted  Artist Followers  \\\n",
              "0                          1                        8         3377762.0   \n",
              "1                          2                        3         2230022.0   \n",
              "\n",
              "   Genre  Popularity  Energy  Loudness  Acousticness  Duration (ms)  Valence  \\\n",
              "0    276       100.0   0.800    -4.808        0.1270       211560.0    0.589   \n",
              "1     63        99.0   0.764    -5.484        0.0383       141806.0    0.478   \n",
              "\n",
              "   month  \n",
              "0   12.0  \n",
              "1    7.0  "
            ],
            "text/html": [
              "\n",
              "  <div id=\"df-abbaf827-4496-45f7-9e11-76766bac02a6\">\n",
              "    <div class=\"colab-df-container\">\n",
              "      <div>\n",
              "<style scoped>\n",
              "    .dataframe tbody tr th:only-of-type {\n",
              "        vertical-align: middle;\n",
              "    }\n",
              "\n",
              "    .dataframe tbody tr th {\n",
              "        vertical-align: top;\n",
              "    }\n",
              "\n",
              "    .dataframe thead th {\n",
              "        text-align: right;\n",
              "    }\n",
              "</style>\n",
              "<table border=\"1\" class=\"dataframe\">\n",
              "  <thead>\n",
              "    <tr style=\"text-align: right;\">\n",
              "      <th></th>\n",
              "      <th>Highest Charting Position</th>\n",
              "      <th>Number of Times Charted</th>\n",
              "      <th>Artist Followers</th>\n",
              "      <th>Genre</th>\n",
              "      <th>Popularity</th>\n",
              "      <th>Energy</th>\n",
              "      <th>Loudness</th>\n",
              "      <th>Acousticness</th>\n",
              "      <th>Duration (ms)</th>\n",
              "      <th>Valence</th>\n",
              "      <th>month</th>\n",
              "    </tr>\n",
              "  </thead>\n",
              "  <tbody>\n",
              "    <tr>\n",
              "      <th>0</th>\n",
              "      <td>1</td>\n",
              "      <td>8</td>\n",
              "      <td>3377762.0</td>\n",
              "      <td>276</td>\n",
              "      <td>100.0</td>\n",
              "      <td>0.800</td>\n",
              "      <td>-4.808</td>\n",
              "      <td>0.1270</td>\n",
              "      <td>211560.0</td>\n",
              "      <td>0.589</td>\n",
              "      <td>12.0</td>\n",
              "    </tr>\n",
              "    <tr>\n",
              "      <th>1</th>\n",
              "      <td>2</td>\n",
              "      <td>3</td>\n",
              "      <td>2230022.0</td>\n",
              "      <td>63</td>\n",
              "      <td>99.0</td>\n",
              "      <td>0.764</td>\n",
              "      <td>-5.484</td>\n",
              "      <td>0.0383</td>\n",
              "      <td>141806.0</td>\n",
              "      <td>0.478</td>\n",
              "      <td>7.0</td>\n",
              "    </tr>\n",
              "  </tbody>\n",
              "</table>\n",
              "</div>\n",
              "      <button class=\"colab-df-convert\" onclick=\"convertToInteractive('df-abbaf827-4496-45f7-9e11-76766bac02a6')\"\n",
              "              title=\"Convert this dataframe to an interactive table.\"\n",
              "              style=\"display:none;\">\n",
              "        \n",
              "  <svg xmlns=\"http://www.w3.org/2000/svg\" height=\"24px\"viewBox=\"0 0 24 24\"\n",
              "       width=\"24px\">\n",
              "    <path d=\"M0 0h24v24H0V0z\" fill=\"none\"/>\n",
              "    <path d=\"M18.56 5.44l.94 2.06.94-2.06 2.06-.94-2.06-.94-.94-2.06-.94 2.06-2.06.94zm-11 1L8.5 8.5l.94-2.06 2.06-.94-2.06-.94L8.5 2.5l-.94 2.06-2.06.94zm10 10l.94 2.06.94-2.06 2.06-.94-2.06-.94-.94-2.06-.94 2.06-2.06.94z\"/><path d=\"M17.41 7.96l-1.37-1.37c-.4-.4-.92-.59-1.43-.59-.52 0-1.04.2-1.43.59L10.3 9.45l-7.72 7.72c-.78.78-.78 2.05 0 2.83L4 21.41c.39.39.9.59 1.41.59.51 0 1.02-.2 1.41-.59l7.78-7.78 2.81-2.81c.8-.78.8-2.07 0-2.86zM5.41 20L4 18.59l7.72-7.72 1.47 1.35L5.41 20z\"/>\n",
              "  </svg>\n",
              "      </button>\n",
              "      \n",
              "  <style>\n",
              "    .colab-df-container {\n",
              "      display:flex;\n",
              "      flex-wrap:wrap;\n",
              "      gap: 12px;\n",
              "    }\n",
              "\n",
              "    .colab-df-convert {\n",
              "      background-color: #E8F0FE;\n",
              "      border: none;\n",
              "      border-radius: 50%;\n",
              "      cursor: pointer;\n",
              "      display: none;\n",
              "      fill: #1967D2;\n",
              "      height: 32px;\n",
              "      padding: 0 0 0 0;\n",
              "      width: 32px;\n",
              "    }\n",
              "\n",
              "    .colab-df-convert:hover {\n",
              "      background-color: #E2EBFA;\n",
              "      box-shadow: 0px 1px 2px rgba(60, 64, 67, 0.3), 0px 1px 3px 1px rgba(60, 64, 67, 0.15);\n",
              "      fill: #174EA6;\n",
              "    }\n",
              "\n",
              "    [theme=dark] .colab-df-convert {\n",
              "      background-color: #3B4455;\n",
              "      fill: #D2E3FC;\n",
              "    }\n",
              "\n",
              "    [theme=dark] .colab-df-convert:hover {\n",
              "      background-color: #434B5C;\n",
              "      box-shadow: 0px 1px 3px 1px rgba(0, 0, 0, 0.15);\n",
              "      filter: drop-shadow(0px 1px 2px rgba(0, 0, 0, 0.3));\n",
              "      fill: #FFFFFF;\n",
              "    }\n",
              "  </style>\n",
              "\n",
              "      <script>\n",
              "        const buttonEl =\n",
              "          document.querySelector('#df-abbaf827-4496-45f7-9e11-76766bac02a6 button.colab-df-convert');\n",
              "        buttonEl.style.display =\n",
              "          google.colab.kernel.accessAllowed ? 'block' : 'none';\n",
              "\n",
              "        async function convertToInteractive(key) {\n",
              "          const element = document.querySelector('#df-abbaf827-4496-45f7-9e11-76766bac02a6');\n",
              "          const dataTable =\n",
              "            await google.colab.kernel.invokeFunction('convertToInteractive',\n",
              "                                                     [key], {});\n",
              "          if (!dataTable) return;\n",
              "\n",
              "          const docLinkHtml = 'Like what you see? Visit the ' +\n",
              "            '<a target=\"_blank\" href=https://colab.research.google.com/notebooks/data_table.ipynb>data table notebook</a>'\n",
              "            + ' to learn more about interactive tables.';\n",
              "          element.innerHTML = '';\n",
              "          dataTable['output_type'] = 'display_data';\n",
              "          await google.colab.output.renderOutput(dataTable, element);\n",
              "          const docLink = document.createElement('div');\n",
              "          docLink.innerHTML = docLinkHtml;\n",
              "          element.appendChild(docLink);\n",
              "        }\n",
              "      </script>\n",
              "    </div>\n",
              "  </div>\n",
              "  "
            ]
          },
          "metadata": {},
          "execution_count": 73
        }
      ]
    },
    {
      "cell_type": "markdown",
      "id": "9e67a615",
      "metadata": {
        "id": "9e67a615"
      },
      "source": [
        "**Hyperparameter tuning**"
      ]
    },
    {
      "cell_type": "code",
      "execution_count": null,
      "id": "3071c0fc",
      "metadata": {
        "id": "3071c0fc"
      },
      "outputs": [],
      "source": [
        "model_params={'AdaBoostRegressor':{'model':AdaBoostRegressor(),'params':{}},\n",
        "              'GradientBoostingRegressor':{'model':GradientBoostingRegressor(),'params':{}},\n",
        "              'XGBRFRegressor':{'model':XGBRFRegressor(),'params':{}}}"
      ]
    },
    {
      "cell_type": "code",
      "execution_count": null,
      "id": "ee9d7e0c",
      "metadata": {
        "id": "ee9d7e0c"
      },
      "outputs": [],
      "source": [
        "scores = []\n",
        "models = ['AdaBoostRegressor','GradientBoostingRegressor','XGBRFRegressor']\n",
        "for model_name in models:\n",
        "    mp=model_params[model_name]\n",
        "    gds=GridSearchCV(mp['model'],mp['params'],cv=5,return_train_score=True)\n",
        "    gds.fit(x,y)\n",
        "    scores.append({'model':model_name, 'best_score':gds.best_score_ , 'best_params':gds.best_params_})"
      ]
    },
    {
      "cell_type": "code",
      "execution_count": null,
      "id": "5aaeb671",
      "metadata": {
        "scrolled": true,
        "id": "5aaeb671",
        "outputId": "bc9af30b-ce30-4397-8b94-8bc1f7119bf8",
        "colab": {
          "base_uri": "https://localhost:8080/"
        }
      },
      "outputs": [
        {
          "output_type": "execute_result",
          "data": {
            "text/plain": [
              "[{'model': 'AdaBoostRegressor',\n",
              "  'best_score': 0.4630051397597816,\n",
              "  'best_params': {}},\n",
              " {'model': 'GradientBoostingRegressor',\n",
              "  'best_score': 0.5419171240184151,\n",
              "  'best_params': {}},\n",
              " {'model': 'XGBRFRegressor',\n",
              "  'best_score': 0.5254204123064793,\n",
              "  'best_params': {}}]"
            ]
          },
          "metadata": {},
          "execution_count": 43
        }
      ],
      "source": [
        "scores"
      ]
    },
    {
      "cell_type": "markdown",
      "source": [
        "other models"
      ],
      "metadata": {
        "id": "H2TtHwm0vgli"
      },
      "id": "H2TtHwm0vgli"
    },
    {
      "cell_type": "code",
      "execution_count": null,
      "id": "5ecb8008",
      "metadata": {
        "id": "5ecb8008"
      },
      "outputs": [],
      "source": [
        "model_params = {'DecisionTreeRegressor':{'model':DecisionTreeRegressor(),'params':{'max_depth':[3,4,5,6]}},\n",
        "               'RandomForestRegressor':{'model':RandomForestRegressor(),'params':{'n_estimators':[5,10,15,20],'max_depth':[3,4,5,6,7]}}}\n",
        "                                                                             \n",
        "                                                      \n",
        "        "
      ]
    },
    {
      "cell_type": "code",
      "execution_count": null,
      "id": "cfd2ccde",
      "metadata": {
        "id": "cfd2ccde"
      },
      "outputs": [],
      "source": [
        "scores = []\n",
        "models = ['DecisionTreeRegressor','RandomForestRegressor']\n",
        "for model_name in models:\n",
        "    mp=model_params[model_name]\n",
        "    gds=GridSearchCV(mp['model'],mp['params'],cv=5,return_train_score=True)\n",
        "    gds.fit(x,y)\n",
        "    scores.append({'model':model_name, 'best_score':gds.best_score_ , 'best_params':gds.best_params_})"
      ]
    },
    {
      "cell_type": "code",
      "execution_count": null,
      "id": "61923c4c",
      "metadata": {
        "scrolled": true,
        "id": "61923c4c",
        "outputId": "d4ff5840-ee89-4089-93c8-fe72ad011544",
        "colab": {
          "base_uri": "https://localhost:8080/"
        }
      },
      "outputs": [
        {
          "output_type": "execute_result",
          "data": {
            "text/plain": [
              "[{'model': 'DecisionTreeRegressor',\n",
              "  'best_score': 0.5331107096675873,\n",
              "  'best_params': {'max_depth': 4}},\n",
              " {'model': 'RandomForestRegressor',\n",
              "  'best_score': 0.5584104291500352,\n",
              "  'best_params': {'max_depth': 4, 'n_estimators': 20}}]"
            ]
          },
          "metadata": {},
          "execution_count": 46
        }
      ],
      "source": [
        "scores"
      ]
    },
    {
      "cell_type": "code",
      "execution_count": null,
      "id": "ccedd88a",
      "metadata": {
        "id": "ccedd88a"
      },
      "outputs": [],
      "source": []
    },
    {
      "cell_type": "markdown",
      "source": [
        "**Train Test split**"
      ],
      "metadata": {
        "id": "yTLz7FjyZXEt"
      },
      "id": "yTLz7FjyZXEt"
    },
    {
      "cell_type": "code",
      "execution_count": null,
      "id": "554fc93c",
      "metadata": {
        "id": "554fc93c"
      },
      "outputs": [],
      "source": [
        "from sklearn.model_selection import train_test_split\n",
        "x_train,x_test,y_train,y_test=train_test_split(x,y,test_size=0.25,random_state=33)"
      ]
    },
    {
      "cell_type": "markdown",
      "id": "e9096111",
      "metadata": {
        "id": "e9096111"
      },
      "source": [
        "**model training**"
      ]
    },
    {
      "cell_type": "code",
      "source": [
        "GRDBOOST=GradientBoostingRegressor()\n",
        "GRDBOOST_model=GRDBOOST.fit(x_train,y_train)\n",
        "GRDBOOST_model.score(x_test,y_test)"
      ],
      "metadata": {
        "colab": {
          "base_uri": "https://localhost:8080/"
        },
        "id": "Owq6QLMPtCkk",
        "outputId": "f9aec446-e051-4df5-fba5-7a8e40e4ed6a"
      },
      "id": "Owq6QLMPtCkk",
      "execution_count": null,
      "outputs": [
        {
          "output_type": "execute_result",
          "data": {
            "text/plain": [
              "0.8064106661300737"
            ]
          },
          "metadata": {},
          "execution_count": 72
        }
      ]
    },
    {
      "cell_type": "code",
      "execution_count": null,
      "id": "a251201a",
      "metadata": {
        "id": "a251201a",
        "outputId": "2c7b41b3-cb18-48f0-cfba-382657d876f1",
        "colab": {
          "base_uri": "https://localhost:8080/"
        }
      },
      "outputs": [
        {
          "output_type": "execute_result",
          "data": {
            "text/plain": [
              "0.7853089899857811"
            ]
          },
          "metadata": {},
          "execution_count": 71
        }
      ],
      "source": [
        "XGBR=XGBRFRegressor()\n",
        "xgb_model=XGBR.fit(x_train,y_train)\n",
        "xgb_model.score(x_test,y_test)"
      ]
    },
    {
      "cell_type": "code",
      "source": [
        "DTREE=DecisionTreeRegressor(max_depth=4,random_state=10,)\n",
        "DTREE_model=DTREE.fit(x_train,y_train)\n",
        "DTREE_model.score(x_test,y_test)"
      ],
      "metadata": {
        "colab": {
          "base_uri": "https://localhost:8080/"
        },
        "id": "8tbV9DROtpKj",
        "outputId": "d0fb4da9-1c00-4894-f1db-4842c44fb78e"
      },
      "id": "8tbV9DROtpKj",
      "execution_count": null,
      "outputs": [
        {
          "output_type": "execute_result",
          "data": {
            "text/plain": [
              "0.7814491823034527"
            ]
          },
          "metadata": {},
          "execution_count": 70
        }
      ]
    },
    {
      "cell_type": "code",
      "execution_count": null,
      "id": "99f6dcc0",
      "metadata": {
        "id": "99f6dcc0",
        "outputId": "c9ef8d16-84a7-43ef-cd2b-fd893ff12e67",
        "colab": {
          "base_uri": "https://localhost:8080/"
        }
      },
      "outputs": [
        {
          "output_type": "execute_result",
          "data": {
            "text/plain": [
              "0.7618021316791135"
            ]
          },
          "metadata": {},
          "execution_count": 69
        }
      ],
      "source": [
        "RandomForest=RandomForestRegressor(n_estimators=8,random_state=10,)\n",
        "model=RandomForest.fit(x_train,y_train)\n",
        "model.score(x_test,y_test)"
      ]
    },
    {
      "cell_type": "markdown",
      "source": [
        "**Predicting**"
      ],
      "metadata": {
        "id": "-FCNjTriZxxE"
      },
      "id": "-FCNjTriZxxE"
    },
    {
      "cell_type": "code",
      "execution_count": null,
      "id": "47e5453d",
      "metadata": {
        "id": "47e5453d",
        "outputId": "6aef82d5-af2b-4832-cb2b-ee623670401e",
        "colab": {
          "base_uri": "https://localhost:8080/"
        }
      },
      "outputs": [
        {
          "output_type": "execute_result",
          "data": {
            "text/plain": [
              "array([76.09957474])"
            ]
          },
          "metadata": {},
          "execution_count": 76
        }
      ],
      "source": [
        "GRDBOOST_model.predict([x_test[0]])"
      ]
    },
    {
      "cell_type": "code",
      "source": [
        "x_test[0]"
      ],
      "metadata": {
        "colab": {
          "base_uri": "https://localhost:8080/"
        },
        "id": "V9e_7ZPewnyM",
        "outputId": "962adb13-1f59-40b9-e471-f542d95bc67e"
      },
      "id": "V9e_7ZPewnyM",
      "execution_count": null,
      "outputs": [
        {
          "output_type": "execute_result",
          "data": {
            "text/plain": [
              "array([0.69346734, 0.04964539, 0.07310049, 0.92875318, 0.72707424,\n",
              "       0.77645736, 0.20722312, 0.42492195, 0.78986272, 0.18181818])"
            ]
          },
          "metadata": {},
          "execution_count": 77
        }
      ]
    },
    {
      "cell_type": "markdown",
      "source": [
        "**predicting with orginal data (data which is not preprocessed)**"
      ],
      "metadata": {
        "id": "2NsEu9LSZ5DD"
      },
      "id": "2NsEu9LSZ5DD"
    },
    {
      "cell_type": "code",
      "execution_count": null,
      "id": "41550c2a",
      "metadata": {
        "scrolled": true,
        "id": "41550c2a",
        "outputId": "0eb4b54d-7988-477e-8527-9f75786fdd9b",
        "colab": {
          "base_uri": "https://localhost:8080/"
        }
      },
      "outputs": [
        {
          "output_type": "stream",
          "name": "stderr",
          "text": [
            "/usr/local/lib/python3.9/dist-packages/sklearn/base.py:439: UserWarning: X does not have valid feature names, but MinMaxScaler was fitted with feature names\n",
            "  warnings.warn(\n"
          ]
        },
        {
          "output_type": "execute_result",
          "data": {
            "text/plain": [
              "array([78.83966])"
            ]
          },
          "metadata": {},
          "execution_count": 78
        }
      ],
      "source": [
        "import numpy as np\n",
        "gener=le_Genre.transform([\"['pop', 'uk pop']\"])\n",
        "values=scaler.transform([[5,1,5473565.0,gener[0],0.736,-7.409,0.0615,212000.0, 0.0203,5]])\n",
        "result=GRDBOOST_model.predict(values)\n",
        "result"
      ]
    },
    {
      "cell_type": "code",
      "execution_count": null,
      "id": "564a53d2",
      "metadata": {
        "id": "564a53d2"
      },
      "outputs": [],
      "source": []
    },
    {
      "cell_type": "markdown",
      "id": "f88b1540",
      "metadata": {
        "id": "f88b1540"
      },
      "source": [
        "**saving the model**"
      ]
    },
    {
      "cell_type": "code",
      "execution_count": null,
      "id": "ba5542f0",
      "metadata": {
        "id": "ba5542f0",
        "colab": {
          "base_uri": "https://localhost:8080/"
        },
        "outputId": "a07848e5-9d21-431a-b257-e807b79cdc13"
      },
      "outputs": [
        {
          "output_type": "execute_result",
          "data": {
            "text/plain": [
              "['pop1_model']"
            ]
          },
          "metadata": {},
          "execution_count": 79
        }
      ],
      "source": [
        "import joblib\n",
        "joblib.dump(GRDBOOST_model,'pop1_model')"
      ]
    },
    {
      "cell_type": "markdown",
      "id": "849f0c0b",
      "metadata": {
        "id": "849f0c0b"
      },
      "source": [
        "**Recalling the model**"
      ]
    },
    {
      "cell_type": "code",
      "execution_count": null,
      "id": "fddffe45",
      "metadata": {
        "id": "fddffe45",
        "outputId": "2716adb2-d01e-418c-e9e2-e69b8edb06c2",
        "colab": {
          "base_uri": "https://localhost:8080/"
        }
      },
      "outputs": [
        {
          "output_type": "execute_result",
          "data": {
            "text/plain": [
              "array([76.09957474])"
            ]
          },
          "metadata": {},
          "execution_count": 80
        }
      ],
      "source": [
        "joblib_reloaded = joblib.load('/content/drive/MyDrive/Colab Notebooks/project/ML/song popularity and streams prediction/pop1_model') \n",
        "joblib_reloaded.predict([x_test[0]])"
      ]
    },
    {
      "cell_type": "code",
      "execution_count": null,
      "id": "58a356d3",
      "metadata": {
        "id": "58a356d3",
        "colab": {
          "base_uri": "https://localhost:8080/"
        },
        "outputId": "f7aadedb-7906-4d72-ec74-80415883d81a"
      },
      "outputs": [
        {
          "output_type": "execute_result",
          "data": {
            "text/plain": [
              "array([0.69346734, 0.04964539, 0.07310049, 0.92875318, 0.72707424,\n",
              "       0.77645736, 0.20722312, 0.42492195, 0.78986272, 0.18181818])"
            ]
          },
          "metadata": {},
          "execution_count": 82
        }
      ],
      "source": [
        "x_test[0]"
      ]
    },
    {
      "cell_type": "markdown",
      "source": [
        "**function for prediction**"
      ],
      "metadata": {
        "id": "5lfwWyuBCORc"
      },
      "id": "5lfwWyuBCORc"
    },
    {
      "cell_type": "code",
      "source": [
        "def prediction(values):\n",
        "  joblib_reloaded = joblib.load('/content/drive/MyDrive/Colab Notebooks/project/ML/song popularity and streams prediction/pop1_model') \n",
        "  result=joblib_reloaded.predict(values)\n",
        "  result=result[0]\n",
        "  print('The popularity of the song is {} % ' .format(result))"
      ],
      "metadata": {
        "id": "4cNQKsqDx4Dj"
      },
      "id": "4cNQKsqDx4Dj",
      "execution_count": null,
      "outputs": []
    },
    {
      "cell_type": "code",
      "source": [
        "valuse=0.69346734, 0.04964539, 0.07310049, 0.92875318, 0.72707424, 0.77645736, 0.20722312, 0.42492195, 0.78986272, 0.18181818\n",
        "prediction(values)"
      ],
      "metadata": {
        "colab": {
          "base_uri": "https://localhost:8080/"
        },
        "id": "zmuXoHn9x4GB",
        "outputId": "0185a20c-4fb5-4d67-c257-13ce858430a7"
      },
      "id": "zmuXoHn9x4GB",
      "execution_count": null,
      "outputs": [
        {
          "output_type": "stream",
          "name": "stdout",
          "text": [
            "The popularity of the song is 78.83965999660654 % \n"
          ]
        }
      ]
    },
    {
      "cell_type": "code",
      "source": [],
      "metadata": {
        "id": "cv2ivxpTWFcE"
      },
      "id": "cv2ivxpTWFcE",
      "execution_count": null,
      "outputs": []
    },
    {
      "cell_type": "markdown",
      "source": [
        "**function for predicting from saved model(for non-preprocessed data)**"
      ],
      "metadata": {
        "id": "W4OhXMJ5XVao"
      },
      "id": "W4OhXMJ5XVao"
    },
    {
      "cell_type": "code",
      "source": [
        "def pred(Position, Times_Charted, Followers,\tGenre, Energy, Loudness, Acousticness, Duration, Valence,\tmonth):\n",
        "  gener=le_Genre.transform([Genre])\n",
        "  values=scaler.transform([[Position,Times_Charted,Followers,gener[0],Energy,Loudness,Acousticness,Duration,Valence,month]])\n",
        "  joblib_reloaded = joblib.load('/content/drive/MyDrive/Colab Notebooks/project/ML/song popularity and streams prediction/pop1_model') \n",
        "  result=joblib_reloaded.predict(values)\n",
        "  result=result[0]\n",
        "  print('The popularity of the song is {} % ' .format(result))"
      ],
      "metadata": {
        "id": "kMKjySkSOjta"
      },
      "id": "kMKjySkSOjta",
      "execution_count": 34,
      "outputs": []
    },
    {
      "cell_type": "code",
      "source": [
        "pred(2,3,3377762.0, \"['pop', 'uk pop']\",0.8,-4.808, 0.127, 211560.0, 0.589, 12)"
      ],
      "metadata": {
        "colab": {
          "base_uri": "https://localhost:8080/"
        },
        "id": "w2lFUhG_XUkG",
        "outputId": "31c8bfdf-ca43-43f5-95ec-d8e84e6d74b5"
      },
      "id": "w2lFUhG_XUkG",
      "execution_count": 37,
      "outputs": [
        {
          "output_type": "stream",
          "name": "stderr",
          "text": [
            "/usr/local/lib/python3.9/dist-packages/sklearn/base.py:439: UserWarning: X does not have valid feature names, but MinMaxScaler was fitted with feature names\n",
            "  warnings.warn(\n"
          ]
        },
        {
          "output_type": "stream",
          "name": "stdout",
          "text": [
            "The popularity of the song is 77.63854427729336 % \n"
          ]
        }
      ]
    },
    {
      "cell_type": "code",
      "source": [],
      "metadata": {
        "id": "og-6a9aVXUpi"
      },
      "id": "og-6a9aVXUpi",
      "execution_count": null,
      "outputs": []
    },
    {
      "cell_type": "markdown",
      "source": [
        "saving and recalling using pickle"
      ],
      "metadata": {
        "id": "7tOlpJqQFnzU"
      },
      "id": "7tOlpJqQFnzU"
    },
    {
      "cell_type": "code",
      "execution_count": null,
      "id": "e9820475",
      "metadata": {
        "id": "e9820475"
      },
      "outputs": [],
      "source": [
        "import pickle\n",
        "with open ('reg_pickle','wb') as f:\n",
        "    pickle.dump(xgb_model,f)"
      ]
    },
    {
      "cell_type": "code",
      "execution_count": null,
      "id": "6e01a2f2",
      "metadata": {
        "id": "6e01a2f2"
      },
      "outputs": [],
      "source": [
        "with open ('reg_pickle','rb') as s:\n",
        "    reg_loaded=pickle.load(s)"
      ]
    },
    {
      "cell_type": "code",
      "execution_count": null,
      "id": "2e7faff8",
      "metadata": {
        "id": "2e7faff8"
      },
      "outputs": [],
      "source": []
    }
  ],
  "metadata": {
    "kernelspec": {
      "display_name": "Python 3 (ipykernel)",
      "language": "python",
      "name": "python3"
    },
    "language_info": {
      "codemirror_mode": {
        "name": "ipython",
        "version": 3
      },
      "file_extension": ".py",
      "mimetype": "text/x-python",
      "name": "python",
      "nbconvert_exporter": "python",
      "pygments_lexer": "ipython3",
      "version": "3.9.12"
    },
    "colab": {
      "provenance": []
    }
  },
  "nbformat": 4,
  "nbformat_minor": 5
}