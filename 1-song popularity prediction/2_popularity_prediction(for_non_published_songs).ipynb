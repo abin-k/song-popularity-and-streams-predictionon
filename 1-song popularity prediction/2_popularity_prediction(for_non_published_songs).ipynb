{
  "cells": [
    {
      "cell_type": "markdown",
      "source": [
        "## **popularity prediction(for non published songs)**"
      ],
      "metadata": {
        "id": "EraInanCchrD"
      },
      "id": "EraInanCchrD"
    },
    {
      "cell_type": "code",
      "source": [
        "from google.colab import drive\n",
        "drive.mount('/content/drive')"
      ],
      "metadata": {
        "colab": {
          "base_uri": "https://localhost:8080/"
        },
        "id": "a-i1MB9HP8br",
        "outputId": "51bb9a7a-fa81-4cb1-a1f4-04b8821ac854"
      },
      "id": "a-i1MB9HP8br",
      "execution_count": null,
      "outputs": [
        {
          "output_type": "stream",
          "name": "stdout",
          "text": [
            "Mounted at /content/drive\n"
          ]
        }
      ]
    },
    {
      "cell_type": "markdown",
      "source": [
        " **Imports**"
      ],
      "metadata": {
        "id": "7IQsQqc1ZzdO"
      },
      "id": "7IQsQqc1ZzdO"
    },
    {
      "cell_type": "code",
      "execution_count": null,
      "id": "e6aefeb6",
      "metadata": {
        "id": "e6aefeb6"
      },
      "outputs": [],
      "source": [
        "import pandas as pd\n",
        "from sklearn.preprocessing import LabelEncoder, MinMaxScaler,StandardScaler\n",
        "import matplotlib.pyplot as plt\n",
        "import seaborn as sns\n",
        "\n",
        "from sklearn.model_selection import GridSearchCV\n",
        "\n",
        "from xgboost import XGBRFRegressor\n",
        "from sklearn.ensemble import RandomForestRegressor\n",
        "from sklearn.neighbors import KNeighborsRegressor\n",
        "from sklearn.tree import DecisionTreeRegressor\n",
        "from sklearn.ensemble import AdaBoostRegressor\n",
        "from sklearn.ensemble import GradientBoostingRegressor\n",
        "from sklearn.linear_model import LogisticRegression\n",
        "from sklearn.svm import SVR"
      ]
    },
    {
      "cell_type": "markdown",
      "source": [
        "**Dataset**"
      ],
      "metadata": {
        "id": "kDykjL-zbf38"
      },
      "id": "kDykjL-zbf38"
    },
    {
      "cell_type": "code",
      "execution_count": null,
      "id": "6749d0d6",
      "metadata": {
        "colab": {
          "base_uri": "https://localhost:8080/",
          "height": 560
        },
        "id": "6749d0d6",
        "outputId": "f6263106-de26-42c3-f0da-4fee12fc602d"
      },
      "outputs": [
        {
          "output_type": "execute_result",
          "data": {
            "text/plain": [
              "   Index  Highest Charting Position  Number of Times Charted  \\\n",
              "0      1                          1                        8   \n",
              "1      2                          2                        3   \n",
              "2      3                          1                       11   \n",
              "3      4                          3                        5   \n",
              "4      5                          5                        1   \n",
              "\n",
              "  Week of Highest Charting                          Song Name     Streams  \\\n",
              "0   2021-07-23--2021-07-30                            Beggin'  48,633,449   \n",
              "1   2021-07-23--2021-07-30          STAY (with Justin Bieber)  47,248,719   \n",
              "2   2021-06-25--2021-07-02                           good 4 u  40,162,559   \n",
              "3   2021-07-02--2021-07-09                         Bad Habits  37,799,456   \n",
              "4   2021-07-23--2021-07-30  INDUSTRY BABY (feat. Jack Harlow)  33,948,454   \n",
              "\n",
              "           Artist Artist Followers                 Song ID  \\\n",
              "0        Måneskin          3377762  3Wrjm47oTz2sjIgck11l5e   \n",
              "1   The Kid LAROI          2230022  5HCyWlXZPP0y6Gqq8TgA20   \n",
              "2  Olivia Rodrigo          6266514  4ZtFanR9U6ndgddUvNcjcG   \n",
              "3      Ed Sheeran         83293380  6PQ88X9TkUIAUIZJHW2upE   \n",
              "4       Lil Nas X          5473565  27NovPIUIRrOZoCHxABJwK   \n",
              "\n",
              "                                    Genre  ... Danceability Energy Loudness  \\\n",
              "0  ['indie rock italiano', 'italian pop']  ...        0.714    0.8   -4.808   \n",
              "1                  ['australian hip hop']  ...        0.591  0.764   -5.484   \n",
              "2                                 ['pop']  ...        0.563  0.664   -5.044   \n",
              "3                       ['pop', 'uk pop']  ...        0.808  0.897   -3.712   \n",
              "4           ['lgbtq+ hip hop', 'pop rap']  ...        0.736  0.704   -7.409   \n",
              "\n",
              "  Speechiness Acousticness Liveness    Tempo Duration (ms) Valence  Chord  \n",
              "0      0.0504        0.127    0.359  134.002        211560   0.589      B  \n",
              "1      0.0483       0.0383    0.103  169.928        141806   0.478  C#/Db  \n",
              "2       0.154        0.335   0.0849  166.928        178147   0.688      A  \n",
              "3      0.0348       0.0469    0.364  126.026        231041   0.591      B  \n",
              "4      0.0615       0.0203   0.0501  149.995        212000   0.894  D#/Eb  \n",
              "\n",
              "[5 rows x 23 columns]"
            ],
            "text/html": [
              "\n",
              "  <div id=\"df-7272635a-1460-42f0-a965-ef2811eb221a\">\n",
              "    <div class=\"colab-df-container\">\n",
              "      <div>\n",
              "<style scoped>\n",
              "    .dataframe tbody tr th:only-of-type {\n",
              "        vertical-align: middle;\n",
              "    }\n",
              "\n",
              "    .dataframe tbody tr th {\n",
              "        vertical-align: top;\n",
              "    }\n",
              "\n",
              "    .dataframe thead th {\n",
              "        text-align: right;\n",
              "    }\n",
              "</style>\n",
              "<table border=\"1\" class=\"dataframe\">\n",
              "  <thead>\n",
              "    <tr style=\"text-align: right;\">\n",
              "      <th></th>\n",
              "      <th>Index</th>\n",
              "      <th>Highest Charting Position</th>\n",
              "      <th>Number of Times Charted</th>\n",
              "      <th>Week of Highest Charting</th>\n",
              "      <th>Song Name</th>\n",
              "      <th>Streams</th>\n",
              "      <th>Artist</th>\n",
              "      <th>Artist Followers</th>\n",
              "      <th>Song ID</th>\n",
              "      <th>Genre</th>\n",
              "      <th>...</th>\n",
              "      <th>Danceability</th>\n",
              "      <th>Energy</th>\n",
              "      <th>Loudness</th>\n",
              "      <th>Speechiness</th>\n",
              "      <th>Acousticness</th>\n",
              "      <th>Liveness</th>\n",
              "      <th>Tempo</th>\n",
              "      <th>Duration (ms)</th>\n",
              "      <th>Valence</th>\n",
              "      <th>Chord</th>\n",
              "    </tr>\n",
              "  </thead>\n",
              "  <tbody>\n",
              "    <tr>\n",
              "      <th>0</th>\n",
              "      <td>1</td>\n",
              "      <td>1</td>\n",
              "      <td>8</td>\n",
              "      <td>2021-07-23--2021-07-30</td>\n",
              "      <td>Beggin'</td>\n",
              "      <td>48,633,449</td>\n",
              "      <td>Måneskin</td>\n",
              "      <td>3377762</td>\n",
              "      <td>3Wrjm47oTz2sjIgck11l5e</td>\n",
              "      <td>['indie rock italiano', 'italian pop']</td>\n",
              "      <td>...</td>\n",
              "      <td>0.714</td>\n",
              "      <td>0.8</td>\n",
              "      <td>-4.808</td>\n",
              "      <td>0.0504</td>\n",
              "      <td>0.127</td>\n",
              "      <td>0.359</td>\n",
              "      <td>134.002</td>\n",
              "      <td>211560</td>\n",
              "      <td>0.589</td>\n",
              "      <td>B</td>\n",
              "    </tr>\n",
              "    <tr>\n",
              "      <th>1</th>\n",
              "      <td>2</td>\n",
              "      <td>2</td>\n",
              "      <td>3</td>\n",
              "      <td>2021-07-23--2021-07-30</td>\n",
              "      <td>STAY (with Justin Bieber)</td>\n",
              "      <td>47,248,719</td>\n",
              "      <td>The Kid LAROI</td>\n",
              "      <td>2230022</td>\n",
              "      <td>5HCyWlXZPP0y6Gqq8TgA20</td>\n",
              "      <td>['australian hip hop']</td>\n",
              "      <td>...</td>\n",
              "      <td>0.591</td>\n",
              "      <td>0.764</td>\n",
              "      <td>-5.484</td>\n",
              "      <td>0.0483</td>\n",
              "      <td>0.0383</td>\n",
              "      <td>0.103</td>\n",
              "      <td>169.928</td>\n",
              "      <td>141806</td>\n",
              "      <td>0.478</td>\n",
              "      <td>C#/Db</td>\n",
              "    </tr>\n",
              "    <tr>\n",
              "      <th>2</th>\n",
              "      <td>3</td>\n",
              "      <td>1</td>\n",
              "      <td>11</td>\n",
              "      <td>2021-06-25--2021-07-02</td>\n",
              "      <td>good 4 u</td>\n",
              "      <td>40,162,559</td>\n",
              "      <td>Olivia Rodrigo</td>\n",
              "      <td>6266514</td>\n",
              "      <td>4ZtFanR9U6ndgddUvNcjcG</td>\n",
              "      <td>['pop']</td>\n",
              "      <td>...</td>\n",
              "      <td>0.563</td>\n",
              "      <td>0.664</td>\n",
              "      <td>-5.044</td>\n",
              "      <td>0.154</td>\n",
              "      <td>0.335</td>\n",
              "      <td>0.0849</td>\n",
              "      <td>166.928</td>\n",
              "      <td>178147</td>\n",
              "      <td>0.688</td>\n",
              "      <td>A</td>\n",
              "    </tr>\n",
              "    <tr>\n",
              "      <th>3</th>\n",
              "      <td>4</td>\n",
              "      <td>3</td>\n",
              "      <td>5</td>\n",
              "      <td>2021-07-02--2021-07-09</td>\n",
              "      <td>Bad Habits</td>\n",
              "      <td>37,799,456</td>\n",
              "      <td>Ed Sheeran</td>\n",
              "      <td>83293380</td>\n",
              "      <td>6PQ88X9TkUIAUIZJHW2upE</td>\n",
              "      <td>['pop', 'uk pop']</td>\n",
              "      <td>...</td>\n",
              "      <td>0.808</td>\n",
              "      <td>0.897</td>\n",
              "      <td>-3.712</td>\n",
              "      <td>0.0348</td>\n",
              "      <td>0.0469</td>\n",
              "      <td>0.364</td>\n",
              "      <td>126.026</td>\n",
              "      <td>231041</td>\n",
              "      <td>0.591</td>\n",
              "      <td>B</td>\n",
              "    </tr>\n",
              "    <tr>\n",
              "      <th>4</th>\n",
              "      <td>5</td>\n",
              "      <td>5</td>\n",
              "      <td>1</td>\n",
              "      <td>2021-07-23--2021-07-30</td>\n",
              "      <td>INDUSTRY BABY (feat. Jack Harlow)</td>\n",
              "      <td>33,948,454</td>\n",
              "      <td>Lil Nas X</td>\n",
              "      <td>5473565</td>\n",
              "      <td>27NovPIUIRrOZoCHxABJwK</td>\n",
              "      <td>['lgbtq+ hip hop', 'pop rap']</td>\n",
              "      <td>...</td>\n",
              "      <td>0.736</td>\n",
              "      <td>0.704</td>\n",
              "      <td>-7.409</td>\n",
              "      <td>0.0615</td>\n",
              "      <td>0.0203</td>\n",
              "      <td>0.0501</td>\n",
              "      <td>149.995</td>\n",
              "      <td>212000</td>\n",
              "      <td>0.894</td>\n",
              "      <td>D#/Eb</td>\n",
              "    </tr>\n",
              "  </tbody>\n",
              "</table>\n",
              "<p>5 rows × 23 columns</p>\n",
              "</div>\n",
              "      <button class=\"colab-df-convert\" onclick=\"convertToInteractive('df-7272635a-1460-42f0-a965-ef2811eb221a')\"\n",
              "              title=\"Convert this dataframe to an interactive table.\"\n",
              "              style=\"display:none;\">\n",
              "        \n",
              "  <svg xmlns=\"http://www.w3.org/2000/svg\" height=\"24px\"viewBox=\"0 0 24 24\"\n",
              "       width=\"24px\">\n",
              "    <path d=\"M0 0h24v24H0V0z\" fill=\"none\"/>\n",
              "    <path d=\"M18.56 5.44l.94 2.06.94-2.06 2.06-.94-2.06-.94-.94-2.06-.94 2.06-2.06.94zm-11 1L8.5 8.5l.94-2.06 2.06-.94-2.06-.94L8.5 2.5l-.94 2.06-2.06.94zm10 10l.94 2.06.94-2.06 2.06-.94-2.06-.94-.94-2.06-.94 2.06-2.06.94z\"/><path d=\"M17.41 7.96l-1.37-1.37c-.4-.4-.92-.59-1.43-.59-.52 0-1.04.2-1.43.59L10.3 9.45l-7.72 7.72c-.78.78-.78 2.05 0 2.83L4 21.41c.39.39.9.59 1.41.59.51 0 1.02-.2 1.41-.59l7.78-7.78 2.81-2.81c.8-.78.8-2.07 0-2.86zM5.41 20L4 18.59l7.72-7.72 1.47 1.35L5.41 20z\"/>\n",
              "  </svg>\n",
              "      </button>\n",
              "      \n",
              "  <style>\n",
              "    .colab-df-container {\n",
              "      display:flex;\n",
              "      flex-wrap:wrap;\n",
              "      gap: 12px;\n",
              "    }\n",
              "\n",
              "    .colab-df-convert {\n",
              "      background-color: #E8F0FE;\n",
              "      border: none;\n",
              "      border-radius: 50%;\n",
              "      cursor: pointer;\n",
              "      display: none;\n",
              "      fill: #1967D2;\n",
              "      height: 32px;\n",
              "      padding: 0 0 0 0;\n",
              "      width: 32px;\n",
              "    }\n",
              "\n",
              "    .colab-df-convert:hover {\n",
              "      background-color: #E2EBFA;\n",
              "      box-shadow: 0px 1px 2px rgba(60, 64, 67, 0.3), 0px 1px 3px 1px rgba(60, 64, 67, 0.15);\n",
              "      fill: #174EA6;\n",
              "    }\n",
              "\n",
              "    [theme=dark] .colab-df-convert {\n",
              "      background-color: #3B4455;\n",
              "      fill: #D2E3FC;\n",
              "    }\n",
              "\n",
              "    [theme=dark] .colab-df-convert:hover {\n",
              "      background-color: #434B5C;\n",
              "      box-shadow: 0px 1px 3px 1px rgba(0, 0, 0, 0.15);\n",
              "      filter: drop-shadow(0px 1px 2px rgba(0, 0, 0, 0.3));\n",
              "      fill: #FFFFFF;\n",
              "    }\n",
              "  </style>\n",
              "\n",
              "      <script>\n",
              "        const buttonEl =\n",
              "          document.querySelector('#df-7272635a-1460-42f0-a965-ef2811eb221a button.colab-df-convert');\n",
              "        buttonEl.style.display =\n",
              "          google.colab.kernel.accessAllowed ? 'block' : 'none';\n",
              "\n",
              "        async function convertToInteractive(key) {\n",
              "          const element = document.querySelector('#df-7272635a-1460-42f0-a965-ef2811eb221a');\n",
              "          const dataTable =\n",
              "            await google.colab.kernel.invokeFunction('convertToInteractive',\n",
              "                                                     [key], {});\n",
              "          if (!dataTable) return;\n",
              "\n",
              "          const docLinkHtml = 'Like what you see? Visit the ' +\n",
              "            '<a target=\"_blank\" href=https://colab.research.google.com/notebooks/data_table.ipynb>data table notebook</a>'\n",
              "            + ' to learn more about interactive tables.';\n",
              "          element.innerHTML = '';\n",
              "          dataTable['output_type'] = 'display_data';\n",
              "          await google.colab.output.renderOutput(dataTable, element);\n",
              "          const docLink = document.createElement('div');\n",
              "          docLink.innerHTML = docLinkHtml;\n",
              "          element.appendChild(docLink);\n",
              "        }\n",
              "      </script>\n",
              "    </div>\n",
              "  </div>\n",
              "  "
            ]
          },
          "metadata": {},
          "execution_count": 106
        }
      ],
      "source": [
        "data = pd.read_csv('/content/drive/MyDrive/Colab Notebooks/project/ML/song popularity and streams prediction/spotify_dataset.csv')  \n",
        "data.head()"
      ]
    },
    {
      "cell_type": "markdown",
      "source": [
        "**preprocessing**"
      ],
      "metadata": {
        "id": "X_XNF1rFbs_T"
      },
      "id": "X_XNF1rFbs_T"
    },
    {
      "cell_type": "code",
      "source": [
        "\n",
        "data=data.drop(['Index','Highest Charting Position','Number of Times Charted','Week of Highest Charting',\n",
        "                'Song Name','Streams','Song ID','Weeks Charted'],axis=1)\n",
        "data.head()"
      ],
      "metadata": {
        "colab": {
          "base_uri": "https://localhost:8080/",
          "height": 389
        },
        "id": "NQgR9mlwfmt7",
        "outputId": "1d16c87d-4bd8-4fe8-eb58-71fd24148ef9"
      },
      "id": "NQgR9mlwfmt7",
      "execution_count": null,
      "outputs": [
        {
          "output_type": "execute_result",
          "data": {
            "text/plain": [
              "           Artist Artist Followers                                   Genre  \\\n",
              "0        Måneskin          3377762  ['indie rock italiano', 'italian pop']   \n",
              "1   The Kid LAROI          2230022                  ['australian hip hop']   \n",
              "2  Olivia Rodrigo          6266514                                 ['pop']   \n",
              "3      Ed Sheeran         83293380                       ['pop', 'uk pop']   \n",
              "4       Lil Nas X          5473565           ['lgbtq+ hip hop', 'pop rap']   \n",
              "\n",
              "  Release Date Popularity Danceability Energy Loudness Speechiness  \\\n",
              "0   2017-12-08        100        0.714    0.8   -4.808      0.0504   \n",
              "1   2021-07-09         99        0.591  0.764   -5.484      0.0483   \n",
              "2   2021-05-21         99        0.563  0.664   -5.044       0.154   \n",
              "3   2021-06-25         98        0.808  0.897   -3.712      0.0348   \n",
              "4   2021-07-23         96        0.736  0.704   -7.409      0.0615   \n",
              "\n",
              "  Acousticness Liveness    Tempo Duration (ms) Valence  Chord  \n",
              "0        0.127    0.359  134.002        211560   0.589      B  \n",
              "1       0.0383    0.103  169.928        141806   0.478  C#/Db  \n",
              "2        0.335   0.0849  166.928        178147   0.688      A  \n",
              "3       0.0469    0.364  126.026        231041   0.591      B  \n",
              "4       0.0203   0.0501  149.995        212000   0.894  D#/Eb  "
            ],
            "text/html": [
              "\n",
              "  <div id=\"df-8af8b64f-9030-4538-975c-84e21b1bca94\">\n",
              "    <div class=\"colab-df-container\">\n",
              "      <div>\n",
              "<style scoped>\n",
              "    .dataframe tbody tr th:only-of-type {\n",
              "        vertical-align: middle;\n",
              "    }\n",
              "\n",
              "    .dataframe tbody tr th {\n",
              "        vertical-align: top;\n",
              "    }\n",
              "\n",
              "    .dataframe thead th {\n",
              "        text-align: right;\n",
              "    }\n",
              "</style>\n",
              "<table border=\"1\" class=\"dataframe\">\n",
              "  <thead>\n",
              "    <tr style=\"text-align: right;\">\n",
              "      <th></th>\n",
              "      <th>Artist</th>\n",
              "      <th>Artist Followers</th>\n",
              "      <th>Genre</th>\n",
              "      <th>Release Date</th>\n",
              "      <th>Popularity</th>\n",
              "      <th>Danceability</th>\n",
              "      <th>Energy</th>\n",
              "      <th>Loudness</th>\n",
              "      <th>Speechiness</th>\n",
              "      <th>Acousticness</th>\n",
              "      <th>Liveness</th>\n",
              "      <th>Tempo</th>\n",
              "      <th>Duration (ms)</th>\n",
              "      <th>Valence</th>\n",
              "      <th>Chord</th>\n",
              "    </tr>\n",
              "  </thead>\n",
              "  <tbody>\n",
              "    <tr>\n",
              "      <th>0</th>\n",
              "      <td>Måneskin</td>\n",
              "      <td>3377762</td>\n",
              "      <td>['indie rock italiano', 'italian pop']</td>\n",
              "      <td>2017-12-08</td>\n",
              "      <td>100</td>\n",
              "      <td>0.714</td>\n",
              "      <td>0.8</td>\n",
              "      <td>-4.808</td>\n",
              "      <td>0.0504</td>\n",
              "      <td>0.127</td>\n",
              "      <td>0.359</td>\n",
              "      <td>134.002</td>\n",
              "      <td>211560</td>\n",
              "      <td>0.589</td>\n",
              "      <td>B</td>\n",
              "    </tr>\n",
              "    <tr>\n",
              "      <th>1</th>\n",
              "      <td>The Kid LAROI</td>\n",
              "      <td>2230022</td>\n",
              "      <td>['australian hip hop']</td>\n",
              "      <td>2021-07-09</td>\n",
              "      <td>99</td>\n",
              "      <td>0.591</td>\n",
              "      <td>0.764</td>\n",
              "      <td>-5.484</td>\n",
              "      <td>0.0483</td>\n",
              "      <td>0.0383</td>\n",
              "      <td>0.103</td>\n",
              "      <td>169.928</td>\n",
              "      <td>141806</td>\n",
              "      <td>0.478</td>\n",
              "      <td>C#/Db</td>\n",
              "    </tr>\n",
              "    <tr>\n",
              "      <th>2</th>\n",
              "      <td>Olivia Rodrigo</td>\n",
              "      <td>6266514</td>\n",
              "      <td>['pop']</td>\n",
              "      <td>2021-05-21</td>\n",
              "      <td>99</td>\n",
              "      <td>0.563</td>\n",
              "      <td>0.664</td>\n",
              "      <td>-5.044</td>\n",
              "      <td>0.154</td>\n",
              "      <td>0.335</td>\n",
              "      <td>0.0849</td>\n",
              "      <td>166.928</td>\n",
              "      <td>178147</td>\n",
              "      <td>0.688</td>\n",
              "      <td>A</td>\n",
              "    </tr>\n",
              "    <tr>\n",
              "      <th>3</th>\n",
              "      <td>Ed Sheeran</td>\n",
              "      <td>83293380</td>\n",
              "      <td>['pop', 'uk pop']</td>\n",
              "      <td>2021-06-25</td>\n",
              "      <td>98</td>\n",
              "      <td>0.808</td>\n",
              "      <td>0.897</td>\n",
              "      <td>-3.712</td>\n",
              "      <td>0.0348</td>\n",
              "      <td>0.0469</td>\n",
              "      <td>0.364</td>\n",
              "      <td>126.026</td>\n",
              "      <td>231041</td>\n",
              "      <td>0.591</td>\n",
              "      <td>B</td>\n",
              "    </tr>\n",
              "    <tr>\n",
              "      <th>4</th>\n",
              "      <td>Lil Nas X</td>\n",
              "      <td>5473565</td>\n",
              "      <td>['lgbtq+ hip hop', 'pop rap']</td>\n",
              "      <td>2021-07-23</td>\n",
              "      <td>96</td>\n",
              "      <td>0.736</td>\n",
              "      <td>0.704</td>\n",
              "      <td>-7.409</td>\n",
              "      <td>0.0615</td>\n",
              "      <td>0.0203</td>\n",
              "      <td>0.0501</td>\n",
              "      <td>149.995</td>\n",
              "      <td>212000</td>\n",
              "      <td>0.894</td>\n",
              "      <td>D#/Eb</td>\n",
              "    </tr>\n",
              "  </tbody>\n",
              "</table>\n",
              "</div>\n",
              "      <button class=\"colab-df-convert\" onclick=\"convertToInteractive('df-8af8b64f-9030-4538-975c-84e21b1bca94')\"\n",
              "              title=\"Convert this dataframe to an interactive table.\"\n",
              "              style=\"display:none;\">\n",
              "        \n",
              "  <svg xmlns=\"http://www.w3.org/2000/svg\" height=\"24px\"viewBox=\"0 0 24 24\"\n",
              "       width=\"24px\">\n",
              "    <path d=\"M0 0h24v24H0V0z\" fill=\"none\"/>\n",
              "    <path d=\"M18.56 5.44l.94 2.06.94-2.06 2.06-.94-2.06-.94-.94-2.06-.94 2.06-2.06.94zm-11 1L8.5 8.5l.94-2.06 2.06-.94-2.06-.94L8.5 2.5l-.94 2.06-2.06.94zm10 10l.94 2.06.94-2.06 2.06-.94-2.06-.94-.94-2.06-.94 2.06-2.06.94z\"/><path d=\"M17.41 7.96l-1.37-1.37c-.4-.4-.92-.59-1.43-.59-.52 0-1.04.2-1.43.59L10.3 9.45l-7.72 7.72c-.78.78-.78 2.05 0 2.83L4 21.41c.39.39.9.59 1.41.59.51 0 1.02-.2 1.41-.59l7.78-7.78 2.81-2.81c.8-.78.8-2.07 0-2.86zM5.41 20L4 18.59l7.72-7.72 1.47 1.35L5.41 20z\"/>\n",
              "  </svg>\n",
              "      </button>\n",
              "      \n",
              "  <style>\n",
              "    .colab-df-container {\n",
              "      display:flex;\n",
              "      flex-wrap:wrap;\n",
              "      gap: 12px;\n",
              "    }\n",
              "\n",
              "    .colab-df-convert {\n",
              "      background-color: #E8F0FE;\n",
              "      border: none;\n",
              "      border-radius: 50%;\n",
              "      cursor: pointer;\n",
              "      display: none;\n",
              "      fill: #1967D2;\n",
              "      height: 32px;\n",
              "      padding: 0 0 0 0;\n",
              "      width: 32px;\n",
              "    }\n",
              "\n",
              "    .colab-df-convert:hover {\n",
              "      background-color: #E2EBFA;\n",
              "      box-shadow: 0px 1px 2px rgba(60, 64, 67, 0.3), 0px 1px 3px 1px rgba(60, 64, 67, 0.15);\n",
              "      fill: #174EA6;\n",
              "    }\n",
              "\n",
              "    [theme=dark] .colab-df-convert {\n",
              "      background-color: #3B4455;\n",
              "      fill: #D2E3FC;\n",
              "    }\n",
              "\n",
              "    [theme=dark] .colab-df-convert:hover {\n",
              "      background-color: #434B5C;\n",
              "      box-shadow: 0px 1px 3px 1px rgba(0, 0, 0, 0.15);\n",
              "      filter: drop-shadow(0px 1px 2px rgba(0, 0, 0, 0.3));\n",
              "      fill: #FFFFFF;\n",
              "    }\n",
              "  </style>\n",
              "\n",
              "      <script>\n",
              "        const buttonEl =\n",
              "          document.querySelector('#df-8af8b64f-9030-4538-975c-84e21b1bca94 button.colab-df-convert');\n",
              "        buttonEl.style.display =\n",
              "          google.colab.kernel.accessAllowed ? 'block' : 'none';\n",
              "\n",
              "        async function convertToInteractive(key) {\n",
              "          const element = document.querySelector('#df-8af8b64f-9030-4538-975c-84e21b1bca94');\n",
              "          const dataTable =\n",
              "            await google.colab.kernel.invokeFunction('convertToInteractive',\n",
              "                                                     [key], {});\n",
              "          if (!dataTable) return;\n",
              "\n",
              "          const docLinkHtml = 'Like what you see? Visit the ' +\n",
              "            '<a target=\"_blank\" href=https://colab.research.google.com/notebooks/data_table.ipynb>data table notebook</a>'\n",
              "            + ' to learn more about interactive tables.';\n",
              "          element.innerHTML = '';\n",
              "          dataTable['output_type'] = 'display_data';\n",
              "          await google.colab.output.renderOutput(dataTable, element);\n",
              "          const docLink = document.createElement('div');\n",
              "          docLink.innerHTML = docLinkHtml;\n",
              "          element.appendChild(docLink);\n",
              "        }\n",
              "      </script>\n",
              "    </div>\n",
              "  </div>\n",
              "  "
            ]
          },
          "metadata": {},
          "execution_count": 107
        }
      ]
    },
    {
      "cell_type": "code",
      "source": [
        "data.dtypes"
      ],
      "metadata": {
        "colab": {
          "base_uri": "https://localhost:8080/"
        },
        "id": "CB0KfW0oaGku",
        "outputId": "9bf44aac-043f-4233-e8f5-32a3c1c746fb"
      },
      "id": "CB0KfW0oaGku",
      "execution_count": null,
      "outputs": [
        {
          "output_type": "execute_result",
          "data": {
            "text/plain": [
              "Artist              object\n",
              "Artist Followers    object\n",
              "Genre               object\n",
              "Release Date        object\n",
              "Popularity          object\n",
              "Danceability        object\n",
              "Energy              object\n",
              "Loudness            object\n",
              "Speechiness         object\n",
              "Acousticness        object\n",
              "Liveness            object\n",
              "Tempo               object\n",
              "Duration (ms)       object\n",
              "Valence             object\n",
              "Chord               object\n",
              "dtype: object"
            ]
          },
          "metadata": {},
          "execution_count": 108
        }
      ]
    },
    {
      "cell_type": "markdown",
      "source": [
        "convert object to numeric"
      ],
      "metadata": {
        "id": "vVVTxRHUcFFt"
      },
      "id": "vVVTxRHUcFFt"
    },
    {
      "cell_type": "code",
      "execution_count": null,
      "id": "91a96525",
      "metadata": {
        "id": "91a96525"
      },
      "outputs": [],
      "source": [
        "data['Artist Followers']=pd.to_numeric(data['Artist Followers'],errors='coerce')\n",
        "data['Popularity']=pd.to_numeric(data['Popularity'],errors='coerce')\n",
        "data['Danceability']=pd.to_numeric(data['Danceability'],errors='coerce')\n",
        "data['Energy']=pd.to_numeric(data['Energy'],errors='coerce')\n",
        "data['Loudness']=pd.to_numeric(data['Loudness'],errors='coerce')\n",
        "data['Speechiness']=pd.to_numeric(data['Speechiness'],errors='coerce')\n",
        "data['Acousticness']=pd.to_numeric(data['Acousticness'],errors='coerce')\n",
        "data['Liveness']=pd.to_numeric(data['Liveness'],errors='coerce')\n",
        "data['Tempo']=pd.to_numeric(data['Tempo'],errors='coerce')\n",
        "data['Duration (ms)']=pd.to_numeric(data['Duration (ms)'],errors='coerce')\n",
        "data['Valence']=pd.to_numeric(data['Valence'],errors='coerce')"
      ]
    },
    {
      "cell_type": "code",
      "source": [
        "data.dtypes"
      ],
      "metadata": {
        "colab": {
          "base_uri": "https://localhost:8080/"
        },
        "id": "0tDlKrdtfW7N",
        "outputId": "fa21066d-0b9a-46e0-eff5-9eee7848717b"
      },
      "id": "0tDlKrdtfW7N",
      "execution_count": null,
      "outputs": [
        {
          "output_type": "execute_result",
          "data": {
            "text/plain": [
              "Artist               object\n",
              "Artist Followers    float64\n",
              "Genre                object\n",
              "Release Date         object\n",
              "Popularity          float64\n",
              "Danceability        float64\n",
              "Energy              float64\n",
              "Loudness            float64\n",
              "Speechiness         float64\n",
              "Acousticness        float64\n",
              "Liveness            float64\n",
              "Tempo               float64\n",
              "Duration (ms)       float64\n",
              "Valence             float64\n",
              "Chord                object\n",
              "dtype: object"
            ]
          },
          "metadata": {},
          "execution_count": 110
        }
      ]
    },
    {
      "cell_type": "code",
      "source": [
        "data.isnull().sum()"
      ],
      "metadata": {
        "colab": {
          "base_uri": "https://localhost:8080/"
        },
        "id": "f8ViODlRZ4me",
        "outputId": "932656da-f048-4a01-fe7e-778cefa813f9"
      },
      "id": "f8ViODlRZ4me",
      "execution_count": null,
      "outputs": [
        {
          "output_type": "execute_result",
          "data": {
            "text/plain": [
              "Artist               0\n",
              "Artist Followers    11\n",
              "Genre                0\n",
              "Release Date         0\n",
              "Popularity          11\n",
              "Danceability        11\n",
              "Energy              11\n",
              "Loudness            11\n",
              "Speechiness         11\n",
              "Acousticness        11\n",
              "Liveness            11\n",
              "Tempo               11\n",
              "Duration (ms)       11\n",
              "Valence             11\n",
              "Chord                0\n",
              "dtype: int64"
            ]
          },
          "metadata": {},
          "execution_count": 111
        }
      ]
    },
    {
      "cell_type": "markdown",
      "source": [
        "Drop the null value"
      ],
      "metadata": {
        "id": "Q_D7GOa_mQz8"
      },
      "id": "Q_D7GOa_mQz8"
    },
    {
      "cell_type": "code",
      "source": [
        "data=data.dropna()\n",
        "data.isnull().sum()"
      ],
      "metadata": {
        "colab": {
          "base_uri": "https://localhost:8080/"
        },
        "id": "uNRr8iu9ajY1",
        "outputId": "467eb677-b182-400c-9c9c-956bab86ce65"
      },
      "id": "uNRr8iu9ajY1",
      "execution_count": null,
      "outputs": [
        {
          "output_type": "execute_result",
          "data": {
            "text/plain": [
              "Artist              0\n",
              "Artist Followers    0\n",
              "Genre               0\n",
              "Release Date        0\n",
              "Popularity          0\n",
              "Danceability        0\n",
              "Energy              0\n",
              "Loudness            0\n",
              "Speechiness         0\n",
              "Acousticness        0\n",
              "Liveness            0\n",
              "Tempo               0\n",
              "Duration (ms)       0\n",
              "Valence             0\n",
              "Chord               0\n",
              "dtype: int64"
            ]
          },
          "metadata": {},
          "execution_count": 112
        }
      ]
    },
    {
      "cell_type": "markdown",
      "source": [
        "extracting month from datae"
      ],
      "metadata": {
        "id": "ErOfpbfucPhO"
      },
      "id": "ErOfpbfucPhO"
    },
    {
      "cell_type": "code",
      "source": [
        "data['Release Date']=pd.to_datetime(data['Release Date'],infer_datetime_format=True,errors='coerce')\n",
        "data['month']=data['Release Date'].dt.month\n",
        "\n",
        "data=data.drop('Release Date',axis=1)\n",
        "data.head(2)"
      ],
      "metadata": {
        "colab": {
          "base_uri": "https://localhost:8080/",
          "height": 226
        },
        "id": "7dUqAkOMb0uR",
        "outputId": "82e0fe9c-9a32-4fe7-b08f-8ea4c651f264"
      },
      "id": "7dUqAkOMb0uR",
      "execution_count": null,
      "outputs": [
        {
          "output_type": "execute_result",
          "data": {
            "text/plain": [
              "          Artist  Artist Followers                                   Genre  \\\n",
              "0       Måneskin         3377762.0  ['indie rock italiano', 'italian pop']   \n",
              "1  The Kid LAROI         2230022.0                  ['australian hip hop']   \n",
              "\n",
              "   Popularity  Danceability  Energy  Loudness  Speechiness  Acousticness  \\\n",
              "0       100.0         0.714   0.800    -4.808       0.0504        0.1270   \n",
              "1        99.0         0.591   0.764    -5.484       0.0483        0.0383   \n",
              "\n",
              "   Liveness    Tempo  Duration (ms)  Valence  Chord  month  \n",
              "0     0.359  134.002       211560.0    0.589      B     12  \n",
              "1     0.103  169.928       141806.0    0.478  C#/Db      7  "
            ],
            "text/html": [
              "\n",
              "  <div id=\"df-bb8817e5-2924-425a-9127-75f4b01e956d\">\n",
              "    <div class=\"colab-df-container\">\n",
              "      <div>\n",
              "<style scoped>\n",
              "    .dataframe tbody tr th:only-of-type {\n",
              "        vertical-align: middle;\n",
              "    }\n",
              "\n",
              "    .dataframe tbody tr th {\n",
              "        vertical-align: top;\n",
              "    }\n",
              "\n",
              "    .dataframe thead th {\n",
              "        text-align: right;\n",
              "    }\n",
              "</style>\n",
              "<table border=\"1\" class=\"dataframe\">\n",
              "  <thead>\n",
              "    <tr style=\"text-align: right;\">\n",
              "      <th></th>\n",
              "      <th>Artist</th>\n",
              "      <th>Artist Followers</th>\n",
              "      <th>Genre</th>\n",
              "      <th>Popularity</th>\n",
              "      <th>Danceability</th>\n",
              "      <th>Energy</th>\n",
              "      <th>Loudness</th>\n",
              "      <th>Speechiness</th>\n",
              "      <th>Acousticness</th>\n",
              "      <th>Liveness</th>\n",
              "      <th>Tempo</th>\n",
              "      <th>Duration (ms)</th>\n",
              "      <th>Valence</th>\n",
              "      <th>Chord</th>\n",
              "      <th>month</th>\n",
              "    </tr>\n",
              "  </thead>\n",
              "  <tbody>\n",
              "    <tr>\n",
              "      <th>0</th>\n",
              "      <td>Måneskin</td>\n",
              "      <td>3377762.0</td>\n",
              "      <td>['indie rock italiano', 'italian pop']</td>\n",
              "      <td>100.0</td>\n",
              "      <td>0.714</td>\n",
              "      <td>0.800</td>\n",
              "      <td>-4.808</td>\n",
              "      <td>0.0504</td>\n",
              "      <td>0.1270</td>\n",
              "      <td>0.359</td>\n",
              "      <td>134.002</td>\n",
              "      <td>211560.0</td>\n",
              "      <td>0.589</td>\n",
              "      <td>B</td>\n",
              "      <td>12</td>\n",
              "    </tr>\n",
              "    <tr>\n",
              "      <th>1</th>\n",
              "      <td>The Kid LAROI</td>\n",
              "      <td>2230022.0</td>\n",
              "      <td>['australian hip hop']</td>\n",
              "      <td>99.0</td>\n",
              "      <td>0.591</td>\n",
              "      <td>0.764</td>\n",
              "      <td>-5.484</td>\n",
              "      <td>0.0483</td>\n",
              "      <td>0.0383</td>\n",
              "      <td>0.103</td>\n",
              "      <td>169.928</td>\n",
              "      <td>141806.0</td>\n",
              "      <td>0.478</td>\n",
              "      <td>C#/Db</td>\n",
              "      <td>7</td>\n",
              "    </tr>\n",
              "  </tbody>\n",
              "</table>\n",
              "</div>\n",
              "      <button class=\"colab-df-convert\" onclick=\"convertToInteractive('df-bb8817e5-2924-425a-9127-75f4b01e956d')\"\n",
              "              title=\"Convert this dataframe to an interactive table.\"\n",
              "              style=\"display:none;\">\n",
              "        \n",
              "  <svg xmlns=\"http://www.w3.org/2000/svg\" height=\"24px\"viewBox=\"0 0 24 24\"\n",
              "       width=\"24px\">\n",
              "    <path d=\"M0 0h24v24H0V0z\" fill=\"none\"/>\n",
              "    <path d=\"M18.56 5.44l.94 2.06.94-2.06 2.06-.94-2.06-.94-.94-2.06-.94 2.06-2.06.94zm-11 1L8.5 8.5l.94-2.06 2.06-.94-2.06-.94L8.5 2.5l-.94 2.06-2.06.94zm10 10l.94 2.06.94-2.06 2.06-.94-2.06-.94-.94-2.06-.94 2.06-2.06.94z\"/><path d=\"M17.41 7.96l-1.37-1.37c-.4-.4-.92-.59-1.43-.59-.52 0-1.04.2-1.43.59L10.3 9.45l-7.72 7.72c-.78.78-.78 2.05 0 2.83L4 21.41c.39.39.9.59 1.41.59.51 0 1.02-.2 1.41-.59l7.78-7.78 2.81-2.81c.8-.78.8-2.07 0-2.86zM5.41 20L4 18.59l7.72-7.72 1.47 1.35L5.41 20z\"/>\n",
              "  </svg>\n",
              "      </button>\n",
              "      \n",
              "  <style>\n",
              "    .colab-df-container {\n",
              "      display:flex;\n",
              "      flex-wrap:wrap;\n",
              "      gap: 12px;\n",
              "    }\n",
              "\n",
              "    .colab-df-convert {\n",
              "      background-color: #E8F0FE;\n",
              "      border: none;\n",
              "      border-radius: 50%;\n",
              "      cursor: pointer;\n",
              "      display: none;\n",
              "      fill: #1967D2;\n",
              "      height: 32px;\n",
              "      padding: 0 0 0 0;\n",
              "      width: 32px;\n",
              "    }\n",
              "\n",
              "    .colab-df-convert:hover {\n",
              "      background-color: #E2EBFA;\n",
              "      box-shadow: 0px 1px 2px rgba(60, 64, 67, 0.3), 0px 1px 3px 1px rgba(60, 64, 67, 0.15);\n",
              "      fill: #174EA6;\n",
              "    }\n",
              "\n",
              "    [theme=dark] .colab-df-convert {\n",
              "      background-color: #3B4455;\n",
              "      fill: #D2E3FC;\n",
              "    }\n",
              "\n",
              "    [theme=dark] .colab-df-convert:hover {\n",
              "      background-color: #434B5C;\n",
              "      box-shadow: 0px 1px 3px 1px rgba(0, 0, 0, 0.15);\n",
              "      filter: drop-shadow(0px 1px 2px rgba(0, 0, 0, 0.3));\n",
              "      fill: #FFFFFF;\n",
              "    }\n",
              "  </style>\n",
              "\n",
              "      <script>\n",
              "        const buttonEl =\n",
              "          document.querySelector('#df-bb8817e5-2924-425a-9127-75f4b01e956d button.colab-df-convert');\n",
              "        buttonEl.style.display =\n",
              "          google.colab.kernel.accessAllowed ? 'block' : 'none';\n",
              "\n",
              "        async function convertToInteractive(key) {\n",
              "          const element = document.querySelector('#df-bb8817e5-2924-425a-9127-75f4b01e956d');\n",
              "          const dataTable =\n",
              "            await google.colab.kernel.invokeFunction('convertToInteractive',\n",
              "                                                     [key], {});\n",
              "          if (!dataTable) return;\n",
              "\n",
              "          const docLinkHtml = 'Like what you see? Visit the ' +\n",
              "            '<a target=\"_blank\" href=https://colab.research.google.com/notebooks/data_table.ipynb>data table notebook</a>'\n",
              "            + ' to learn more about interactive tables.';\n",
              "          element.innerHTML = '';\n",
              "          dataTable['output_type'] = 'display_data';\n",
              "          await google.colab.output.renderOutput(dataTable, element);\n",
              "          const docLink = document.createElement('div');\n",
              "          docLink.innerHTML = docLinkHtml;\n",
              "          element.appendChild(docLink);\n",
              "        }\n",
              "      </script>\n",
              "    </div>\n",
              "  </div>\n",
              "  "
            ]
          },
          "metadata": {},
          "execution_count": 113
        }
      ]
    },
    {
      "cell_type": "markdown",
      "source": [
        "Label encoding"
      ],
      "metadata": {
        "id": "dYsR6f7lmcNI"
      },
      "id": "dYsR6f7lmcNI"
    },
    {
      "cell_type": "code",
      "source": [
        "le_Artist =LabelEncoder()\n",
        "le_Genre =LabelEncoder()\n",
        "le_Chord =LabelEncoder()\n",
        "\n",
        "    \n",
        "data['Artist'] =le_Artist.fit_transform(data['Artist'])\n",
        "data['Genre'] =le_Genre.fit_transform(data['Genre'])  \n",
        "data['Chord'] =le_Chord.fit_transform(data['Chord'])\n",
        "\n",
        "data.head(2)"
      ],
      "metadata": {
        "colab": {
          "base_uri": "https://localhost:8080/",
          "height": 156
        },
        "id": "xN4SNNFAa71s",
        "outputId": "c7e1dbb1-1012-4efb-d3f6-e0a3bcc46887"
      },
      "id": "xN4SNNFAa71s",
      "execution_count": null,
      "outputs": [
        {
          "output_type": "execute_result",
          "data": {
            "text/plain": [
              "   Artist  Artist Followers  Genre  Popularity  Danceability  Energy  \\\n",
              "0     469         3377762.0    276       100.0         0.714   0.800   \n",
              "1     643         2230022.0     63        99.0         0.591   0.764   \n",
              "\n",
              "   Loudness  Speechiness  Acousticness  Liveness    Tempo  Duration (ms)  \\\n",
              "0    -4.808       0.0504        0.1270     0.359  134.002       211560.0   \n",
              "1    -5.484       0.0483        0.0383     0.103  169.928       141806.0   \n",
              "\n",
              "   Valence  Chord  month  \n",
              "0    0.589      2     12  \n",
              "1    0.478      4      7  "
            ],
            "text/html": [
              "\n",
              "  <div id=\"df-fa462d88-9404-43c4-9b63-a6fa5ab3fb56\">\n",
              "    <div class=\"colab-df-container\">\n",
              "      <div>\n",
              "<style scoped>\n",
              "    .dataframe tbody tr th:only-of-type {\n",
              "        vertical-align: middle;\n",
              "    }\n",
              "\n",
              "    .dataframe tbody tr th {\n",
              "        vertical-align: top;\n",
              "    }\n",
              "\n",
              "    .dataframe thead th {\n",
              "        text-align: right;\n",
              "    }\n",
              "</style>\n",
              "<table border=\"1\" class=\"dataframe\">\n",
              "  <thead>\n",
              "    <tr style=\"text-align: right;\">\n",
              "      <th></th>\n",
              "      <th>Artist</th>\n",
              "      <th>Artist Followers</th>\n",
              "      <th>Genre</th>\n",
              "      <th>Popularity</th>\n",
              "      <th>Danceability</th>\n",
              "      <th>Energy</th>\n",
              "      <th>Loudness</th>\n",
              "      <th>Speechiness</th>\n",
              "      <th>Acousticness</th>\n",
              "      <th>Liveness</th>\n",
              "      <th>Tempo</th>\n",
              "      <th>Duration (ms)</th>\n",
              "      <th>Valence</th>\n",
              "      <th>Chord</th>\n",
              "      <th>month</th>\n",
              "    </tr>\n",
              "  </thead>\n",
              "  <tbody>\n",
              "    <tr>\n",
              "      <th>0</th>\n",
              "      <td>469</td>\n",
              "      <td>3377762.0</td>\n",
              "      <td>276</td>\n",
              "      <td>100.0</td>\n",
              "      <td>0.714</td>\n",
              "      <td>0.800</td>\n",
              "      <td>-4.808</td>\n",
              "      <td>0.0504</td>\n",
              "      <td>0.1270</td>\n",
              "      <td>0.359</td>\n",
              "      <td>134.002</td>\n",
              "      <td>211560.0</td>\n",
              "      <td>0.589</td>\n",
              "      <td>2</td>\n",
              "      <td>12</td>\n",
              "    </tr>\n",
              "    <tr>\n",
              "      <th>1</th>\n",
              "      <td>643</td>\n",
              "      <td>2230022.0</td>\n",
              "      <td>63</td>\n",
              "      <td>99.0</td>\n",
              "      <td>0.591</td>\n",
              "      <td>0.764</td>\n",
              "      <td>-5.484</td>\n",
              "      <td>0.0483</td>\n",
              "      <td>0.0383</td>\n",
              "      <td>0.103</td>\n",
              "      <td>169.928</td>\n",
              "      <td>141806.0</td>\n",
              "      <td>0.478</td>\n",
              "      <td>4</td>\n",
              "      <td>7</td>\n",
              "    </tr>\n",
              "  </tbody>\n",
              "</table>\n",
              "</div>\n",
              "      <button class=\"colab-df-convert\" onclick=\"convertToInteractive('df-fa462d88-9404-43c4-9b63-a6fa5ab3fb56')\"\n",
              "              title=\"Convert this dataframe to an interactive table.\"\n",
              "              style=\"display:none;\">\n",
              "        \n",
              "  <svg xmlns=\"http://www.w3.org/2000/svg\" height=\"24px\"viewBox=\"0 0 24 24\"\n",
              "       width=\"24px\">\n",
              "    <path d=\"M0 0h24v24H0V0z\" fill=\"none\"/>\n",
              "    <path d=\"M18.56 5.44l.94 2.06.94-2.06 2.06-.94-2.06-.94-.94-2.06-.94 2.06-2.06.94zm-11 1L8.5 8.5l.94-2.06 2.06-.94-2.06-.94L8.5 2.5l-.94 2.06-2.06.94zm10 10l.94 2.06.94-2.06 2.06-.94-2.06-.94-.94-2.06-.94 2.06-2.06.94z\"/><path d=\"M17.41 7.96l-1.37-1.37c-.4-.4-.92-.59-1.43-.59-.52 0-1.04.2-1.43.59L10.3 9.45l-7.72 7.72c-.78.78-.78 2.05 0 2.83L4 21.41c.39.39.9.59 1.41.59.51 0 1.02-.2 1.41-.59l7.78-7.78 2.81-2.81c.8-.78.8-2.07 0-2.86zM5.41 20L4 18.59l7.72-7.72 1.47 1.35L5.41 20z\"/>\n",
              "  </svg>\n",
              "      </button>\n",
              "      \n",
              "  <style>\n",
              "    .colab-df-container {\n",
              "      display:flex;\n",
              "      flex-wrap:wrap;\n",
              "      gap: 12px;\n",
              "    }\n",
              "\n",
              "    .colab-df-convert {\n",
              "      background-color: #E8F0FE;\n",
              "      border: none;\n",
              "      border-radius: 50%;\n",
              "      cursor: pointer;\n",
              "      display: none;\n",
              "      fill: #1967D2;\n",
              "      height: 32px;\n",
              "      padding: 0 0 0 0;\n",
              "      width: 32px;\n",
              "    }\n",
              "\n",
              "    .colab-df-convert:hover {\n",
              "      background-color: #E2EBFA;\n",
              "      box-shadow: 0px 1px 2px rgba(60, 64, 67, 0.3), 0px 1px 3px 1px rgba(60, 64, 67, 0.15);\n",
              "      fill: #174EA6;\n",
              "    }\n",
              "\n",
              "    [theme=dark] .colab-df-convert {\n",
              "      background-color: #3B4455;\n",
              "      fill: #D2E3FC;\n",
              "    }\n",
              "\n",
              "    [theme=dark] .colab-df-convert:hover {\n",
              "      background-color: #434B5C;\n",
              "      box-shadow: 0px 1px 3px 1px rgba(0, 0, 0, 0.15);\n",
              "      filter: drop-shadow(0px 1px 2px rgba(0, 0, 0, 0.3));\n",
              "      fill: #FFFFFF;\n",
              "    }\n",
              "  </style>\n",
              "\n",
              "      <script>\n",
              "        const buttonEl =\n",
              "          document.querySelector('#df-fa462d88-9404-43c4-9b63-a6fa5ab3fb56 button.colab-df-convert');\n",
              "        buttonEl.style.display =\n",
              "          google.colab.kernel.accessAllowed ? 'block' : 'none';\n",
              "\n",
              "        async function convertToInteractive(key) {\n",
              "          const element = document.querySelector('#df-fa462d88-9404-43c4-9b63-a6fa5ab3fb56');\n",
              "          const dataTable =\n",
              "            await google.colab.kernel.invokeFunction('convertToInteractive',\n",
              "                                                     [key], {});\n",
              "          if (!dataTable) return;\n",
              "\n",
              "          const docLinkHtml = 'Like what you see? Visit the ' +\n",
              "            '<a target=\"_blank\" href=https://colab.research.google.com/notebooks/data_table.ipynb>data table notebook</a>'\n",
              "            + ' to learn more about interactive tables.';\n",
              "          element.innerHTML = '';\n",
              "          dataTable['output_type'] = 'display_data';\n",
              "          await google.colab.output.renderOutput(dataTable, element);\n",
              "          const docLink = document.createElement('div');\n",
              "          docLink.innerHTML = docLinkHtml;\n",
              "          element.appendChild(docLink);\n",
              "        }\n",
              "      </script>\n",
              "    </div>\n",
              "  </div>\n",
              "  "
            ]
          },
          "metadata": {},
          "execution_count": 114
        }
      ]
    },
    {
      "cell_type": "code",
      "source": [
        "data.shape"
      ],
      "metadata": {
        "colab": {
          "base_uri": "https://localhost:8080/"
        },
        "id": "TR1FgNXpbJBF",
        "outputId": "558e73af-bcfc-48df-d6ff-5d0d0a1ed878"
      },
      "id": "TR1FgNXpbJBF",
      "execution_count": null,
      "outputs": [
        {
          "output_type": "execute_result",
          "data": {
            "text/plain": [
              "(1545, 15)"
            ]
          },
          "metadata": {},
          "execution_count": 115
        }
      ]
    },
    {
      "cell_type": "markdown",
      "source": [
        "**X, Y split**"
      ],
      "metadata": {
        "id": "WiNX7FZjzxSb"
      },
      "id": "WiNX7FZjzxSb"
    },
    {
      "cell_type": "code",
      "execution_count": null,
      "id": "f6482ae7",
      "metadata": {
        "id": "f6482ae7"
      },
      "outputs": [],
      "source": [
        "x=data.drop('Popularity',axis=1)\n",
        "y=data['Popularity']"
      ]
    },
    {
      "cell_type": "markdown",
      "source": [
        "**Scaling** "
      ],
      "metadata": {
        "id": "XZKcuLx1QvXo"
      },
      "id": "XZKcuLx1QvXo"
    },
    {
      "cell_type": "code",
      "source": [
        "scaler =MinMaxScaler()\n",
        "x=scaler.fit_transform(x)"
      ],
      "metadata": {
        "id": "q3223KLd2Ldp"
      },
      "id": "q3223KLd2Ldp",
      "execution_count": null,
      "outputs": []
    },
    {
      "cell_type": "markdown",
      "source": [
        "**visualization**"
      ],
      "metadata": {
        "id": "YNL8S9WgmsOP"
      },
      "id": "YNL8S9WgmsOP"
    },
    {
      "cell_type": "code",
      "source": [
        "sort=data.sort_values(by=['Loudness'],ascending=False)\n",
        "plt.figure(figsize=[10,8])\n",
        "plt.title('Top in Loudness')\n",
        "sns.barplot(x='Popularity',y='Loudness',data=sort.head(10))"
      ],
      "metadata": {
        "colab": {
          "base_uri": "https://localhost:8080/",
          "height": 530
        },
        "id": "rf-hxmcmbJDl",
        "outputId": "3ddfc500-6eb0-48d1-dcdf-d2888f3ab517"
      },
      "id": "rf-hxmcmbJDl",
      "execution_count": null,
      "outputs": [
        {
          "output_type": "execute_result",
          "data": {
            "text/plain": [
              "<Axes: title={'center': 'Top in Loudness'}, xlabel='Popularity', ylabel='Loudness'>"
            ]
          },
          "metadata": {},
          "execution_count": 118
        },
        {
          "output_type": "display_data",
          "data": {
            "text/plain": [
              "<Figure size 720x576 with 1 Axes>"
            ],
            "image/png": "[encoded data removed]"
          },
          "metadata": {
            "needs_background": "light"
          }
        }
      ]
    },
    {
      "cell_type": "code",
      "source": [
        "plt.xlabel('Artist')\n",
        "plt.ylabel('Popularity')\n",
        "plt.scatter(data['Duration (ms)'],data['Popularity'])"
      ],
      "metadata": {
        "colab": {
          "base_uri": "https://localhost:8080/",
          "height": 296
        },
        "id": "7YaI8EnFbPU1",
        "outputId": "4d212ae1-8386-4668-f32e-cd0d42f494a5"
      },
      "id": "7YaI8EnFbPU1",
      "execution_count": null,
      "outputs": [
        {
          "output_type": "execute_result",
          "data": {
            "text/plain": [
              "<matplotlib.collections.PathCollection at 0x7efdfd612b20>"
            ]
          },
          "metadata": {},
          "execution_count": 119
        },
        {
          "output_type": "display_data",
          "data": {
            "text/plain": [
              "<Figure size 432x288 with 1 Axes>"
            ],
            "image/png": "[encoded data removed]"
          },
          "metadata": {
            "needs_background": "light"
          }
        }
      ]
    },
    {
      "cell_type": "markdown",
      "source": [
        "**Correlation**"
      ],
      "metadata": {
        "id": "9x4vbPgln0yL"
      },
      "id": "9x4vbPgln0yL"
    },
    {
      "cell_type": "code",
      "source": [
        "c=data.corr()\n",
        "plt.figure(figsize=[12,12])\n",
        "sns.heatmap(c,annot=True)"
      ],
      "metadata": {
        "colab": {
          "base_uri": "https://localhost:8080/",
          "height": 788
        },
        "id": "RoISutsPbPW0",
        "outputId": "9c858dc2-6143-4e77-f9ab-76b39d86551d"
      },
      "id": "RoISutsPbPW0",
      "execution_count": null,
      "outputs": [
        {
          "output_type": "execute_result",
          "data": {
            "text/plain": [
              "<Axes: >"
            ]
          },
          "metadata": {},
          "execution_count": 120
        },
        {
          "output_type": "display_data",
          "data": {
            "text/plain": [
              "<Figure size 864x864 with 2 Axes>"
            ],
            "image/png": "[encoded data removed]"
          },
          "metadata": {
            "needs_background": "light"
          }
        }
      ]
    },
    {
      "cell_type": "code",
      "execution_count": null,
      "id": "8908c2fb",
      "metadata": {
        "colab": {
          "base_uri": "https://localhost:8080/"
        },
        "id": "8908c2fb",
        "outputId": "3ce02a43-b242-4bbc-c3ae-7e0379a8c41d"
      },
      "outputs": [
        {
          "output_type": "stream",
          "name": "stdout",
          "text": [
            "0.03732347786491109\n",
            "0.1043577212316507\n",
            "-0.1075888717018958\n",
            "0.02843469181752918\n",
            "**************\n",
            "0.09469051758444463\n",
            "0.15876746803181324\n",
            "-0.03209063359152795\n",
            "-0.09124461072497646\n",
            "**************\n",
            "-0.029459634726915384\n",
            "-0.02495087653404513\n",
            "0.08209572542261853\n",
            "-0.0009533924114401778\n",
            "**************\n",
            "0.045787615126558615\n",
            "-0.06380392190329007\n"
          ]
        }
      ],
      "source": [
        "print(data['Artist'].corr(data['Popularity']))\n",
        "print(data['Artist Followers'].corr(data['Popularity']))\n",
        "print(data['Genre'].corr(data['Popularity']))\n",
        "print(data['Danceability'].corr(data['Popularity']))\n",
        "\n",
        "print('**************')\n",
        "print(data['Energy'].corr(data['Popularity']))\n",
        "print(data['Loudness'].corr(data['Popularity']))\n",
        "print(data['Speechiness'].corr(data['Popularity']))\n",
        "print(data['Acousticness'].corr(data['Popularity']))\n",
        "\n",
        "print('**************')\n",
        "print(data['Liveness'].corr(data['Popularity']))\n",
        "print(data['Tempo'].corr(data['Popularity']))\n",
        "print(data['Duration (ms)'].corr(data['Popularity']))\n",
        "print(data['Valence'].corr(data['Popularity']))\n",
        "\n",
        "print('**************')\n",
        "print(data['Chord'].corr(data['Popularity']))\n",
        "print(data['month'].corr(data['Popularity']))\n",
        "\n"
      ]
    },
    {
      "cell_type": "markdown",
      "source": [
        "**feature selection based on correlation**"
      ],
      "metadata": {
        "id": "ihY5MOsdSTw4"
      },
      "id": "ihY5MOsdSTw4"
    },
    {
      "cell_type": "markdown",
      "source": [
        "0.00"
      ],
      "metadata": {
        "id": "GU_qmMLCSvvS"
      },
      "id": "GU_qmMLCSvvS"
    },
    {
      "cell_type": "code",
      "source": [
        "data=data.drop(['Valence'],axis=1)"
      ],
      "metadata": {
        "id": "W6rmJxemoHuy"
      },
      "id": "W6rmJxemoHuy",
      "execution_count": null,
      "outputs": []
    },
    {
      "cell_type": "markdown",
      "source": [
        "< 0.04"
      ],
      "metadata": {
        "id": "Po0p0BA1SlHR"
      },
      "id": "Po0p0BA1SlHR"
    },
    {
      "cell_type": "code",
      "source": [
        "data=data.drop(['Artist','Danceability','Speechiness','Liveness','Tempo'],axis=1)"
      ],
      "metadata": {
        "id": "JC2LsYxtSys5"
      },
      "id": "JC2LsYxtSys5",
      "execution_count": null,
      "outputs": []
    },
    {
      "cell_type": "markdown",
      "source": [
        "< 0.5"
      ],
      "metadata": {
        "id": "TnerLU-WS1Zt"
      },
      "id": "TnerLU-WS1Zt"
    },
    {
      "cell_type": "code",
      "source": [
        "data=data.drop(['Chord'],axis=1)"
      ],
      "metadata": {
        "id": "AjK9KbP7oHzK"
      },
      "id": "AjK9KbP7oHzK",
      "execution_count": null,
      "outputs": []
    },
    {
      "cell_type": "code",
      "execution_count": null,
      "id": "71ace7fb",
      "metadata": {
        "id": "71ace7fb"
      },
      "outputs": [],
      "source": [
        "# data.drop(['month'],axis=1)\n",
        "#data.head(2)"
      ]
    },
    {
      "cell_type": "markdown",
      "source": [
        "**Hyperparameter turning**"
      ],
      "metadata": {
        "id": "sMcMhd3no9Ez"
      },
      "id": "sMcMhd3no9Ez"
    },
    {
      "cell_type": "code",
      "source": [
        "model_params={'AdaBoostRegressor':{'model':AdaBoostRegressor(),'params':{}},\n",
        "              'GradientBoostingRegressor':{'model':GradientBoostingRegressor(),'params':{}},\n",
        "              'XGBRFRegressor':{'model':XGBRFRegressor(),'params':{}}}"
      ],
      "metadata": {
        "id": "PwtWhqA2oz_L"
      },
      "id": "PwtWhqA2oz_L",
      "execution_count": null,
      "outputs": []
    },
    {
      "cell_type": "code",
      "source": [
        "scores = []\n",
        "models = ['AdaBoostRegressor','GradientBoostingRegressor','XGBRFRegressor']\n",
        "for model_name in models:\n",
        "    mp=model_params[model_name]\n",
        "    gds=GridSearchCV(mp['model'],mp['params'],cv=5,return_train_score=True)\n",
        "    gds.fit(x,y)\n",
        "    scores.append({'model':model_name, 'best_score':gds.best_score_ , 'best_params':gds.best_params_})"
      ],
      "metadata": {
        "id": "TvykXJ6zo0BV"
      },
      "id": "TvykXJ6zo0BV",
      "execution_count": null,
      "outputs": []
    },
    {
      "cell_type": "code",
      "source": [
        "scores"
      ],
      "metadata": {
        "colab": {
          "base_uri": "https://localhost:8080/"
        },
        "id": "bYjA5zW8o0G0",
        "outputId": "d8ee2e03-f87b-47f9-fba3-5791e07a1b62"
      },
      "id": "bYjA5zW8o0G0",
      "execution_count": null,
      "outputs": [
        {
          "output_type": "execute_result",
          "data": {
            "text/plain": [
              "[{'model': 'AdaBoostRegressor',\n",
              "  'best_score': 0.3220864288351488,\n",
              "  'best_params': {}},\n",
              " {'model': 'GradientBoostingRegressor',\n",
              "  'best_score': 0.320357821755702,\n",
              "  'best_params': {}},\n",
              " {'model': 'XGBRFRegressor',\n",
              "  'best_score': 0.29811794196725805,\n",
              "  'best_params': {}}]"
            ]
          },
          "metadata": {},
          "execution_count": 27
        }
      ]
    },
    {
      "cell_type": "markdown",
      "source": [
        "other models"
      ],
      "metadata": {
        "id": "kmx-ngeyps9r"
      },
      "id": "kmx-ngeyps9r"
    },
    {
      "cell_type": "code",
      "source": [
        "model_params = {'DecisionTreeRegressor':{'model':DecisionTreeRegressor(),'params':{'max_depth':[1,2,3,4,5,6]}},\n",
        "               'RandomForestRegressor':{'model':RandomForestRegressor(),'params':{'n_estimators':[5,10,15,20,22,24,25,30,],'max_depth':[1,2,3,4,5,6,7]}}}\n",
        "                                                                             \n",
        "                                                      \n",
        "        "
      ],
      "metadata": {
        "id": "B5f4D9J6pigD"
      },
      "id": "B5f4D9J6pigD",
      "execution_count": null,
      "outputs": []
    },
    {
      "cell_type": "code",
      "source": [
        "scores = []\n",
        "models = ['DecisionTreeRegressor','RandomForestRegressor']\n",
        "for model_name in models:\n",
        "    mp=model_params[model_name]\n",
        "    gds=GridSearchCV(mp['model'],mp['params'],cv=5,return_train_score=True)\n",
        "    gds.fit(x,y)\n",
        "    scores.append({'model':model_name, 'best_score':gds.best_score_ , 'best_params':gds.best_params_})"
      ],
      "metadata": {
        "id": "HYU73pOtpikZ"
      },
      "id": "HYU73pOtpikZ",
      "execution_count": null,
      "outputs": []
    },
    {
      "cell_type": "code",
      "source": [
        "scores"
      ],
      "metadata": {
        "colab": {
          "base_uri": "https://localhost:8080/"
        },
        "id": "eRGugy_Bpirl",
        "outputId": "4ea9e8fb-037b-4fc2-95c8-6a87809f4c16"
      },
      "id": "eRGugy_Bpirl",
      "execution_count": null,
      "outputs": [
        {
          "output_type": "execute_result",
          "data": {
            "text/plain": [
              "[{'model': 'DecisionTreeRegressor',\n",
              "  'best_score': 0.3104885446848832,\n",
              "  'best_params': {'max_depth': 2}},\n",
              " {'model': 'RandomForestRegressor',\n",
              "  'best_score': 0.3263081710603851,\n",
              "  'best_params': {'max_depth': 3, 'n_estimators': 30}}]"
            ]
          },
          "metadata": {},
          "execution_count": 30
        }
      ]
    },
    {
      "cell_type": "code",
      "source": [],
      "metadata": {
        "id": "CERfwUdwp4ZC"
      },
      "id": "CERfwUdwp4ZC",
      "execution_count": null,
      "outputs": []
    },
    {
      "cell_type": "markdown",
      "source": [
        "Other models"
      ],
      "metadata": {
        "id": "WDyKXaaIzgLF"
      },
      "id": "WDyKXaaIzgLF"
    },
    {
      "cell_type": "code",
      "source": [
        "model_params = {'svm':{'model':SVR(),'params':{'gamma':['auto','scale'],'C':[1,10,20],'kernel':['rbf','linear']}},\n",
        "               'KNeighborsClassifier':{'model':KNeighborsRegressor(),'params':{'n_neighbors':[10,20,30]}},                \n",
        "               'logistic_regression':{'model':LogisticRegression(),'params':{'C':[1,5,10]}}}"
      ],
      "metadata": {
        "id": "mSULSuHMwmBm"
      },
      "id": "mSULSuHMwmBm",
      "execution_count": null,
      "outputs": []
    },
    {
      "cell_type": "code",
      "source": [
        "# scores =[]\n",
        "# models = ['svm','KNeighborsClassifier','logistic_regression']\n",
        "# for model_name in models: #model_name ='svm'\n",
        "#     mp=model_params[model_name]\n",
        "#     gds=GridSearchCV(mp['model'],mp['params'],cv=5,return_train_score=True)\n",
        "#     gds.fit(x, y)\n",
        "#     scores.append({'model':model_name, 'best_score':gds.best_score_ , 'best_params':gds.best_params_})\n",
        "\n"
      ],
      "metadata": {
        "id": "WXp7ZqIy1K66"
      },
      "id": "WXp7ZqIy1K66",
      "execution_count": null,
      "outputs": []
    },
    {
      "cell_type": "code",
      "source": [
        "scores"
      ],
      "metadata": {
        "id": "iBCE92Jt1PBL",
        "colab": {
          "base_uri": "https://localhost:8080/"
        },
        "outputId": "83bed1f8-0ed5-4752-c307-ce4178978980"
      },
      "id": "iBCE92Jt1PBL",
      "execution_count": null,
      "outputs": [
        {
          "output_type": "execute_result",
          "data": {
            "text/plain": [
              "[{'model': 'svm',\n",
              "  'best_score': -0.35963469423953637,\n",
              "  'best_params': {'C': 1, 'gamma': 'auto', 'kernel': 'rbf'}},\n",
              " {'model': 'KNeighborsClassifier',\n",
              "  'best_score': -0.2525062530742296,\n",
              "  'best_params': {'n_neighbors': 20}},\n",
              " {'model': 'logistic_regression',\n",
              "  'best_score': 0.05954692556634304,\n",
              "  'best_params': {'C': 10}}]"
            ]
          },
          "metadata": {},
          "execution_count": 32
        }
      ]
    },
    {
      "cell_type": "markdown",
      "source": [
        "**Train, Test split**"
      ],
      "metadata": {
        "id": "hGW0MrQC0FOp"
      },
      "id": "hGW0MrQC0FOp"
    },
    {
      "cell_type": "code",
      "execution_count": null,
      "id": "7937804d",
      "metadata": {
        "id": "7937804d"
      },
      "outputs": [],
      "source": [
        "from sklearn.model_selection import train_test_split\n",
        "x_train,x_test,y_train,y_test=train_test_split(x,y,test_size=0.25,random_state=33)"
      ]
    },
    {
      "cell_type": "markdown",
      "source": [
        "**model**"
      ],
      "metadata": {
        "id": "JLp_PpPQ0r0c"
      },
      "id": "JLp_PpPQ0r0c"
    },
    {
      "cell_type": "code",
      "source": [
        "RF1=RandomForestRegressor(max_depth= 12, n_estimators= 30)\n",
        "RF1_model=RF1.fit(x_train,y_train)\n",
        "RF1_model.score(x_test,y_test)"
      ],
      "metadata": {
        "colab": {
          "base_uri": "https://localhost:8080/"
        },
        "id": "0TKVpEnhpzek",
        "outputId": "55d776d1-41d2-4e0a-ec0c-f494305380b7"
      },
      "id": "0TKVpEnhpzek",
      "execution_count": null,
      "outputs": [
        {
          "output_type": "execute_result",
          "data": {
            "text/plain": [
              "0.7016754172232716"
            ]
          },
          "metadata": {},
          "execution_count": 135
        }
      ]
    },
    {
      "cell_type": "code",
      "source": [
        "GRDBOOST=GradientBoostingRegressor()\n",
        "GRDBOOST_model=GRDBOOST.fit(x_train,y_train)\n",
        "GRDBOOST_model.score(x_test,y_test)"
      ],
      "metadata": {
        "colab": {
          "base_uri": "https://localhost:8080/"
        },
        "id": "mf06twQ-T4FU",
        "outputId": "c1b93eb9-baa2-42f2-c5b8-3ce84e54b670"
      },
      "id": "mf06twQ-T4FU",
      "execution_count": null,
      "outputs": [
        {
          "output_type": "execute_result",
          "data": {
            "text/plain": [
              "0.6738966298184947"
            ]
          },
          "metadata": {},
          "execution_count": 137
        }
      ]
    },
    {
      "cell_type": "code",
      "execution_count": null,
      "id": "e19e893c",
      "metadata": {
        "id": "e19e893c",
        "colab": {
          "base_uri": "https://localhost:8080/"
        },
        "outputId": "31a37e63-4417-4d35-c8ff-f1dc89ab5418"
      },
      "outputs": [
        {
          "output_type": "execute_result",
          "data": {
            "text/plain": [
              "0.6660900258385788"
            ]
          },
          "metadata": {},
          "execution_count": 138
        }
      ],
      "source": [
        "XGBR=XGBRFRegressor()\n",
        "xgb_model=XGBR.fit(x_train,y_train)\n",
        "xgb_model.score(x_test,y_test)"
      ]
    },
    {
      "cell_type": "code",
      "source": [
        "RF=RandomForestRegressor()\n",
        "RF_model=RF.fit(x_train,y_train)\n",
        "RF_model.score(x_test,y_test)"
      ],
      "metadata": {
        "colab": {
          "base_uri": "https://localhost:8080/"
        },
        "id": "JvThjE-8T4Hr",
        "outputId": "28891f65-3860-46a3-ce4c-9a71ebbe0f8b"
      },
      "id": "JvThjE-8T4Hr",
      "execution_count": null,
      "outputs": [
        {
          "output_type": "execute_result",
          "data": {
            "text/plain": [
              "0.7041110698455917"
            ]
          },
          "metadata": {},
          "execution_count": 136
        }
      ]
    },
    {
      "cell_type": "markdown",
      "source": [
        "**prediction**"
      ],
      "metadata": {
        "id": "-6Uj-p4S0v-w"
      },
      "id": "-6Uj-p4S0v-w"
    },
    {
      "cell_type": "code",
      "execution_count": null,
      "id": "9631dbd6",
      "metadata": {
        "id": "9631dbd6",
        "colab": {
          "base_uri": "https://localhost:8080/"
        },
        "outputId": "69417d42-d39a-470d-b63a-36fc55756aff"
      },
      "outputs": [
        {
          "output_type": "execute_result",
          "data": {
            "text/plain": [
              "array([73.2609121])"
            ]
          },
          "metadata": {},
          "execution_count": 140
        }
      ],
      "source": [
        "RF1_model.predict([x_test[2]])"
      ]
    },
    {
      "cell_type": "code",
      "source": [],
      "metadata": {
        "id": "E1Wlx9InTOXe"
      },
      "id": "E1Wlx9InTOXe",
      "execution_count": null,
      "outputs": []
    },
    {
      "cell_type": "markdown",
      "source": [
        "**Saving the model**"
      ],
      "metadata": {
        "id": "9iYjITrsr7Cp"
      },
      "id": "9iYjITrsr7Cp"
    },
    {
      "cell_type": "code",
      "source": [
        "import joblib\n",
        "joblib.dump(RF1_model,'pop2_model')"
      ],
      "metadata": {
        "colab": {
          "base_uri": "https://localhost:8080/"
        },
        "id": "yUQDCxiosB6t",
        "outputId": "32649197-1fd7-4d6c-fe2f-ac99dbe82d0e"
      },
      "id": "yUQDCxiosB6t",
      "execution_count": null,
      "outputs": [
        {
          "output_type": "execute_result",
          "data": {
            "text/plain": [
              "['pop2_model']"
            ]
          },
          "metadata": {},
          "execution_count": 142
        }
      ]
    },
    {
      "cell_type": "markdown",
      "source": [
        "**Reloding**"
      ],
      "metadata": {
        "id": "-5M6CFKFxfO9"
      },
      "id": "-5M6CFKFxfO9"
    },
    {
      "cell_type": "code",
      "source": [
        "joblib_reload=joblib.load('/content/drive/MyDrive/Colab Notebooks/project/ML/song popularity and streams prediction/pop2_model')\n",
        "joblib_reload.predict([x_test[2]])"
      ],
      "metadata": {
        "colab": {
          "base_uri": "https://localhost:8080/"
        },
        "id": "zrAZkm6hwlfN",
        "outputId": "2db454ea-423a-4f2a-c537-ef64105aaddd"
      },
      "id": "zrAZkm6hwlfN",
      "execution_count": null,
      "outputs": [
        {
          "output_type": "execute_result",
          "data": {
            "text/plain": [
              "array([73.2609121])"
            ]
          },
          "metadata": {},
          "execution_count": 143
        }
      ]
    },
    {
      "cell_type": "code",
      "source": [
        "x_test[0]"
      ],
      "metadata": {
        "colab": {
          "base_uri": "https://localhost:8080/"
        },
        "id": "VKMru1L8xJfF",
        "outputId": "5ab9d044-b73e-4a98-dbfc-3c05fe99b12c"
      },
      "id": "VKMru1L8xJfF",
      "execution_count": null,
      "outputs": [
        {
          "output_type": "execute_result",
          "data": {
            "text/plain": [
              "array([0.07310049, 0.92875318, 0.72707424, 0.77645736, 0.20722312,\n",
              "       0.42492195, 0.18181818])"
            ]
          },
          "metadata": {},
          "execution_count": 144
        }
      ]
    },
    {
      "cell_type": "markdown",
      "source": [
        "**Function for prediction**"
      ],
      "metadata": {
        "id": "u3t4FgsT4kKO"
      },
      "id": "u3t4FgsT4kKO"
    },
    {
      "cell_type": "code",
      "source": [
        "def prediction(values):\n",
        "  joblib_reloaded=joblib.load('/content/drive/MyDrive/Colab Notebooks/project/ML/song popularity and streams prediction/pop2_model')\n",
        "  result=joblib_reloaded.predict([values])\n",
        "  result=result[0]\n",
        "  print('The popularity of the song is {} % ' .format(result))"
      ],
      "metadata": {
        "id": "OyDVfkG3x4ir"
      },
      "id": "OyDVfkG3x4ir",
      "execution_count": null,
      "outputs": []
    },
    {
      "cell_type": "code",
      "source": [
        "values=0.07310049, 0.92875318, 0.72707424, 0.77645736, 0.20722312,0.42492195, 0.18181818\n",
        "prediction(values)"
      ],
      "metadata": {
        "colab": {
          "base_uri": "https://localhost:8080/"
        },
        "id": "uhkNCodT4Fry",
        "outputId": "501177f5-fb1b-4532-d671-c439604bc6e1"
      },
      "id": "uhkNCodT4Fry",
      "execution_count": null,
      "outputs": [
        {
          "output_type": "stream",
          "name": "stdout",
          "text": [
            "The popularity of the song is 79.64635129997806 % \n"
          ]
        }
      ]
    },
    {
      "cell_type": "markdown",
      "source": [
        "**Function for predicting non-preprocessed data**"
      ],
      "metadata": {
        "id": "gUam4WJv_SBk"
      },
      "id": "gUam4WJv_SBk"
    },
    {
      "cell_type": "code",
      "source": [
        "def pred(Followers,\tGenre, Energy, Loudness, Acousticness, Duration,\tmonth):\n",
        "  gener=le_Genre.transform([Genre])\n",
        "  values=scaler.transform([[Followers,gener[0],Energy,Loudness,Acousticness,Duration,month]])\n",
        "  joblib_reloaded=joblib.load('/content/drive/MyDrive/Colab Notebooks/project/ML/song popularity and streams prediction/pop2_model')\n",
        "  result=joblib_reloaded.predict(values)\n",
        "  result=result[0]\n",
        "  print('The popularity of the song is {} % ' .format(result))"
      ],
      "metadata": {
        "id": "-Hsb-2aF9DoS"
      },
      "id": "-Hsb-2aF9DoS",
      "execution_count": null,
      "outputs": []
    },
    {
      "cell_type": "code",
      "source": [
        "pred(3377762.0, \"['pop', 'uk pop']\",0.8,-4.808, 0.127, 211560.0, 12)"
      ],
      "metadata": {
        "colab": {
          "base_uri": "https://localhost:8080/"
        },
        "id": "dMo_8H9B-3Cp",
        "outputId": "f77b3b59-2147-472f-a229-300aee7ecab6"
      },
      "id": "dMo_8H9B-3Cp",
      "execution_count": null,
      "outputs": [
        {
          "output_type": "stream",
          "name": "stdout",
          "text": [
            "The popularity of the song is 78.36327390411473 % \n"
          ]
        },
        {
          "output_type": "stream",
          "name": "stderr",
          "text": [
            "/usr/local/lib/python3.9/dist-packages/sklearn/base.py:439: UserWarning: X does not have valid feature names, but MinMaxScaler was fitted with feature names\n",
            "  warnings.warn(\n"
          ]
        }
      ]
    },
    {
      "cell_type": "code",
      "source": [],
      "metadata": {
        "id": "rMjjw-Fz_qhx"
      },
      "id": "rMjjw-Fz_qhx",
      "execution_count": null,
      "outputs": []
    },
    {
      "cell_type": "code",
      "source": [],
      "metadata": {
        "id": "WFsDIzDQ_qll"
      },
      "id": "WFsDIzDQ_qll",
      "execution_count": null,
      "outputs": []
    },
    {
      "cell_type": "markdown",
      "source": [
        "dataset"
      ],
      "metadata": {
        "id": "ah-Scv1EAC39"
      },
      "id": "ah-Scv1EAC39"
    },
    {
      "cell_type": "code",
      "source": [
        "data.head()"
      ],
      "metadata": {
        "colab": {
          "base_uri": "https://localhost:8080/",
          "height": 206
        },
        "id": "FK2fMY4b8rAa",
        "outputId": "e4f7732c-f7ac-4cb8-de3c-45b2394bf638"
      },
      "id": "FK2fMY4b8rAa",
      "execution_count": null,
      "outputs": [
        {
          "output_type": "execute_result",
          "data": {
            "text/plain": [
              "   Artist Followers  Genre  Popularity  Energy  Loudness  Acousticness  \\\n",
              "0         3377762.0    276       100.0   0.800    -4.808        0.1270   \n",
              "1         2230022.0     63        99.0   0.764    -5.484        0.0383   \n",
              "2         6266514.0    364        99.0   0.664    -5.044        0.3350   \n",
              "3        83293380.0    363        98.0   0.897    -3.712        0.0469   \n",
              "4         5473565.0    312        96.0   0.704    -7.409        0.0203   \n",
              "\n",
              "   Duration (ms)  month  \n",
              "0       211560.0     12  \n",
              "1       141806.0      7  \n",
              "2       178147.0      5  \n",
              "3       231041.0      6  \n",
              "4       212000.0      7  "
            ],
            "text/html": [
              "\n",
              "  <div id=\"df-e7f896f2-517e-47f5-a7a2-b3704eb3144d\">\n",
              "    <div class=\"colab-df-container\">\n",
              "      <div>\n",
              "<style scoped>\n",
              "    .dataframe tbody tr th:only-of-type {\n",
              "        vertical-align: middle;\n",
              "    }\n",
              "\n",
              "    .dataframe tbody tr th {\n",
              "        vertical-align: top;\n",
              "    }\n",
              "\n",
              "    .dataframe thead th {\n",
              "        text-align: right;\n",
              "    }\n",
              "</style>\n",
              "<table border=\"1\" class=\"dataframe\">\n",
              "  <thead>\n",
              "    <tr style=\"text-align: right;\">\n",
              "      <th></th>\n",
              "      <th>Artist Followers</th>\n",
              "      <th>Genre</th>\n",
              "      <th>Popularity</th>\n",
              "      <th>Energy</th>\n",
              "      <th>Loudness</th>\n",
              "      <th>Acousticness</th>\n",
              "      <th>Duration (ms)</th>\n",
              "      <th>month</th>\n",
              "    </tr>\n",
              "  </thead>\n",
              "  <tbody>\n",
              "    <tr>\n",
              "      <th>0</th>\n",
              "      <td>3377762.0</td>\n",
              "      <td>276</td>\n",
              "      <td>100.0</td>\n",
              "      <td>0.800</td>\n",
              "      <td>-4.808</td>\n",
              "      <td>0.1270</td>\n",
              "      <td>211560.0</td>\n",
              "      <td>12</td>\n",
              "    </tr>\n",
              "    <tr>\n",
              "      <th>1</th>\n",
              "      <td>2230022.0</td>\n",
              "      <td>63</td>\n",
              "      <td>99.0</td>\n",
              "      <td>0.764</td>\n",
              "      <td>-5.484</td>\n",
              "      <td>0.0383</td>\n",
              "      <td>141806.0</td>\n",
              "      <td>7</td>\n",
              "    </tr>\n",
              "    <tr>\n",
              "      <th>2</th>\n",
              "      <td>6266514.0</td>\n",
              "      <td>364</td>\n",
              "      <td>99.0</td>\n",
              "      <td>0.664</td>\n",
              "      <td>-5.044</td>\n",
              "      <td>0.3350</td>\n",
              "      <td>178147.0</td>\n",
              "      <td>5</td>\n",
              "    </tr>\n",
              "    <tr>\n",
              "      <th>3</th>\n",
              "      <td>83293380.0</td>\n",
              "      <td>363</td>\n",
              "      <td>98.0</td>\n",
              "      <td>0.897</td>\n",
              "      <td>-3.712</td>\n",
              "      <td>0.0469</td>\n",
              "      <td>231041.0</td>\n",
              "      <td>6</td>\n",
              "    </tr>\n",
              "    <tr>\n",
              "      <th>4</th>\n",
              "      <td>5473565.0</td>\n",
              "      <td>312</td>\n",
              "      <td>96.0</td>\n",
              "      <td>0.704</td>\n",
              "      <td>-7.409</td>\n",
              "      <td>0.0203</td>\n",
              "      <td>212000.0</td>\n",
              "      <td>7</td>\n",
              "    </tr>\n",
              "  </tbody>\n",
              "</table>\n",
              "</div>\n",
              "      <button class=\"colab-df-convert\" onclick=\"convertToInteractive('df-e7f896f2-517e-47f5-a7a2-b3704eb3144d')\"\n",
              "              title=\"Convert this dataframe to an interactive table.\"\n",
              "              style=\"display:none;\">\n",
              "        \n",
              "  <svg xmlns=\"http://www.w3.org/2000/svg\" height=\"24px\"viewBox=\"0 0 24 24\"\n",
              "       width=\"24px\">\n",
              "    <path d=\"M0 0h24v24H0V0z\" fill=\"none\"/>\n",
              "    <path d=\"M18.56 5.44l.94 2.06.94-2.06 2.06-.94-2.06-.94-.94-2.06-.94 2.06-2.06.94zm-11 1L8.5 8.5l.94-2.06 2.06-.94-2.06-.94L8.5 2.5l-.94 2.06-2.06.94zm10 10l.94 2.06.94-2.06 2.06-.94-2.06-.94-.94-2.06-.94 2.06-2.06.94z\"/><path d=\"M17.41 7.96l-1.37-1.37c-.4-.4-.92-.59-1.43-.59-.52 0-1.04.2-1.43.59L10.3 9.45l-7.72 7.72c-.78.78-.78 2.05 0 2.83L4 21.41c.39.39.9.59 1.41.59.51 0 1.02-.2 1.41-.59l7.78-7.78 2.81-2.81c.8-.78.8-2.07 0-2.86zM5.41 20L4 18.59l7.72-7.72 1.47 1.35L5.41 20z\"/>\n",
              "  </svg>\n",
              "      </button>\n",
              "      \n",
              "  <style>\n",
              "    .colab-df-container {\n",
              "      display:flex;\n",
              "      flex-wrap:wrap;\n",
              "      gap: 12px;\n",
              "    }\n",
              "\n",
              "    .colab-df-convert {\n",
              "      background-color: #E8F0FE;\n",
              "      border: none;\n",
              "      border-radius: 50%;\n",
              "      cursor: pointer;\n",
              "      display: none;\n",
              "      fill: #1967D2;\n",
              "      height: 32px;\n",
              "      padding: 0 0 0 0;\n",
              "      width: 32px;\n",
              "    }\n",
              "\n",
              "    .colab-df-convert:hover {\n",
              "      background-color: #E2EBFA;\n",
              "      box-shadow: 0px 1px 2px rgba(60, 64, 67, 0.3), 0px 1px 3px 1px rgba(60, 64, 67, 0.15);\n",
              "      fill: #174EA6;\n",
              "    }\n",
              "\n",
              "    [theme=dark] .colab-df-convert {\n",
              "      background-color: #3B4455;\n",
              "      fill: #D2E3FC;\n",
              "    }\n",
              "\n",
              "    [theme=dark] .colab-df-convert:hover {\n",
              "      background-color: #434B5C;\n",
              "      box-shadow: 0px 1px 3px 1px rgba(0, 0, 0, 0.15);\n",
              "      filter: drop-shadow(0px 1px 2px rgba(0, 0, 0, 0.3));\n",
              "      fill: #FFFFFF;\n",
              "    }\n",
              "  </style>\n",
              "\n",
              "      <script>\n",
              "        const buttonEl =\n",
              "          document.querySelector('#df-e7f896f2-517e-47f5-a7a2-b3704eb3144d button.colab-df-convert');\n",
              "        buttonEl.style.display =\n",
              "          google.colab.kernel.accessAllowed ? 'block' : 'none';\n",
              "\n",
              "        async function convertToInteractive(key) {\n",
              "          const element = document.querySelector('#df-e7f896f2-517e-47f5-a7a2-b3704eb3144d');\n",
              "          const dataTable =\n",
              "            await google.colab.kernel.invokeFunction('convertToInteractive',\n",
              "                                                     [key], {});\n",
              "          if (!dataTable) return;\n",
              "\n",
              "          const docLinkHtml = 'Like what you see? Visit the ' +\n",
              "            '<a target=\"_blank\" href=https://colab.research.google.com/notebooks/data_table.ipynb>data table notebook</a>'\n",
              "            + ' to learn more about interactive tables.';\n",
              "          element.innerHTML = '';\n",
              "          dataTable['output_type'] = 'display_data';\n",
              "          await google.colab.output.renderOutput(dataTable, element);\n",
              "          const docLink = document.createElement('div');\n",
              "          docLink.innerHTML = docLinkHtml;\n",
              "          element.appendChild(docLink);\n",
              "        }\n",
              "      </script>\n",
              "    </div>\n",
              "  </div>\n",
              "  "
            ]
          },
          "metadata": {},
          "execution_count": 167
        }
      ]
    },
    {
      "cell_type": "code",
      "source": [],
      "metadata": {
        "id": "fRA8O31k_uoK"
      },
      "id": "fRA8O31k_uoK",
      "execution_count": null,
      "outputs": []
    },
    {
      "cell_type": "code",
      "source": [
        "# gener=le_Genre.transform([\"['pop', 'uk pop']\"])\n",
        "# values=scaler.transform([[5473565.0,gener[0],0.736,-7.409,0.0615,212000.0,5]])\n",
        "# joblib_reloaded=joblib.load('/content/drive/MyDrive/Colab Notebooks/project/ML/song popularity and streams prediction/pop2_model')\n",
        "# result=joblib_reloaded.predict(values)\n",
        "# result=result[0]\n",
        "# print('The popularity of the song is {} % ' .format(result))"
      ],
      "metadata": {
        "id": "fejICIKY7wKG"
      },
      "id": "fejICIKY7wKG",
      "execution_count": null,
      "outputs": []
    }
  ],
  "metadata": {
    "kernelspec": {
      "display_name": "Python 3 (ipykernel)",
      "language": "python",
      "name": "python3"
    },
    "language_info": {
      "codemirror_mode": {
        "name": "ipython",
        "version": 3
      },
      "file_extension": ".py",
      "mimetype": "text/x-python",
      "name": "python",
      "nbconvert_exporter": "python",
      "pygments_lexer": "ipython3",
      "version": "3.9.12"
    },
    "colab": {
      "provenance": []
    },
    "gpuClass": "standard"
  },
  "nbformat": 4,
  "nbformat_minor": 5
}